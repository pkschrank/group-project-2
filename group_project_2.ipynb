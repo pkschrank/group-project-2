{
 "cells": [
  {
   "cell_type": "code",
   "execution_count": null,
   "id": "92216ef8-6013-4ff6-b1f7-0d91479ef60b",
   "metadata": {},
   "outputs": [],
   "source": [
    "# Import the required libraries and dependencies\n",
    "import pandas as pd\n",
    "from sklearn.model_selection import train_test_split\n",
    "from sklearn.preprocessing import StandardScaler\n",
    "from sklearn.neighbors import KNeighborsClassifier\n",
    "from sklearn.tree import DecisionTreeClassifier\n",
    "from sklearn.ensemble import RandomForestClassifier"
   ]
  },
  {
   "cell_type": "code",
   "execution_count": null,
   "id": "afb2abef-6fc6-4d10-a765-618ed74bfffb",
   "metadata": {},
   "outputs": [],
   "source": [
    "# Read the data into a pandas DataFrame\n",
    "# Set the index using the Ticker column\n",
    "#file_name = \"\"\n",
    "#df_stocks = pd.read_csv(file_name)\n",
    "\n",
    "# Review the DataFrame\n",
    "#df_stocks.head()"
   ]
  }
 ],
 "metadata": {
  "kernelspec": {
   "display_name": "Python 3 (ipykernel)",
   "language": "python",
   "name": "python3"
  },
  "language_info": {
   "codemirror_mode": {
    "name": "ipython",
    "version": 3
   },
   "file_extension": ".py",
   "mimetype": "text/x-python",
   "name": "python",
   "nbconvert_exporter": "python",
   "pygments_lexer": "ipython3",
   "version": "3.11.9"
  }
 },
 "nbformat": 4,
 "nbformat_minor": 5
}
