{
 "cells": [
  {
   "cell_type": "markdown",
   "id": "5298bc65",
   "metadata": {},
   "source": [
    "# S&P 500 Signal Classifier"
   ]
  },
  {
   "cell_type": "code",
   "execution_count": null,
   "id": "1d0199c9",
   "metadata": {},
   "outputs": [],
   "source": [
    "Approach:\n",
    "1. Create features\n",
    "2. Winsorize data\n",
    "3. Test, Train split data\n",
    "4. Scale the test and train data\n",
    "6. Original, Oversample, and Undersample the data\n",
    "7. Apply RandomForestClassifier, XGBoost, and LightBoost to predict"
   ]
  },
  {
   "cell_type": "markdown",
   "id": "563b3ef6",
   "metadata": {},
   "source": [
    "## Install Required Packages"
   ]
  },
  {
   "cell_type": "code",
   "execution_count": null,
   "id": "131ee149",
   "metadata": {},
   "outputs": [],
   "source": [
    "# Install Yahoo Finance\n",
    "!pip install yfinance --upgrade --no-cache-dir"
   ]
  },
  {
   "cell_type": "code",
   "execution_count": null,
   "id": "c7a98324",
   "metadata": {},
   "outputs": [],
   "source": [
    "# Install SciKit Learn\n",
    "!pip install scikit-learn"
   ]
  },
  {
   "cell_type": "code",
   "execution_count": null,
   "id": "161121db",
   "metadata": {},
   "outputs": [],
   "source": [
    "# Install XGBoost\n",
    "!pip install xgboost"
   ]
  },
  {
   "cell_type": "code",
   "execution_count": null,
   "id": "0e8425f8",
   "metadata": {},
   "outputs": [],
   "source": [
    "# Install LightBoost\n",
    "!pip install lightgbm"
   ]
  },
  {
   "cell_type": "markdown",
   "id": "42e78632",
   "metadata": {},
   "source": [
    "## Import Required Dependencies"
   ]
  },
  {
   "cell_type": "code",
   "execution_count": 1,
   "id": "92216ef8-6013-4ff6-b1f7-0d91479ef60b",
   "metadata": {},
   "outputs": [],
   "source": [
    "# Import the required libraries and dependencies\n",
    "import yfinance as yf\n",
    "from sklearn.ensemble import RandomForestClassifier\n",
    "from sklearn.metrics import precision_score\n",
    "from sklearn.preprocessing import StandardScaler\n",
    "from sklearn.metrics import accuracy_score, precision_score, recall_score, f1_score\n",
    "from sklearn.metrics import classification_report\n",
    "from sklearn.metrics import balanced_accuracy_score, make_scorer\n",
    "from sklearn.model_selection import train_test_split\n",
    "import pandas as pd\n",
    "import datetime as dt\n",
    "import numpy as np\n",
    "import matplotlib.pyplot as plt\n",
    "%matplotlib inline\n",
    "import seaborn as sns\n",
    "from xgboost import XGBClassifier\n",
    "from xgboost import plot_importance\n",
    "import lightgbm as lgb"
   ]
  },
  {
   "cell_type": "code",
   "execution_count": null,
   "id": "e57c40d5",
   "metadata": {},
   "outputs": [],
   "source": [
    "import warnings\n",
    "# Ignore warnings\n",
    "warnings.filterwarnings(\"ignore\", category=FutureWarning)\n",
    "warnings.filterwarnings(\"ignore\", category=UserWarning)"
   ]
  },
  {
   "cell_type": "markdown",
   "id": "04301d65",
   "metadata": {},
   "source": [
    "## Retrieve and Load Data"
   ]
  },
  {
   "cell_type": "code",
   "execution_count": null,
   "id": "dd7d394f",
   "metadata": {},
   "outputs": [],
   "source": [
    "# Retreive data\n",
    "sp500 = yf.Ticker('^GSPC')\n",
    "sp500 = sp500.history(period='max')"
   ]
  },
  {
   "cell_type": "code",
   "execution_count": null,
   "id": "caa10a99",
   "metadata": {},
   "outputs": [],
   "source": [
    "# Drop timezone from datetime\n",
    "sp500 = sp500.reset_index()\n",
    "sp500['Date'] = sp500['Date'].dt.tz_localize(None)\n",
    "sp500.set_index('Date', inplace=True)"
   ]
  },
  {
   "cell_type": "code",
   "execution_count": null,
   "id": "ab56529d",
   "metadata": {},
   "outputs": [],
   "source": [
    "# Get the last rows of the DataFrame\n",
    "sp500 = sp500.tail(24252) # Get max available data"
   ]
  },
  {
   "cell_type": "code",
   "execution_count": null,
   "id": "4c3684f0",
   "metadata": {},
   "outputs": [],
   "source": [
    "# Display data\n",
    "sp500"
   ]
  },
  {
   "cell_type": "code",
   "execution_count": null,
   "id": "6f291e10",
   "metadata": {},
   "outputs": [],
   "source": [
    "# Create stock df\n",
    "stock_df = pd.DataFrame(sp500).dropna()\n",
    "stock_df"
   ]
  },
  {
   "cell_type": "code",
   "execution_count": null,
   "id": "a1ecb0b4",
   "metadata": {},
   "outputs": [],
   "source": [
    "# Drop columns\n",
    "stock_df.drop(columns={'Volume', 'Dividends', 'Stock Splits'}, inplace=True)\n",
    "\n",
    "# Sort by ascending date\n",
    "stock_df = stock_df.sort_values(by=\"Date\", ascending=True)\n",
    "\n",
    "# Review the first and last five rows of the DataFrame\n",
    "display(stock_df.head())\n",
    "display(stock_df.tail())"
   ]
  },
  {
   "cell_type": "code",
   "execution_count": null,
   "id": "57990403",
   "metadata": {},
   "outputs": [],
   "source": [
    "# Rename dataframe to data\n",
    "data = stock_df"
   ]
  },
  {
   "cell_type": "markdown",
   "id": "63c30b08",
   "metadata": {},
   "source": [
    "## Perform Feature Engineering"
   ]
  },
  {
   "cell_type": "code",
   "execution_count": null,
   "id": "8e1e648a",
   "metadata": {},
   "outputs": [],
   "source": [
    "# Feature Engineering\n",
    "# Moving Averages\n",
    "data['SMA10'] = data['Close'].rolling(window=10).mean()\n",
    "data['SMA20'] = data['Close'].rolling(window=20).mean()\n",
    "data['SMA30'] = data['Close'].rolling(window=20).mean()\n",
    "data['SMA50'] = data['Close'].rolling(window=50).mean()\n",
    "data['SMA100'] = data['Close'].rolling(window=100).mean()\n",
    "data['SMA200'] = data['Close'].rolling(window=200).mean()\n",
    "\n",
    "# RSI\n",
    "def rsi(data, window=14):\n",
    "    delta = data['Close'].diff()\n",
    "    gain = (delta.where(delta > 0, 0)).rolling(window=window).mean()\n",
    "    loss = (-delta.where(delta < 0, 0)).rolling(window=window).mean()\n",
    "    rs = gain / loss\n",
    "    return 100 - (100 / (1 + rs))\n",
    "\n",
    "data['RSI'] = rsi(data)\n",
    "\n",
    "# MACD\n",
    "data['EMA12'] = data['Close'].ewm(span=12, adjust=False).mean()\n",
    "data['EMA26'] = data['Close'].ewm(span=26, adjust=False).mean()\n",
    "data['MACD'] = data['EMA12'] - data['EMA26']\n",
    "data['SL'] = data['MACD'].ewm(span=9, adjust=False).mean()\n",
    "\n",
    "# Bollinger Bands\n",
    "data['BollM'] = data['Close'].rolling(window=20).mean()\n",
    "data['BollU'] = data['BollM'] + (2 * data['Close'].rolling(window=20).std())\n",
    "data['BollL'] = data['BollM'] - (2 * data['Close'].rolling(window=20).std())\n",
    "\n",
    "# Identify crossover signal for Target Column\n",
    "# Close < Bollinger Mid and RSI < 50 and MACD < 0\n",
    "data['Signal'] = np.where((data['Close'] < data['BollM']) & (data['RSI'] < 50) & (data['MACD'] < 0), 1, 0)\n",
    "\n",
    "# Calculate return\n",
    "data['Return'] = data['Close'].pct_change().shift(-1)  # Next day's return\n",
    "\n",
    "# Label Data\n",
    "# Buy ONLY if all Crossover conditions are met\n",
    "# Assume profitable if return > 0%\n",
    "data['Target'] = np.where((data['Signal'] > 0) & (data['Return'] > 0.0), 1, 0)\n",
    "\n",
    "# Prepare dataset\n",
    "features = ['SMA10', 'SMA20', 'SMA30', 'SMA50', 'SMA100', 'SMA200', 'Signal', 'RSI', 'MACD', 'SL', 'BollM', 'BollU', 'BollL']\n",
    "dataset = data.dropna()[features + ['Target']]"
   ]
  },
  {
   "cell_type": "markdown",
   "id": "a79346b2",
   "metadata": {},
   "source": [
    "## Perform Feature Engineering"
   ]
  },
  {
   "cell_type": "code",
   "execution_count": null,
   "id": "9ccabd9c",
   "metadata": {},
   "outputs": [],
   "source": [
    "# Feature Engineering\n",
    "# Moving Averages\n",
    "data['SMA10'] = data['Close'].rolling(window=10).mean()\n",
    "data['SMA20'] = data['Close'].rolling(window=20).mean()\n",
    "data['SMA30'] = data['Close'].rolling(window=20).mean()\n",
    "data['SMA50'] = data['Close'].rolling(window=50).mean()\n",
    "data['SMA100'] = data['Close'].rolling(window=100).mean()\n",
    "data['SMA200'] = data['Close'].rolling(window=200).mean()\n",
    "\n",
    "# RSI\n",
    "def rsi(data, window=14):\n",
    "    delta = data['Close'].diff()\n",
    "    gain = (delta.where(delta > 0, 0)).rolling(window=window).mean()\n",
    "    loss = (-delta.where(delta < 0, 0)).rolling(window=window).mean()\n",
    "    rs = gain / loss\n",
    "    return 100 - (100 / (1 + rs))\n",
    "\n",
    "data['RSI'] = rsi(data)\n",
    "\n",
    "# MACD\n",
    "data['EMA12'] = data['Close'].ewm(span=12, adjust=False).mean()\n",
    "data['EMA26'] = data['Close'].ewm(span=26, adjust=False).mean()\n",
    "data['MACD'] = data['EMA12'] - data['EMA26']\n",
    "data['SL'] = data['MACD'].ewm(span=9, adjust=False).mean()\n",
    "\n",
    "# Bollinger Bands\n",
    "data['BollM'] = data['Close'].rolling(window=20).mean()\n",
    "data['BollU'] = data['BollM'] + (2 * data['Close'].rolling(window=20).std())\n",
    "data['BollL'] = data['BollM'] - (2 * data['Close'].rolling(window=20).std())\n",
    "\n",
    "# Identify crossover signal for Target Column\n",
    "# Close < Bollinger Mid and RSI < 50 and MACD < 0\n",
    "data['Signal'] = np.where((data['Close'] < data['BollM']) & (data['RSI'] < 50) & (data['MACD'] < 0), 1, 0)\n",
    "\n",
    "# Calculate return\n",
    "data['Return'] = data['Close'].pct_change().shift(-1)  # Next day's return\n",
    "\n",
    "# Label Data\n",
    "# Buy ONLY if all Crossover conditions are met\n",
    "# Assume profitable if return > 0%\n",
    "data['Target'] = np.where((data['Signal'] > 0) & (data['Return'] > 0.0), 1, 0)\n",
    "\n",
    "# Prepare dataset\n",
    "features = ['SMA10', 'SMA20', 'SMA30', 'SMA50', 'SMA100', 'SMA200', 'Signal', 'RSI', 'MACD', 'SL', 'BollM', 'BollU', 'BollL']\n",
    "dataset = data.dropna()[features + ['Target']]"
   ]
  },
  {
   "cell_type": "code",
   "execution_count": 2,
   "id": "fd779e7b-ee5b-41e3-beee-768afc0eec48",
   "metadata": {},
   "outputs": [
    {
     "name": "stdout",
     "output_type": "stream",
     "text": [
      "XLK (2520, 7)\n",
      "XLV (2520, 7)\n",
      "XLE (2520, 7)\n",
      "VNQ (2520, 7)\n",
      "XLF (2520, 7)\n",
      "XLB (2520, 7)\n",
      "XLU (2520, 7)\n",
      "XLI (2520, 7)\n",
      "XLP (2520, 7)\n",
      "XLY (2520, 7)\n",
      "XTL (2520, 7)\n"
     ]
    }
   ],
   "source": [
    "# Stock list\n",
    "stock_list = [\n",
    "                'XLK',\n",
    "                'XLV',\n",
    "                'XLE',\n",
    "                'VNQ',\n",
    "                'XLF',\n",
    "                'XLB',\n",
    "                'XLU',\n",
    "                'XLI',\n",
    "                'XLP',\n",
    "                'XLY',\n",
    "                'XTL',\n",
    "              ]\n",
    "\n",
    "# Define dictionary\n",
    "stock_df = {}\n",
    "\n",
    "# Loop through stocks \n",
    "for stock in stock_list:\n",
    "    # Read the data into DataFrames\n",
    "    df = pd.read_csv(f'Resources/{stock}.csv')\n",
    "    \n",
    "    # Trim to last 10 years\n",
    "    stock_df[stock] = df.iloc[-2520:]\n",
    "    \n",
    "    # Confirm shape\n",
    "    print(f'{stock}',stock_df[stock].shape)"
   ]
  },
  {
   "cell_type": "code",
   "execution_count": 3,
   "id": "529a4451-0a6d-47ae-86e8-601b22a2ddfa",
   "metadata": {},
   "outputs": [
    {
     "data": {
      "text/html": [
       "<div>\n",
       "<style scoped>\n",
       "    .dataframe tbody tr th:only-of-type {\n",
       "        vertical-align: middle;\n",
       "    }\n",
       "\n",
       "    .dataframe tbody tr th {\n",
       "        vertical-align: top;\n",
       "    }\n",
       "\n",
       "    .dataframe thead th {\n",
       "        text-align: right;\n",
       "    }\n",
       "</style>\n",
       "<table border=\"1\" class=\"dataframe\">\n",
       "  <thead>\n",
       "    <tr style=\"text-align: right;\">\n",
       "      <th></th>\n",
       "      <th>Date</th>\n",
       "      <th>Open</th>\n",
       "      <th>High</th>\n",
       "      <th>Low</th>\n",
       "      <th>Close</th>\n",
       "      <th>Adj Close</th>\n",
       "      <th>Volume</th>\n",
       "    </tr>\n",
       "  </thead>\n",
       "  <tbody>\n",
       "    <tr>\n",
       "      <th>3897</th>\n",
       "      <td>2014-06-20</td>\n",
       "      <td>38.200001</td>\n",
       "      <td>38.220001</td>\n",
       "      <td>38.009998</td>\n",
       "      <td>38.090000</td>\n",
       "      <td>33.428440</td>\n",
       "      <td>5427200</td>\n",
       "    </tr>\n",
       "    <tr>\n",
       "      <th>3898</th>\n",
       "      <td>2014-06-23</td>\n",
       "      <td>38.049999</td>\n",
       "      <td>38.200001</td>\n",
       "      <td>38.020000</td>\n",
       "      <td>38.200001</td>\n",
       "      <td>33.524986</td>\n",
       "      <td>3767100</td>\n",
       "    </tr>\n",
       "    <tr>\n",
       "      <th>3899</th>\n",
       "      <td>2014-06-24</td>\n",
       "      <td>38.180000</td>\n",
       "      <td>38.380001</td>\n",
       "      <td>37.910000</td>\n",
       "      <td>38.000000</td>\n",
       "      <td>33.349468</td>\n",
       "      <td>8471300</td>\n",
       "    </tr>\n",
       "    <tr>\n",
       "      <th>3900</th>\n",
       "      <td>2014-06-25</td>\n",
       "      <td>37.919998</td>\n",
       "      <td>38.209999</td>\n",
       "      <td>37.880001</td>\n",
       "      <td>38.150002</td>\n",
       "      <td>33.481102</td>\n",
       "      <td>5111900</td>\n",
       "    </tr>\n",
       "    <tr>\n",
       "      <th>3901</th>\n",
       "      <td>2014-06-26</td>\n",
       "      <td>38.180000</td>\n",
       "      <td>38.200001</td>\n",
       "      <td>37.889999</td>\n",
       "      <td>38.110001</td>\n",
       "      <td>33.446007</td>\n",
       "      <td>11352300</td>\n",
       "    </tr>\n",
       "    <tr>\n",
       "      <th>...</th>\n",
       "      <td>...</td>\n",
       "      <td>...</td>\n",
       "      <td>...</td>\n",
       "      <td>...</td>\n",
       "      <td>...</td>\n",
       "      <td>...</td>\n",
       "      <td>...</td>\n",
       "    </tr>\n",
       "    <tr>\n",
       "      <th>6412</th>\n",
       "      <td>2024-06-18</td>\n",
       "      <td>231.350006</td>\n",
       "      <td>232.169998</td>\n",
       "      <td>230.490005</td>\n",
       "      <td>231.410004</td>\n",
       "      <td>231.004745</td>\n",
       "      <td>4338900</td>\n",
       "    </tr>\n",
       "    <tr>\n",
       "      <th>6413</th>\n",
       "      <td>2024-06-20</td>\n",
       "      <td>232.449997</td>\n",
       "      <td>232.589996</td>\n",
       "      <td>228.039993</td>\n",
       "      <td>228.809998</td>\n",
       "      <td>228.409302</td>\n",
       "      <td>6621500</td>\n",
       "    </tr>\n",
       "    <tr>\n",
       "      <th>6414</th>\n",
       "      <td>2024-06-21</td>\n",
       "      <td>228.860001</td>\n",
       "      <td>229.759995</td>\n",
       "      <td>227.369995</td>\n",
       "      <td>228.410004</td>\n",
       "      <td>228.009995</td>\n",
       "      <td>6780400</td>\n",
       "    </tr>\n",
       "    <tr>\n",
       "      <th>6415</th>\n",
       "      <td>2024-06-24</td>\n",
       "      <td>225.639999</td>\n",
       "      <td>226.660004</td>\n",
       "      <td>222.360001</td>\n",
       "      <td>222.419998</td>\n",
       "      <td>222.419998</td>\n",
       "      <td>6874300</td>\n",
       "    </tr>\n",
       "    <tr>\n",
       "      <th>6416</th>\n",
       "      <td>2024-06-25</td>\n",
       "      <td>224.050003</td>\n",
       "      <td>226.619995</td>\n",
       "      <td>222.789993</td>\n",
       "      <td>226.500000</td>\n",
       "      <td>226.500000</td>\n",
       "      <td>4563100</td>\n",
       "    </tr>\n",
       "  </tbody>\n",
       "</table>\n",
       "<p>2520 rows × 7 columns</p>\n",
       "</div>"
      ],
      "text/plain": [
       "            Date        Open        High         Low       Close   Adj Close  \\\n",
       "3897  2014-06-20   38.200001   38.220001   38.009998   38.090000   33.428440   \n",
       "3898  2014-06-23   38.049999   38.200001   38.020000   38.200001   33.524986   \n",
       "3899  2014-06-24   38.180000   38.380001   37.910000   38.000000   33.349468   \n",
       "3900  2014-06-25   37.919998   38.209999   37.880001   38.150002   33.481102   \n",
       "3901  2014-06-26   38.180000   38.200001   37.889999   38.110001   33.446007   \n",
       "...          ...         ...         ...         ...         ...         ...   \n",
       "6412  2024-06-18  231.350006  232.169998  230.490005  231.410004  231.004745   \n",
       "6413  2024-06-20  232.449997  232.589996  228.039993  228.809998  228.409302   \n",
       "6414  2024-06-21  228.860001  229.759995  227.369995  228.410004  228.009995   \n",
       "6415  2024-06-24  225.639999  226.660004  222.360001  222.419998  222.419998   \n",
       "6416  2024-06-25  224.050003  226.619995  222.789993  226.500000  226.500000   \n",
       "\n",
       "        Volume  \n",
       "3897   5427200  \n",
       "3898   3767100  \n",
       "3899   8471300  \n",
       "3900   5111900  \n",
       "3901  11352300  \n",
       "...        ...  \n",
       "6412   4338900  \n",
       "6413   6621500  \n",
       "6414   6780400  \n",
       "6415   6874300  \n",
       "6416   4563100  \n",
       "\n",
       "[2520 rows x 7 columns]"
      ]
     },
     "execution_count": 3,
     "metadata": {},
     "output_type": "execute_result"
    }
   ],
   "source": [
    "# Access a specific DataFrame\n",
    "stock_df['XLK']"
   ]
  },
  {
   "cell_type": "code",
   "execution_count": null,
   "id": "645ee26c-90ad-4f98-b600-9ccc20743e2a",
   "metadata": {},
   "outputs": [],
   "source": []
  }
 ],
 "metadata": {
  "kernelspec": {
   "display_name": "Python 3 (ipykernel)",
   "language": "python",
   "name": "python3"
  },
  "language_info": {
   "codemirror_mode": {
    "name": "ipython",
    "version": 3
   },
   "file_extension": ".py",
   "mimetype": "text/x-python",
   "name": "python",
   "nbconvert_exporter": "python",
   "pygments_lexer": "ipython3",
   "version": "3.8.18"
  }
 },
 "nbformat": 4,
 "nbformat_minor": 5
}
