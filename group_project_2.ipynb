{
 "cells": [
  {
   "cell_type": "markdown",
   "id": "af3fe972",
   "metadata": {},
   "source": [
    "# S&P 500 Signal Classifier"
   ]
  },
  {
   "cell_type": "markdown",
   "id": "d4754627",
   "metadata": {},
   "source": [
    "Approach:\n",
    "1. Create features\n",
    "2. Winsorize data\n",
    "3. Test, Train split data\n",
    "4. Scale the test and train data\n",
    "6. Original, Oversample, and Undersample the data\n",
    "7. Apply RandomForestClassifier, XGBoost, and LightBoost to predict"
   ]
  },
  {
   "cell_type": "markdown",
   "id": "4509389a",
   "metadata": {},
   "source": [
    "## Install Required Packages"
   ]
  },
  {
   "cell_type": "code",
   "execution_count": 3,
   "id": "5dc3d910",
   "metadata": {},
   "outputs": [
    {
     "name": "stdout",
     "output_type": "stream",
     "text": [
      "Requirement already satisfied: yfinance in /opt/anaconda3/envs/dev/lib/python3.8/site-packages (0.2.40)\n",
      "Requirement already satisfied: pandas>=1.3.0 in /opt/anaconda3/envs/dev/lib/python3.8/site-packages (from yfinance) (1.4.4)\n",
      "Requirement already satisfied: numpy>=1.16.5 in /opt/anaconda3/envs/dev/lib/python3.8/site-packages (from yfinance) (1.23.5)\n",
      "Requirement already satisfied: requests>=2.31 in /opt/anaconda3/envs/dev/lib/python3.8/site-packages (from yfinance) (2.31.0)\n",
      "Requirement already satisfied: multitasking>=0.0.7 in /opt/anaconda3/envs/dev/lib/python3.8/site-packages (from yfinance) (0.0.11)\n",
      "Requirement already satisfied: lxml>=4.9.1 in /opt/anaconda3/envs/dev/lib/python3.8/site-packages (from yfinance) (4.9.3)\n",
      "Requirement already satisfied: platformdirs>=2.0.0 in /opt/anaconda3/envs/dev/lib/python3.8/site-packages (from yfinance) (3.10.0)\n",
      "Requirement already satisfied: pytz>=2022.5 in /opt/anaconda3/envs/dev/lib/python3.8/site-packages (from yfinance) (2023.3.post1)\n",
      "Requirement already satisfied: frozendict>=2.3.4 in /opt/anaconda3/envs/dev/lib/python3.8/site-packages (from yfinance) (2.4.4)\n",
      "Requirement already satisfied: peewee>=3.16.2 in /opt/anaconda3/envs/dev/lib/python3.8/site-packages (from yfinance) (3.17.5)\n",
      "Requirement already satisfied: beautifulsoup4>=4.11.1 in /opt/anaconda3/envs/dev/lib/python3.8/site-packages (from yfinance) (4.12.2)\n",
      "Requirement already satisfied: html5lib>=1.1 in /opt/anaconda3/envs/dev/lib/python3.8/site-packages (from yfinance) (1.1)\n",
      "Requirement already satisfied: soupsieve>1.2 in /opt/anaconda3/envs/dev/lib/python3.8/site-packages (from beautifulsoup4>=4.11.1->yfinance) (2.5)\n",
      "Requirement already satisfied: six>=1.9 in /opt/anaconda3/envs/dev/lib/python3.8/site-packages (from html5lib>=1.1->yfinance) (1.16.0)\n",
      "Requirement already satisfied: webencodings in /opt/anaconda3/envs/dev/lib/python3.8/site-packages (from html5lib>=1.1->yfinance) (0.5.1)\n",
      "Requirement already satisfied: python-dateutil>=2.8.1 in /opt/anaconda3/envs/dev/lib/python3.8/site-packages (from pandas>=1.3.0->yfinance) (2.8.2)\n",
      "Requirement already satisfied: charset-normalizer<4,>=2 in /opt/anaconda3/envs/dev/lib/python3.8/site-packages (from requests>=2.31->yfinance) (2.0.4)\n",
      "Requirement already satisfied: idna<4,>=2.5 in /opt/anaconda3/envs/dev/lib/python3.8/site-packages (from requests>=2.31->yfinance) (3.4)\n",
      "Requirement already satisfied: urllib3<3,>=1.21.1 in /opt/anaconda3/envs/dev/lib/python3.8/site-packages (from requests>=2.31->yfinance) (1.26.18)\n",
      "Requirement already satisfied: certifi>=2017.4.17 in /opt/anaconda3/envs/dev/lib/python3.8/site-packages (from requests>=2.31->yfinance) (2024.6.2)\n"
     ]
    }
   ],
   "source": [
    "# Install Yahoo Finance\n",
    "!pip install yfinance --upgrade --no-cache-dir"
   ]
  },
  {
   "cell_type": "code",
   "execution_count": 4,
   "id": "5f154d30",
   "metadata": {},
   "outputs": [
    {
     "name": "stdout",
     "output_type": "stream",
     "text": [
      "Requirement already satisfied: scikit-learn in /opt/anaconda3/envs/dev/lib/python3.8/site-packages (1.2.2)\n",
      "Requirement already satisfied: numpy>=1.17.3 in /opt/anaconda3/envs/dev/lib/python3.8/site-packages (from scikit-learn) (1.23.5)\n",
      "Requirement already satisfied: scipy>=1.3.2 in /opt/anaconda3/envs/dev/lib/python3.8/site-packages (from scikit-learn) (1.9.1)\n",
      "Requirement already satisfied: joblib>=1.1.1 in /opt/anaconda3/envs/dev/lib/python3.8/site-packages (from scikit-learn) (1.2.0)\n",
      "Requirement already satisfied: threadpoolctl>=2.0.0 in /opt/anaconda3/envs/dev/lib/python3.8/site-packages (from scikit-learn) (2.2.0)\n"
     ]
    }
   ],
   "source": [
    "# Install SciKit Learn\n",
    "!pip install scikit-learn"
   ]
  },
  {
   "cell_type": "code",
   "execution_count": 5,
   "id": "b975e971",
   "metadata": {},
   "outputs": [
    {
     "name": "stdout",
     "output_type": "stream",
     "text": [
      "Requirement already satisfied: xgboost in /opt/anaconda3/envs/dev/lib/python3.8/site-packages (2.1.0)\r\n",
      "Requirement already satisfied: numpy in /opt/anaconda3/envs/dev/lib/python3.8/site-packages (from xgboost) (1.23.5)\r\n",
      "Requirement already satisfied: scipy in /opt/anaconda3/envs/dev/lib/python3.8/site-packages (from xgboost) (1.9.1)\r\n"
     ]
    }
   ],
   "source": [
    "# Install XGBoost\n",
    "!pip install xgboost"
   ]
  },
  {
   "cell_type": "code",
   "execution_count": 6,
   "id": "ff68c661",
   "metadata": {},
   "outputs": [
    {
     "name": "stdout",
     "output_type": "stream",
     "text": [
      "Requirement already satisfied: lightgbm in /opt/anaconda3/envs/dev/lib/python3.8/site-packages (4.4.0)\r\n",
      "Requirement already satisfied: numpy>=1.17.0 in /opt/anaconda3/envs/dev/lib/python3.8/site-packages (from lightgbm) (1.23.5)\r\n",
      "Requirement already satisfied: scipy in /opt/anaconda3/envs/dev/lib/python3.8/site-packages (from lightgbm) (1.9.1)\r\n"
     ]
    }
   ],
   "source": [
    "# Install LightBoost\n",
    "!pip install lightgbm"
   ]
  },
  {
   "cell_type": "markdown",
   "id": "343bf2d9",
   "metadata": {},
   "source": [
    "## Import Required Dependencies"
   ]
  },
  {
   "cell_type": "code",
   "execution_count": 7,
   "id": "92216ef8-6013-4ff6-b1f7-0d91479ef60b",
   "metadata": {},
   "outputs": [],
   "source": [
    "# Import the required libraries and dependencies\n",
    "import yfinance as yf\n",
    "from sklearn.ensemble import RandomForestClassifier\n",
    "from sklearn.metrics import precision_score\n",
    "from sklearn.preprocessing import StandardScaler\n",
    "from sklearn.metrics import accuracy_score, precision_score, recall_score, f1_score\n",
    "from sklearn.metrics import classification_report\n",
    "from sklearn.metrics import balanced_accuracy_score, make_scorer\n",
    "from sklearn.model_selection import train_test_split\n",
    "import pandas as pd\n",
    "import datetime as dt\n",
    "import numpy as np\n",
    "import matplotlib.pyplot as plt\n",
    "%matplotlib inline\n",
    "import seaborn as sns\n",
    "from xgboost import XGBClassifier\n",
    "from xgboost import plot_importance\n",
    "import lightgbm as lgb"
   ]
  },
  {
   "cell_type": "code",
   "execution_count": 8,
   "id": "19a197ac",
   "metadata": {},
   "outputs": [],
   "source": [
    "import warnings\n",
    "# Ignore warnings\n",
    "warnings.filterwarnings(\"ignore\", category=FutureWarning)\n",
    "warnings.filterwarnings(\"ignore\", category=UserWarning)"
   ]
  },
  {
   "cell_type": "markdown",
   "id": "14763c16",
   "metadata": {},
   "source": [
    "## Retrieve and Load Data"
   ]
  },
  {
   "cell_type": "code",
   "execution_count": 9,
   "id": "f786f89b",
   "metadata": {},
   "outputs": [],
   "source": [
    "# Retreive data\n",
    "sp500 = yf.Ticker('^GSPC')\n",
    "sp500 = sp500.history(period='max')"
   ]
  },
  {
   "cell_type": "code",
   "execution_count": 10,
   "id": "e9585e6b",
   "metadata": {},
   "outputs": [],
   "source": [
    "# Drop timezone from datetime\n",
    "sp500 = sp500.reset_index()\n",
    "sp500['Date'] = sp500['Date'].dt.tz_localize(None)\n",
    "sp500.set_index('Date', inplace=True)"
   ]
  },
  {
   "cell_type": "code",
   "execution_count": 11,
   "id": "c9de240f",
   "metadata": {},
   "outputs": [],
   "source": [
    "# Get the last rows of the DataFrame\n",
    "sp500 = sp500.tail(24252) # Get max available data"
   ]
  },
  {
   "cell_type": "code",
   "execution_count": 12,
   "id": "302e640c",
   "metadata": {},
   "outputs": [
    {
     "data": {
      "text/html": [
       "<div>\n",
       "<style scoped>\n",
       "    .dataframe tbody tr th:only-of-type {\n",
       "        vertical-align: middle;\n",
       "    }\n",
       "\n",
       "    .dataframe tbody tr th {\n",
       "        vertical-align: top;\n",
       "    }\n",
       "\n",
       "    .dataframe thead th {\n",
       "        text-align: right;\n",
       "    }\n",
       "</style>\n",
       "<table border=\"1\" class=\"dataframe\">\n",
       "  <thead>\n",
       "    <tr style=\"text-align: right;\">\n",
       "      <th></th>\n",
       "      <th>Open</th>\n",
       "      <th>High</th>\n",
       "      <th>Low</th>\n",
       "      <th>Close</th>\n",
       "      <th>Volume</th>\n",
       "      <th>Dividends</th>\n",
       "      <th>Stock Splits</th>\n",
       "    </tr>\n",
       "    <tr>\n",
       "      <th>Date</th>\n",
       "      <th></th>\n",
       "      <th></th>\n",
       "      <th></th>\n",
       "      <th></th>\n",
       "      <th></th>\n",
       "      <th></th>\n",
       "      <th></th>\n",
       "    </tr>\n",
       "  </thead>\n",
       "  <tbody>\n",
       "    <tr>\n",
       "      <th>1927-12-30</th>\n",
       "      <td>17.660000</td>\n",
       "      <td>17.660000</td>\n",
       "      <td>17.660000</td>\n",
       "      <td>17.660000</td>\n",
       "      <td>0</td>\n",
       "      <td>0.0</td>\n",
       "      <td>0.0</td>\n",
       "    </tr>\n",
       "    <tr>\n",
       "      <th>1928-01-03</th>\n",
       "      <td>17.760000</td>\n",
       "      <td>17.760000</td>\n",
       "      <td>17.760000</td>\n",
       "      <td>17.760000</td>\n",
       "      <td>0</td>\n",
       "      <td>0.0</td>\n",
       "      <td>0.0</td>\n",
       "    </tr>\n",
       "    <tr>\n",
       "      <th>1928-01-04</th>\n",
       "      <td>17.719999</td>\n",
       "      <td>17.719999</td>\n",
       "      <td>17.719999</td>\n",
       "      <td>17.719999</td>\n",
       "      <td>0</td>\n",
       "      <td>0.0</td>\n",
       "      <td>0.0</td>\n",
       "    </tr>\n",
       "    <tr>\n",
       "      <th>1928-01-05</th>\n",
       "      <td>17.549999</td>\n",
       "      <td>17.549999</td>\n",
       "      <td>17.549999</td>\n",
       "      <td>17.549999</td>\n",
       "      <td>0</td>\n",
       "      <td>0.0</td>\n",
       "      <td>0.0</td>\n",
       "    </tr>\n",
       "    <tr>\n",
       "      <th>1928-01-06</th>\n",
       "      <td>17.660000</td>\n",
       "      <td>17.660000</td>\n",
       "      <td>17.660000</td>\n",
       "      <td>17.660000</td>\n",
       "      <td>0</td>\n",
       "      <td>0.0</td>\n",
       "      <td>0.0</td>\n",
       "    </tr>\n",
       "    <tr>\n",
       "      <th>...</th>\n",
       "      <td>...</td>\n",
       "      <td>...</td>\n",
       "      <td>...</td>\n",
       "      <td>...</td>\n",
       "      <td>...</td>\n",
       "      <td>...</td>\n",
       "      <td>...</td>\n",
       "    </tr>\n",
       "    <tr>\n",
       "      <th>2024-06-25</th>\n",
       "      <td>5460.729980</td>\n",
       "      <td>5472.879883</td>\n",
       "      <td>5446.560059</td>\n",
       "      <td>5469.299805</td>\n",
       "      <td>3591960000</td>\n",
       "      <td>0.0</td>\n",
       "      <td>0.0</td>\n",
       "    </tr>\n",
       "    <tr>\n",
       "      <th>2024-06-26</th>\n",
       "      <td>5460.709961</td>\n",
       "      <td>5483.140137</td>\n",
       "      <td>5451.870117</td>\n",
       "      <td>5477.899902</td>\n",
       "      <td>3563920000</td>\n",
       "      <td>0.0</td>\n",
       "      <td>0.0</td>\n",
       "    </tr>\n",
       "    <tr>\n",
       "      <th>2024-06-27</th>\n",
       "      <td>5473.589844</td>\n",
       "      <td>5490.810059</td>\n",
       "      <td>5467.540039</td>\n",
       "      <td>5482.870117</td>\n",
       "      <td>3589530000</td>\n",
       "      <td>0.0</td>\n",
       "      <td>0.0</td>\n",
       "    </tr>\n",
       "    <tr>\n",
       "      <th>2024-06-28</th>\n",
       "      <td>5488.479980</td>\n",
       "      <td>5523.640137</td>\n",
       "      <td>5451.120117</td>\n",
       "      <td>5460.479980</td>\n",
       "      <td>7199220000</td>\n",
       "      <td>0.0</td>\n",
       "      <td>0.0</td>\n",
       "    </tr>\n",
       "    <tr>\n",
       "      <th>2024-07-01</th>\n",
       "      <td>5471.080078</td>\n",
       "      <td>5479.549805</td>\n",
       "      <td>5446.529785</td>\n",
       "      <td>5475.089844</td>\n",
       "      <td>3488760000</td>\n",
       "      <td>0.0</td>\n",
       "      <td>0.0</td>\n",
       "    </tr>\n",
       "  </tbody>\n",
       "</table>\n",
       "<p>24240 rows × 7 columns</p>\n",
       "</div>"
      ],
      "text/plain": [
       "                   Open         High          Low        Close      Volume  \\\n",
       "Date                                                                         \n",
       "1927-12-30    17.660000    17.660000    17.660000    17.660000           0   \n",
       "1928-01-03    17.760000    17.760000    17.760000    17.760000           0   \n",
       "1928-01-04    17.719999    17.719999    17.719999    17.719999           0   \n",
       "1928-01-05    17.549999    17.549999    17.549999    17.549999           0   \n",
       "1928-01-06    17.660000    17.660000    17.660000    17.660000           0   \n",
       "...                 ...          ...          ...          ...         ...   \n",
       "2024-06-25  5460.729980  5472.879883  5446.560059  5469.299805  3591960000   \n",
       "2024-06-26  5460.709961  5483.140137  5451.870117  5477.899902  3563920000   \n",
       "2024-06-27  5473.589844  5490.810059  5467.540039  5482.870117  3589530000   \n",
       "2024-06-28  5488.479980  5523.640137  5451.120117  5460.479980  7199220000   \n",
       "2024-07-01  5471.080078  5479.549805  5446.529785  5475.089844  3488760000   \n",
       "\n",
       "            Dividends  Stock Splits  \n",
       "Date                                 \n",
       "1927-12-30        0.0           0.0  \n",
       "1928-01-03        0.0           0.0  \n",
       "1928-01-04        0.0           0.0  \n",
       "1928-01-05        0.0           0.0  \n",
       "1928-01-06        0.0           0.0  \n",
       "...               ...           ...  \n",
       "2024-06-25        0.0           0.0  \n",
       "2024-06-26        0.0           0.0  \n",
       "2024-06-27        0.0           0.0  \n",
       "2024-06-28        0.0           0.0  \n",
       "2024-07-01        0.0           0.0  \n",
       "\n",
       "[24240 rows x 7 columns]"
      ]
     },
     "execution_count": 12,
     "metadata": {},
     "output_type": "execute_result"
    }
   ],
   "source": [
    "# Display data\n",
    "sp500"
   ]
  },
  {
   "cell_type": "code",
   "execution_count": 13,
   "id": "2f8a0320",
   "metadata": {},
   "outputs": [
    {
     "data": {
      "text/html": [
       "<div>\n",
       "<style scoped>\n",
       "    .dataframe tbody tr th:only-of-type {\n",
       "        vertical-align: middle;\n",
       "    }\n",
       "\n",
       "    .dataframe tbody tr th {\n",
       "        vertical-align: top;\n",
       "    }\n",
       "\n",
       "    .dataframe thead th {\n",
       "        text-align: right;\n",
       "    }\n",
       "</style>\n",
       "<table border=\"1\" class=\"dataframe\">\n",
       "  <thead>\n",
       "    <tr style=\"text-align: right;\">\n",
       "      <th></th>\n",
       "      <th>Open</th>\n",
       "      <th>High</th>\n",
       "      <th>Low</th>\n",
       "      <th>Close</th>\n",
       "      <th>Volume</th>\n",
       "      <th>Dividends</th>\n",
       "      <th>Stock Splits</th>\n",
       "    </tr>\n",
       "    <tr>\n",
       "      <th>Date</th>\n",
       "      <th></th>\n",
       "      <th></th>\n",
       "      <th></th>\n",
       "      <th></th>\n",
       "      <th></th>\n",
       "      <th></th>\n",
       "      <th></th>\n",
       "    </tr>\n",
       "  </thead>\n",
       "  <tbody>\n",
       "    <tr>\n",
       "      <th>1927-12-30</th>\n",
       "      <td>17.660000</td>\n",
       "      <td>17.660000</td>\n",
       "      <td>17.660000</td>\n",
       "      <td>17.660000</td>\n",
       "      <td>0</td>\n",
       "      <td>0.0</td>\n",
       "      <td>0.0</td>\n",
       "    </tr>\n",
       "    <tr>\n",
       "      <th>1928-01-03</th>\n",
       "      <td>17.760000</td>\n",
       "      <td>17.760000</td>\n",
       "      <td>17.760000</td>\n",
       "      <td>17.760000</td>\n",
       "      <td>0</td>\n",
       "      <td>0.0</td>\n",
       "      <td>0.0</td>\n",
       "    </tr>\n",
       "    <tr>\n",
       "      <th>1928-01-04</th>\n",
       "      <td>17.719999</td>\n",
       "      <td>17.719999</td>\n",
       "      <td>17.719999</td>\n",
       "      <td>17.719999</td>\n",
       "      <td>0</td>\n",
       "      <td>0.0</td>\n",
       "      <td>0.0</td>\n",
       "    </tr>\n",
       "    <tr>\n",
       "      <th>1928-01-05</th>\n",
       "      <td>17.549999</td>\n",
       "      <td>17.549999</td>\n",
       "      <td>17.549999</td>\n",
       "      <td>17.549999</td>\n",
       "      <td>0</td>\n",
       "      <td>0.0</td>\n",
       "      <td>0.0</td>\n",
       "    </tr>\n",
       "    <tr>\n",
       "      <th>1928-01-06</th>\n",
       "      <td>17.660000</td>\n",
       "      <td>17.660000</td>\n",
       "      <td>17.660000</td>\n",
       "      <td>17.660000</td>\n",
       "      <td>0</td>\n",
       "      <td>0.0</td>\n",
       "      <td>0.0</td>\n",
       "    </tr>\n",
       "    <tr>\n",
       "      <th>...</th>\n",
       "      <td>...</td>\n",
       "      <td>...</td>\n",
       "      <td>...</td>\n",
       "      <td>...</td>\n",
       "      <td>...</td>\n",
       "      <td>...</td>\n",
       "      <td>...</td>\n",
       "    </tr>\n",
       "    <tr>\n",
       "      <th>2024-06-25</th>\n",
       "      <td>5460.729980</td>\n",
       "      <td>5472.879883</td>\n",
       "      <td>5446.560059</td>\n",
       "      <td>5469.299805</td>\n",
       "      <td>3591960000</td>\n",
       "      <td>0.0</td>\n",
       "      <td>0.0</td>\n",
       "    </tr>\n",
       "    <tr>\n",
       "      <th>2024-06-26</th>\n",
       "      <td>5460.709961</td>\n",
       "      <td>5483.140137</td>\n",
       "      <td>5451.870117</td>\n",
       "      <td>5477.899902</td>\n",
       "      <td>3563920000</td>\n",
       "      <td>0.0</td>\n",
       "      <td>0.0</td>\n",
       "    </tr>\n",
       "    <tr>\n",
       "      <th>2024-06-27</th>\n",
       "      <td>5473.589844</td>\n",
       "      <td>5490.810059</td>\n",
       "      <td>5467.540039</td>\n",
       "      <td>5482.870117</td>\n",
       "      <td>3589530000</td>\n",
       "      <td>0.0</td>\n",
       "      <td>0.0</td>\n",
       "    </tr>\n",
       "    <tr>\n",
       "      <th>2024-06-28</th>\n",
       "      <td>5488.479980</td>\n",
       "      <td>5523.640137</td>\n",
       "      <td>5451.120117</td>\n",
       "      <td>5460.479980</td>\n",
       "      <td>7199220000</td>\n",
       "      <td>0.0</td>\n",
       "      <td>0.0</td>\n",
       "    </tr>\n",
       "    <tr>\n",
       "      <th>2024-07-01</th>\n",
       "      <td>5471.080078</td>\n",
       "      <td>5479.549805</td>\n",
       "      <td>5446.529785</td>\n",
       "      <td>5475.089844</td>\n",
       "      <td>3488760000</td>\n",
       "      <td>0.0</td>\n",
       "      <td>0.0</td>\n",
       "    </tr>\n",
       "  </tbody>\n",
       "</table>\n",
       "<p>24240 rows × 7 columns</p>\n",
       "</div>"
      ],
      "text/plain": [
       "                   Open         High          Low        Close      Volume  \\\n",
       "Date                                                                         \n",
       "1927-12-30    17.660000    17.660000    17.660000    17.660000           0   \n",
       "1928-01-03    17.760000    17.760000    17.760000    17.760000           0   \n",
       "1928-01-04    17.719999    17.719999    17.719999    17.719999           0   \n",
       "1928-01-05    17.549999    17.549999    17.549999    17.549999           0   \n",
       "1928-01-06    17.660000    17.660000    17.660000    17.660000           0   \n",
       "...                 ...          ...          ...          ...         ...   \n",
       "2024-06-25  5460.729980  5472.879883  5446.560059  5469.299805  3591960000   \n",
       "2024-06-26  5460.709961  5483.140137  5451.870117  5477.899902  3563920000   \n",
       "2024-06-27  5473.589844  5490.810059  5467.540039  5482.870117  3589530000   \n",
       "2024-06-28  5488.479980  5523.640137  5451.120117  5460.479980  7199220000   \n",
       "2024-07-01  5471.080078  5479.549805  5446.529785  5475.089844  3488760000   \n",
       "\n",
       "            Dividends  Stock Splits  \n",
       "Date                                 \n",
       "1927-12-30        0.0           0.0  \n",
       "1928-01-03        0.0           0.0  \n",
       "1928-01-04        0.0           0.0  \n",
       "1928-01-05        0.0           0.0  \n",
       "1928-01-06        0.0           0.0  \n",
       "...               ...           ...  \n",
       "2024-06-25        0.0           0.0  \n",
       "2024-06-26        0.0           0.0  \n",
       "2024-06-27        0.0           0.0  \n",
       "2024-06-28        0.0           0.0  \n",
       "2024-07-01        0.0           0.0  \n",
       "\n",
       "[24240 rows x 7 columns]"
      ]
     },
     "execution_count": 13,
     "metadata": {},
     "output_type": "execute_result"
    }
   ],
   "source": [
    "# Create stock df\n",
    "stock_df = pd.DataFrame(sp500).dropna()\n",
    "stock_df"
   ]
  },
  {
   "cell_type": "code",
   "execution_count": 14,
   "id": "5be6503e",
   "metadata": {},
   "outputs": [
    {
     "data": {
      "text/html": [
       "<div>\n",
       "<style scoped>\n",
       "    .dataframe tbody tr th:only-of-type {\n",
       "        vertical-align: middle;\n",
       "    }\n",
       "\n",
       "    .dataframe tbody tr th {\n",
       "        vertical-align: top;\n",
       "    }\n",
       "\n",
       "    .dataframe thead th {\n",
       "        text-align: right;\n",
       "    }\n",
       "</style>\n",
       "<table border=\"1\" class=\"dataframe\">\n",
       "  <thead>\n",
       "    <tr style=\"text-align: right;\">\n",
       "      <th></th>\n",
       "      <th>Open</th>\n",
       "      <th>High</th>\n",
       "      <th>Low</th>\n",
       "      <th>Close</th>\n",
       "    </tr>\n",
       "    <tr>\n",
       "      <th>Date</th>\n",
       "      <th></th>\n",
       "      <th></th>\n",
       "      <th></th>\n",
       "      <th></th>\n",
       "    </tr>\n",
       "  </thead>\n",
       "  <tbody>\n",
       "    <tr>\n",
       "      <th>1927-12-30</th>\n",
       "      <td>17.660000</td>\n",
       "      <td>17.660000</td>\n",
       "      <td>17.660000</td>\n",
       "      <td>17.660000</td>\n",
       "    </tr>\n",
       "    <tr>\n",
       "      <th>1928-01-03</th>\n",
       "      <td>17.760000</td>\n",
       "      <td>17.760000</td>\n",
       "      <td>17.760000</td>\n",
       "      <td>17.760000</td>\n",
       "    </tr>\n",
       "    <tr>\n",
       "      <th>1928-01-04</th>\n",
       "      <td>17.719999</td>\n",
       "      <td>17.719999</td>\n",
       "      <td>17.719999</td>\n",
       "      <td>17.719999</td>\n",
       "    </tr>\n",
       "    <tr>\n",
       "      <th>1928-01-05</th>\n",
       "      <td>17.549999</td>\n",
       "      <td>17.549999</td>\n",
       "      <td>17.549999</td>\n",
       "      <td>17.549999</td>\n",
       "    </tr>\n",
       "    <tr>\n",
       "      <th>1928-01-06</th>\n",
       "      <td>17.660000</td>\n",
       "      <td>17.660000</td>\n",
       "      <td>17.660000</td>\n",
       "      <td>17.660000</td>\n",
       "    </tr>\n",
       "  </tbody>\n",
       "</table>\n",
       "</div>"
      ],
      "text/plain": [
       "                 Open       High        Low      Close\n",
       "Date                                                  \n",
       "1927-12-30  17.660000  17.660000  17.660000  17.660000\n",
       "1928-01-03  17.760000  17.760000  17.760000  17.760000\n",
       "1928-01-04  17.719999  17.719999  17.719999  17.719999\n",
       "1928-01-05  17.549999  17.549999  17.549999  17.549999\n",
       "1928-01-06  17.660000  17.660000  17.660000  17.660000"
      ]
     },
     "metadata": {},
     "output_type": "display_data"
    },
    {
     "data": {
      "text/html": [
       "<div>\n",
       "<style scoped>\n",
       "    .dataframe tbody tr th:only-of-type {\n",
       "        vertical-align: middle;\n",
       "    }\n",
       "\n",
       "    .dataframe tbody tr th {\n",
       "        vertical-align: top;\n",
       "    }\n",
       "\n",
       "    .dataframe thead th {\n",
       "        text-align: right;\n",
       "    }\n",
       "</style>\n",
       "<table border=\"1\" class=\"dataframe\">\n",
       "  <thead>\n",
       "    <tr style=\"text-align: right;\">\n",
       "      <th></th>\n",
       "      <th>Open</th>\n",
       "      <th>High</th>\n",
       "      <th>Low</th>\n",
       "      <th>Close</th>\n",
       "    </tr>\n",
       "    <tr>\n",
       "      <th>Date</th>\n",
       "      <th></th>\n",
       "      <th></th>\n",
       "      <th></th>\n",
       "      <th></th>\n",
       "    </tr>\n",
       "  </thead>\n",
       "  <tbody>\n",
       "    <tr>\n",
       "      <th>2024-06-25</th>\n",
       "      <td>5460.729980</td>\n",
       "      <td>5472.879883</td>\n",
       "      <td>5446.560059</td>\n",
       "      <td>5469.299805</td>\n",
       "    </tr>\n",
       "    <tr>\n",
       "      <th>2024-06-26</th>\n",
       "      <td>5460.709961</td>\n",
       "      <td>5483.140137</td>\n",
       "      <td>5451.870117</td>\n",
       "      <td>5477.899902</td>\n",
       "    </tr>\n",
       "    <tr>\n",
       "      <th>2024-06-27</th>\n",
       "      <td>5473.589844</td>\n",
       "      <td>5490.810059</td>\n",
       "      <td>5467.540039</td>\n",
       "      <td>5482.870117</td>\n",
       "    </tr>\n",
       "    <tr>\n",
       "      <th>2024-06-28</th>\n",
       "      <td>5488.479980</td>\n",
       "      <td>5523.640137</td>\n",
       "      <td>5451.120117</td>\n",
       "      <td>5460.479980</td>\n",
       "    </tr>\n",
       "    <tr>\n",
       "      <th>2024-07-01</th>\n",
       "      <td>5471.080078</td>\n",
       "      <td>5479.549805</td>\n",
       "      <td>5446.529785</td>\n",
       "      <td>5475.089844</td>\n",
       "    </tr>\n",
       "  </tbody>\n",
       "</table>\n",
       "</div>"
      ],
      "text/plain": [
       "                   Open         High          Low        Close\n",
       "Date                                                          \n",
       "2024-06-25  5460.729980  5472.879883  5446.560059  5469.299805\n",
       "2024-06-26  5460.709961  5483.140137  5451.870117  5477.899902\n",
       "2024-06-27  5473.589844  5490.810059  5467.540039  5482.870117\n",
       "2024-06-28  5488.479980  5523.640137  5451.120117  5460.479980\n",
       "2024-07-01  5471.080078  5479.549805  5446.529785  5475.089844"
      ]
     },
     "metadata": {},
     "output_type": "display_data"
    }
   ],
   "source": [
    "# Drop columns\n",
    "stock_df.drop(columns={'Volume', 'Dividends', 'Stock Splits'}, inplace=True)\n",
    "\n",
    "# Sort by ascending date\n",
    "stock_df = stock_df.sort_values(by=\"Date\", ascending=True)\n",
    "\n",
    "# Review the first and last five rows of the DataFrame\n",
    "display(stock_df.head())\n",
    "display(stock_df.tail())"
   ]
  },
  {
   "cell_type": "code",
   "execution_count": 15,
   "id": "004221ef",
   "metadata": {},
   "outputs": [],
   "source": [
    "# Rename dataframe to data\n",
    "data = stock_df"
   ]
  },
  {
   "cell_type": "markdown",
   "id": "e8845da8",
   "metadata": {},
   "source": [
    "## Perform Feature Engineering"
   ]
  },
  {
   "cell_type": "code",
   "execution_count": 16,
   "id": "8eedf31b",
   "metadata": {},
   "outputs": [],
   "source": [
    "# Feature Engineering\n",
    "# Moving Averages\n",
    "data['SMA10'] = data['Close'].rolling(window=10).mean()\n",
    "data['SMA20'] = data['Close'].rolling(window=20).mean()\n",
    "data['SMA30'] = data['Close'].rolling(window=20).mean()\n",
    "data['SMA50'] = data['Close'].rolling(window=50).mean()\n",
    "data['SMA100'] = data['Close'].rolling(window=100).mean()\n",
    "data['SMA200'] = data['Close'].rolling(window=200).mean()\n",
    "\n",
    "# RSI\n",
    "def rsi(data, window=14):\n",
    "    delta = data['Close'].diff()\n",
    "    gain = (delta.where(delta > 0, 0)).rolling(window=window).mean()\n",
    "    loss = (-delta.where(delta < 0, 0)).rolling(window=window).mean()\n",
    "    rs = gain / loss\n",
    "    return 100 - (100 / (1 + rs))\n",
    "\n",
    "data['RSI'] = rsi(data)\n",
    "\n",
    "# MACD\n",
    "data['EMA12'] = data['Close'].ewm(span=12, adjust=False).mean()\n",
    "data['EMA26'] = data['Close'].ewm(span=26, adjust=False).mean()\n",
    "data['MACD'] = data['EMA12'] - data['EMA26']\n",
    "data['SL'] = data['MACD'].ewm(span=9, adjust=False).mean()\n",
    "\n",
    "# Bollinger Bands\n",
    "data['BollM'] = data['Close'].rolling(window=20).mean()\n",
    "data['BollU'] = data['BollM'] + (2 * data['Close'].rolling(window=20).std())\n",
    "data['BollL'] = data['BollM'] - (2 * data['Close'].rolling(window=20).std())\n",
    "\n",
    "# Identify crossover signal for Target Column\n",
    "# Close < Bollinger Mid and RSI < 50 and MACD < 0\n",
    "data['Signal'] = np.where((data['Close'] < data['BollM']) & (data['RSI'] < 50) & (data['MACD'] < 0), 1, 0)\n",
    "\n",
    "# Calculate return\n",
    "data['Return'] = data['Close'].pct_change().shift(-1)  # Next day's return\n",
    "\n",
    "# Label Data\n",
    "# Buy ONLY if all Crossover conditions are met\n",
    "# Assume profitable if return > 0%\n",
    "data['Target'] = np.where((data['Signal'] > 0) & (data['Return'] > 0.0), 1, 0)\n",
    "\n",
    "# Prepare dataset\n",
    "features = ['SMA10', 'SMA20', 'SMA30', 'SMA50', 'SMA100', 'SMA200', 'RSI', 'MACD', 'SL', 'BollM', 'BollU', 'BollL']\n",
    "dataset = data.dropna()[features + ['Target']]"
   ]
  },
  {
   "cell_type": "markdown",
   "id": "ddbb0afd",
   "metadata": {},
   "source": [
    "## Perform Winsorization of Data"
   ]
  },
  {
   "cell_type": "code",
   "execution_count": 18,
   "id": "4b531fc5",
   "metadata": {},
   "outputs": [],
   "source": [
    "from scipy.stats.mstats import winsorize\n",
    "dataset['SMA10'] = winsorize(np.array(dataset['SMA10']), limits=[.05, .05])\n",
    "dataset['SMA20'] = winsorize(np.array(dataset['SMA20']), limits=[.05, .05])\n",
    "dataset['SMA30'] = winsorize(np.array(dataset['SMA30']), limits=[.05, .05])\n",
    "dataset['SMA50'] = winsorize(np.array(dataset['SMA50']), limits=[.05, .05])\n",
    "dataset['SMA100'] = winsorize(np.array(dataset['SMA100']), limits=[.05, .05])\n",
    "dataset['SMA200'] = winsorize(np.array(dataset['SMA200']), limits=[.05, .05])\n",
    "dataset['MACD'] = winsorize(np.array(dataset['MACD']), limits=[.05, .05])\n",
    "dataset['BollM'] = winsorize(np.array(dataset['BollM']), limits=[.05, .05])\n",
    "dataset['BollU'] = winsorize(np.array(dataset['BollU']), limits=[.05, .05])\n",
    "dataset['BollL'] = winsorize(np.array(dataset['BollL']), limits=[.05, .05])\n",
    "dataset['SL'] = winsorize(np.array(dataset['SL']), limits=[.05, .05])"
   ]
  },
  {
   "cell_type": "code",
   "execution_count": 19,
   "id": "0dc086bb",
   "metadata": {},
   "outputs": [
    {
     "data": {
      "image/png": "[encoded data removed]",
      "text/plain": [
       "<Figure size 2000x600 with 1 Axes>"
      ]
     },
     "metadata": {},
     "output_type": "display_data"
    }
   ],
   "source": [
    "plt.figure(figsize=(20, 6))\n",
    "sns.boxplot(dataset)\n",
    "plt.title(\"Boxplot for Outlier Detection - Train\")\n",
    "plt.show()"
   ]
  },
  {
   "cell_type": "markdown",
   "id": "228dfd62",
   "metadata": {},
   "source": [
    "## Perform Train and Test Splits"
   ]
  },
  {
   "cell_type": "code",
   "execution_count": 20,
   "id": "67b5b646",
   "metadata": {},
   "outputs": [],
   "source": [
    "# Define train and test sets\n",
    "X = dataset[features]\n",
    "y = dataset['Target']\n",
    "\n",
    "# Splitting data\n",
    "X_train, X_test, y_train, y_test = train_test_split(X, y, test_size=0.2, shuffle=False)"
   ]
  },
  {
   "cell_type": "markdown",
   "id": "fb47d764",
   "metadata": {},
   "source": [
    "## Perform Scaling"
   ]
  },
  {
   "cell_type": "code",
   "execution_count": 23,
   "id": "ae60ccb5",
   "metadata": {},
   "outputs": [],
   "source": [
    "# Apply StandardScaler\n",
    "scaler = StandardScaler()\n",
    "X_train_scaled = scaler.fit_transform(X_train)\n",
    "X_test_scaled = scaler.transform(X_test)\n",
    "\n",
    "# Convert scaled arrays back to DataFrames to maintain column names\n",
    "X_train_scaled = pd.DataFrame(X_train_scaled, columns=features, index=X_train.index)\n",
    "X_test_scaled = pd.DataFrame(X_test_scaled, columns=features, index=X_test.index)"
   ]
  },
  {
   "cell_type": "markdown",
   "id": "dea7e9e6",
   "metadata": {},
   "source": [
    "# Perform Classifications"
   ]
  },
  {
   "cell_type": "markdown",
   "id": "7e8e0773",
   "metadata": {},
   "source": [
    "## Original Scaled Data with Untuned RandomForestClassifier"
   ]
  },
  {
   "cell_type": "code",
   "execution_count": 24,
   "id": "6c1de0c1",
   "metadata": {},
   "outputs": [
    {
     "name": "stdout",
     "output_type": "stream",
     "text": [
      "Balanced Accuracy Scores\n",
      "--------------------------------------------------------\n",
      "1.0 training\n",
      "0.6233491705841372 testing\n",
      "0.3766508294158628 variance\n",
      "--------------------------------------------------------\n",
      "Classification Report\n",
      "              precision    recall  f1-score   support\n",
      "\n",
      "           0       0.91      0.97      0.94      4245\n",
      "           1       0.55      0.28      0.37       563\n",
      "\n",
      "    accuracy                           0.89      4808\n",
      "   macro avg       0.73      0.62      0.65      4808\n",
      "weighted avg       0.87      0.89      0.87      4808\n",
      "\n",
      "--------------------------------------------------------\n"
     ]
    }
   ],
   "source": [
    "# Define the model\n",
    "clf = RandomForestClassifier(random_state=1)\n",
    "\n",
    "# Fit the model\n",
    "clf.fit(X_train_scaled, y_train)\n",
    "\n",
    "# Predict using the model\n",
    "train_pred = clf.predict(X_train_scaled)\n",
    "test_pred = clf.predict(X_test_scaled)\n",
    "\n",
    "# Generate classification report\n",
    "# Print scores\n",
    "print(\"Balanced Accuracy Scores\")\n",
    "print(\"--------------------------------------------------------\")\n",
    "x = balanced_accuracy_score(y_train, train_pred)\n",
    "y = balanced_accuracy_score(y_test, test_pred)\n",
    "print(balanced_accuracy_score(y_train, train_pred),'training')\n",
    "print(balanced_accuracy_score(y_test, test_pred),'testing')\n",
    "print(round((x-y), 16),'variance')\n",
    "\n",
    "# Print classification reports\n",
    "print(\"--------------------------------------------------------\")\n",
    "print(f\"Classification Report\")\n",
    "report = classification_report(y_test, test_pred, zero_division=1)\n",
    "print(report)\n",
    "print(\"--------------------------------------------------------\")"
   ]
  },
  {
   "cell_type": "markdown",
   "id": "1184d299",
   "metadata": {},
   "source": [
    "## Over Sampled Scaled Data with Untuned RandomForestClassifier"
   ]
  },
  {
   "cell_type": "code",
   "execution_count": 25,
   "id": "c46ff530",
   "metadata": {},
   "outputs": [
    {
     "data": {
      "text/plain": [
       "0    16546\n",
       "1    16546\n",
       "Name: Target, dtype: int64"
      ]
     },
     "execution_count": 25,
     "metadata": {},
     "output_type": "execute_result"
    }
   ],
   "source": [
    "# Import RandomOverSampler from imblearn\n",
    "from imblearn.over_sampling import RandomOverSampler\n",
    "\n",
    "# Instantiate a RandomOversampler instance\n",
    "ros = RandomOverSampler(random_state=1)\n",
    "\n",
    "# Fit the training data to the `RandomOverSampler` model\n",
    "X_oversampled, y_oversampled = ros.fit_resample(X_train_scaled, y_train)\n",
    "\n",
    "# Count distinct values\n",
    "y_oversampled.value_counts()"
   ]
  },
  {
   "cell_type": "code",
   "execution_count": 26,
   "id": "aa3bc327",
   "metadata": {},
   "outputs": [
    {
     "name": "stdout",
     "output_type": "stream",
     "text": [
      "Balanced Accuracy Scores\n",
      "--------------------------------------------------------\n",
      "1.0 training\n",
      "0.6284421961266728 testing\n",
      "0.3715578038733272 variance\n",
      "--------------------------------------------------------\n",
      "Classification Report\n",
      "              precision    recall  f1-score   support\n",
      "\n",
      "           0       0.91      0.97      0.94      4245\n",
      "           1       0.55      0.29      0.38       563\n",
      "\n",
      "    accuracy                           0.89      4808\n",
      "   macro avg       0.73      0.63      0.66      4808\n",
      "weighted avg       0.87      0.89      0.87      4808\n",
      "\n",
      "--------------------------------------------------------\n"
     ]
    }
   ],
   "source": [
    "# Instantiate the model\n",
    "ros_clf = RandomForestClassifier(random_state=1)\n",
    "\n",
    "# Fit the model\n",
    "ros_clf.fit(X_oversampled, y_oversampled)\n",
    "\n",
    "# Predict using the model\n",
    "train_pred = ros_clf.predict(X_train_scaled)\n",
    "test_pred = ros_clf.predict(X_test_scaled)\n",
    "\n",
    "# Generate classification report\n",
    "# Print scores\n",
    "print(\"Balanced Accuracy Scores\")\n",
    "print(\"--------------------------------------------------------\")\n",
    "x = balanced_accuracy_score(y_train, train_pred)\n",
    "y = balanced_accuracy_score(y_test, test_pred)\n",
    "print(balanced_accuracy_score(y_train, train_pred),'training')\n",
    "print(balanced_accuracy_score(y_test, test_pred),'testing')\n",
    "print(round((x-y), 16),'variance')\n",
    "\n",
    "# Print classification reports\n",
    "print(\"--------------------------------------------------------\")\n",
    "print(f\"Classification Report\")\n",
    "report = classification_report(y_test, test_pred, zero_division=1)\n",
    "print(report)\n",
    "print(\"--------------------------------------------------------\")"
   ]
  },
  {
   "cell_type": "markdown",
   "id": "e331f4ec",
   "metadata": {},
   "source": [
    "## Under Sampled Scaled Data with Untuned RandomForestClassifier"
   ]
  },
  {
   "cell_type": "code",
   "execution_count": 27,
   "id": "08a40bba",
   "metadata": {},
   "outputs": [
    {
     "data": {
      "text/plain": [
       "0    2686\n",
       "1    2686\n",
       "Name: Target, dtype: int64"
      ]
     },
     "execution_count": 27,
     "metadata": {},
     "output_type": "execute_result"
    }
   ],
   "source": [
    "# Import RandomUnderSampler from imblearn\n",
    "from imblearn.under_sampling import RandomUnderSampler\n",
    "\n",
    "# Instantiate a RandomOversampler instance\n",
    "rus = RandomUnderSampler(random_state=1)\n",
    "\n",
    "# Fit the training data to the `RandomOverSampler` model\n",
    "X_undersampled, y_undersampled = rus.fit_resample(X_train_scaled, y_train)\n",
    "\n",
    "# Count distinct values\n",
    "y_undersampled.value_counts()"
   ]
  },
  {
   "cell_type": "code",
   "execution_count": 28,
   "id": "4d4d60d3",
   "metadata": {},
   "outputs": [
    {
     "name": "stdout",
     "output_type": "stream",
     "text": [
      "Balanced Accuracy Scores\n",
      "--------------------------------------------------------\n",
      "0.9369333978000725 training\n",
      "0.6883452897254528 testing\n",
      "0.2485881080746196 variance\n",
      "--------------------------------------------------------\n",
      "Classification Report\n",
      "              precision    recall  f1-score   support\n",
      "\n",
      "           0       0.93      0.95      0.94      4245\n",
      "           1       0.54      0.42      0.48       563\n",
      "\n",
      "    accuracy                           0.89      4808\n",
      "   macro avg       0.73      0.69      0.71      4808\n",
      "weighted avg       0.88      0.89      0.88      4808\n",
      "\n",
      "--------------------------------------------------------\n"
     ]
    }
   ],
   "source": [
    "# Instantiate the model\n",
    "rus_clf = RandomForestClassifier(random_state=1)\n",
    "\n",
    "# Fit the model\n",
    "rus_clf.fit(X_undersampled, y_undersampled)\n",
    "\n",
    "# Predict using the model\n",
    "train_pred = rus_clf.predict(X_train_scaled)\n",
    "test_pred = rus_clf.predict(X_test_scaled)\n",
    "\n",
    "# Generate classification report\n",
    "# Print scores\n",
    "print(\"Balanced Accuracy Scores\")\n",
    "print(\"--------------------------------------------------------\")\n",
    "x = balanced_accuracy_score(y_train, train_pred)\n",
    "y = balanced_accuracy_score(y_test, test_pred)\n",
    "print(balanced_accuracy_score(y_train, train_pred),'training')\n",
    "print(balanced_accuracy_score(y_test, test_pred),'testing')\n",
    "print(round((x-y), 16),'variance')\n",
    "\n",
    "# Print classification reports\n",
    "print(\"--------------------------------------------------------\")\n",
    "print(f\"Classification Report\")\n",
    "report = classification_report(y_test, test_pred, zero_division=1)\n",
    "print(report)\n",
    "print(\"--------------------------------------------------------\")"
   ]
  },
  {
   "cell_type": "markdown",
   "id": "290854c4",
   "metadata": {},
   "source": [
    "## Original Scaled Data and Untuned XGBoost Classifier"
   ]
  },
  {
   "cell_type": "code",
   "execution_count": 29,
   "id": "2d99022d",
   "metadata": {},
   "outputs": [
    {
     "data": {
      "image/png": "[encoded data removed]",
      "text/plain": [
       "<Figure size 640x480 with 1 Axes>"
      ]
     },
     "metadata": {},
     "output_type": "display_data"
    },
    {
     "name": "stdout",
     "output_type": "stream",
     "text": [
      "Balanced Accuracy Scores\n",
      "--------------------------------------------------------\n",
      "0.9333728015103362 training\n",
      "0.6575233217639811 testing\n",
      "0.2758494797463551 variance\n",
      "--------------------------------------------------------\n",
      "Classification Report\n",
      "              precision    recall  f1-score   support\n",
      "\n",
      "           0       0.92      0.97      0.94      4245\n",
      "           1       0.57      0.35      0.43       563\n",
      "\n",
      "    accuracy                           0.89      4808\n",
      "   macro avg       0.74      0.66      0.69      4808\n",
      "weighted avg       0.88      0.89      0.88      4808\n",
      "\n",
      "--------------------------------------------------------\n"
     ]
    }
   ],
   "source": [
    "# Define the model\n",
    "xgb_clf = XGBClassifier(random_state=1)\n",
    "\n",
    "# Fit the model\n",
    "xgb_clf.fit(X_train_scaled, y_train)\n",
    "\n",
    "# Predict using the model\n",
    "train_pred = xgb_clf.predict(X_train_scaled)\n",
    "test_pred = xgb_clf.predict(X_test_scaled)\n",
    "\n",
    "# Plot feature importance\n",
    "from xgboost import plot_importance\n",
    "plot_importance(xgb_clf)\n",
    "plt.show()\n",
    "\n",
    "# Generate classification report\n",
    "# Print scores\n",
    "print(\"Balanced Accuracy Scores\")\n",
    "print(\"--------------------------------------------------------\")\n",
    "x = balanced_accuracy_score(y_train, train_pred)\n",
    "y = balanced_accuracy_score(y_test, test_pred)\n",
    "print(balanced_accuracy_score(y_train, train_pred),'training')\n",
    "print(balanced_accuracy_score(y_test, test_pred),'testing')\n",
    "print(round((x-y), 16),'variance')\n",
    "\n",
    "# Print classification reports\n",
    "print(\"--------------------------------------------------------\")\n",
    "print(f\"Classification Report\")\n",
    "report = classification_report(y_test, test_pred, zero_division=1)\n",
    "print(report)\n",
    "print(\"--------------------------------------------------------\")"
   ]
  },
  {
   "cell_type": "markdown",
   "id": "baaa9291",
   "metadata": {},
   "source": [
    "## Under Sampled Scaled Data and Untuned XGBoost Classifier"
   ]
  },
  {
   "cell_type": "code",
   "execution_count": 30,
   "id": "727a4c78",
   "metadata": {},
   "outputs": [
    {
     "data": {
      "image/png": "[encoded data removed]",
      "text/plain": [
       "<Figure size 640x480 with 1 Axes>"
      ]
     },
     "metadata": {},
     "output_type": "display_data"
    },
    {
     "name": "stdout",
     "output_type": "stream",
     "text": [
      "Balanced Accuracy Scores\n",
      "--------------------------------------------------------\n",
      "0.9305173401817843 training\n",
      "0.9226550094458636 testing\n",
      "0.0078623307359207 variance\n",
      "--------------------------------------------------------\n",
      "Classification Report\n",
      "              precision    recall  f1-score   support\n",
      "\n",
      "           0       0.99      0.90      0.94      4245\n",
      "           1       0.55      0.95      0.70       563\n",
      "\n",
      "    accuracy                           0.90      4808\n",
      "   macro avg       0.77      0.92      0.82      4808\n",
      "weighted avg       0.94      0.90      0.91      4808\n",
      "\n",
      "--------------------------------------------------------\n"
     ]
    }
   ],
   "source": [
    "# Define the model\n",
    "xgb_rus_clf = XGBClassifier(random_state=1)\n",
    "\n",
    "# Fit the model\n",
    "xgb_rus_clf.fit(X_undersampled, y_undersampled)\n",
    "\n",
    "# Predict using the model\n",
    "train_pred = xgb_rus_clf.predict(X_train_scaled)\n",
    "test_pred = xgb_rus_clf.predict(X_test_scaled)\n",
    "\n",
    "# Plot feature importance\n",
    "plot_importance(xgb_rus_clf)\n",
    "plt.show()\n",
    "\n",
    "# Generate classification report\n",
    "# Print scores\n",
    "print(\"Balanced Accuracy Scores\")\n",
    "print(\"--------------------------------------------------------\")\n",
    "x = balanced_accuracy_score(y_train, train_pred)\n",
    "y = balanced_accuracy_score(y_test, test_pred)\n",
    "print(balanced_accuracy_score(y_train, train_pred),'training')\n",
    "print(balanced_accuracy_score(y_test, test_pred),'testing')\n",
    "print(round((x-y), 16),'variance')\n",
    "\n",
    "# Print classification reports\n",
    "print(\"--------------------------------------------------------\")\n",
    "print(f\"Classification Report\")\n",
    "report = classification_report(y_test, test_pred, zero_division=1)\n",
    "print(report)\n",
    "print(\"--------------------------------------------------------\")"
   ]
  },
  {
   "cell_type": "markdown",
   "id": "29137f12",
   "metadata": {},
   "source": [
    "## Under Sampled Scaled Data with XGBoost Parameter Tuning"
   ]
  },
  {
   "cell_type": "code",
   "execution_count": 31,
   "id": "522fc65b",
   "metadata": {},
   "outputs": [
    {
     "data": {
      "text/html": [
       "<div>\n",
       "<style scoped>\n",
       "    .dataframe tbody tr th:only-of-type {\n",
       "        vertical-align: middle;\n",
       "    }\n",
       "\n",
       "    .dataframe tbody tr th {\n",
       "        vertical-align: top;\n",
       "    }\n",
       "\n",
       "    .dataframe thead th {\n",
       "        text-align: right;\n",
       "    }\n",
       "</style>\n",
       "<table border=\"1\" class=\"dataframe\">\n",
       "  <thead>\n",
       "    <tr style=\"text-align: right;\">\n",
       "      <th></th>\n",
       "      <th>train_score</th>\n",
       "      <th>test_score</th>\n",
       "    </tr>\n",
       "    <tr>\n",
       "      <th>learning_rate</th>\n",
       "      <th></th>\n",
       "      <th></th>\n",
       "    </tr>\n",
       "  </thead>\n",
       "  <tbody>\n",
       "    <tr>\n",
       "      <th>0.05</th>\n",
       "      <td>0.921552</td>\n",
       "      <td>0.943272</td>\n",
       "    </tr>\n",
       "    <tr>\n",
       "      <th>0.02</th>\n",
       "      <td>0.921310</td>\n",
       "      <td>0.940372</td>\n",
       "    </tr>\n",
       "    <tr>\n",
       "      <th>0.16</th>\n",
       "      <td>0.924665</td>\n",
       "      <td>0.938532</td>\n",
       "    </tr>\n",
       "  </tbody>\n",
       "</table>\n",
       "</div>"
      ],
      "text/plain": [
       "               train_score  test_score\n",
       "learning_rate                         \n",
       "0.05              0.921552    0.943272\n",
       "0.02              0.921310    0.940372\n",
       "0.16              0.924665    0.938532"
      ]
     },
     "metadata": {},
     "output_type": "display_data"
    }
   ],
   "source": [
    "# Try the following values for learning_rate\n",
    "rate = np.arange(0.01, 1.1, 0.01)\n",
    "models = {'train_score': [], 'test_score': [], 'learning_rate': []}\n",
    "\n",
    "# Loop through each value in learning_rates\n",
    "for r in rate:\n",
    "    # Initialize the classifier with parameter variables\n",
    "    xgb_rus_clf = XGBClassifier(learning_rate = r, tree_method='approx', random_state=1)\n",
    "\n",
    "    # Fit the undersampled data the new model\n",
    "    xgb_rus_clf.fit(X_undersampled, y_undersampled)\n",
    "\n",
    "    # Make predictions\n",
    "    train_pred = xgb_rus_clf.predict(X_train_scaled)\n",
    "    test_pred = xgb_rus_clf.predict(X_test_scaled)\n",
    "\n",
    "    # Calculate balanced accuracy scores\n",
    "    train_score = balanced_accuracy_score(y_train, train_pred)\n",
    "    test_score = balanced_accuracy_score(y_test, test_pred)\n",
    "\n",
    "    # Append scores\n",
    "    models['train_score'].append(train_score)\n",
    "    models['test_score'].append(test_score)\n",
    "    models['learning_rate'].append(r)\n",
    "\n",
    "# Create a dataframe from the models dictionary with learning_rate as the index\n",
    "models_df = pd.DataFrame(models).set_index('learning_rate')\n",
    "\n",
    "# Display df\n",
    "display(models_df.sort_values(by='test_score', ascending=False).head(3))"
   ]
  },
  {
   "cell_type": "code",
   "execution_count": 32,
   "id": "107e8988",
   "metadata": {},
   "outputs": [
    {
     "data": {
      "text/plain": [
       "[0.05, 0.02, 0.16]"
      ]
     },
     "execution_count": 32,
     "metadata": {},
     "output_type": "execute_result"
    }
   ],
   "source": [
    "# Sort the dataframe by test_score in descending order and get the top 3\n",
    "top_learning_rates = models_df.sort_values(by='test_score', ascending=False).head(3).index.tolist()\n",
    "\n",
    "# Display the top 3 \n",
    "top_learning_rates"
   ]
  },
  {
   "cell_type": "code",
   "execution_count": 33,
   "id": "ad7a11b9",
   "metadata": {},
   "outputs": [
    {
     "data": {
      "text/plain": [
       "<Axes: xlabel='learning_rate'>"
      ]
     },
     "execution_count": 33,
     "metadata": {},
     "output_type": "execute_result"
    },
    {
     "data": {
      "image/png": "[encoded data removed]",
      "text/plain": [
       "<Figure size 640x480 with 1 Axes>"
      ]
     },
     "metadata": {},
     "output_type": "display_data"
    }
   ],
   "source": [
    "# Plot the results\n",
    "models_df.plot()"
   ]
  },
  {
   "cell_type": "code",
   "execution_count": 34,
   "id": "e6e5129f",
   "metadata": {},
   "outputs": [
    {
     "data": {
      "text/html": [
       "<div>\n",
       "<style scoped>\n",
       "    .dataframe tbody tr th:only-of-type {\n",
       "        vertical-align: middle;\n",
       "    }\n",
       "\n",
       "    .dataframe tbody tr th {\n",
       "        vertical-align: top;\n",
       "    }\n",
       "\n",
       "    .dataframe thead th {\n",
       "        text-align: right;\n",
       "    }\n",
       "</style>\n",
       "<table border=\"1\" class=\"dataframe\">\n",
       "  <thead>\n",
       "    <tr style=\"text-align: right;\">\n",
       "      <th></th>\n",
       "      <th>train_score</th>\n",
       "      <th>test_score</th>\n",
       "    </tr>\n",
       "    <tr>\n",
       "      <th>n_estimators</th>\n",
       "      <th></th>\n",
       "      <th></th>\n",
       "    </tr>\n",
       "  </thead>\n",
       "  <tbody>\n",
       "    <tr>\n",
       "      <th>161</th>\n",
       "      <td>0.935634</td>\n",
       "      <td>0.919220</td>\n",
       "    </tr>\n",
       "    <tr>\n",
       "      <th>130</th>\n",
       "      <td>0.933579</td>\n",
       "      <td>0.918985</td>\n",
       "    </tr>\n",
       "    <tr>\n",
       "      <th>138</th>\n",
       "      <td>0.934214</td>\n",
       "      <td>0.918332</td>\n",
       "    </tr>\n",
       "  </tbody>\n",
       "</table>\n",
       "</div>"
      ],
      "text/plain": [
       "              train_score  test_score\n",
       "n_estimators                         \n",
       "161              0.935634    0.919220\n",
       "130              0.933579    0.918985\n",
       "138              0.934214    0.918332"
      ]
     },
     "metadata": {},
     "output_type": "display_data"
    }
   ],
   "source": [
    "# Try the following values for n_estimators\n",
    "estimators = range(100, 200, 1)\n",
    "models = {'train_score': [], 'test_score': [], 'n_estimators': []}\n",
    "\n",
    "# Loop through each value in n_estimators\n",
    "for n in estimators:\n",
    "    # Initialize the classifier with parameter variables\n",
    "    xgb_rus_clf = XGBClassifier(n_estimators = n, tree_method='approx', random_state=1)\n",
    "\n",
    "    # Fit the undersampled data the new model\n",
    "    xgb_rus_clf.fit(X_undersampled, y_undersampled)\n",
    "\n",
    "    # Make predictions\n",
    "    train_pred = xgb_rus_clf.predict(X_train_scaled)\n",
    "    test_pred = xgb_rus_clf.predict(X_test_scaled)\n",
    "\n",
    "    # Calculate balanced accuracy scores\n",
    "    train_score = balanced_accuracy_score(y_train, train_pred)\n",
    "    test_score = balanced_accuracy_score(y_test, test_pred)\n",
    "\n",
    "    # Append scores\n",
    "    models['train_score'].append(train_score)\n",
    "    models['test_score'].append(test_score)\n",
    "    models['n_estimators'].append(n)\n",
    "\n",
    "# Create a dataframe from the models dictionary with n_estimators as the index\n",
    "models_df = pd.DataFrame(models).set_index('n_estimators')\n",
    "\n",
    "# Display df\n",
    "display(models_df.sort_values(by='test_score', ascending=False).head(3))"
   ]
  },
  {
   "cell_type": "code",
   "execution_count": 35,
   "id": "eb534023",
   "metadata": {},
   "outputs": [
    {
     "data": {
      "text/plain": [
       "[161, 130, 138]"
      ]
     },
     "execution_count": 35,
     "metadata": {},
     "output_type": "execute_result"
    }
   ],
   "source": [
    "# Sort the dataframe by test_score in descending order and get the top 3\n",
    "top_n_estimators = models_df.sort_values(by='test_score', ascending=False).head(3).index.tolist()\n",
    "\n",
    "# Display the top 3\n",
    "top_n_estimators"
   ]
  },
  {
   "cell_type": "code",
   "execution_count": 36,
   "id": "68611818",
   "metadata": {},
   "outputs": [
    {
     "data": {
      "text/plain": [
       "<Axes: xlabel='n_estimators'>"
      ]
     },
     "execution_count": 36,
     "metadata": {},
     "output_type": "execute_result"
    },
    {
     "data": {
      "image/png": "[encoded data removed]",
      "text/plain": [
       "<Figure size 640x480 with 1 Axes>"
      ]
     },
     "metadata": {},
     "output_type": "display_data"
    }
   ],
   "source": [
    "# Plot the results\n",
    "models_df.plot()"
   ]
  },
  {
   "cell_type": "code",
   "execution_count": 37,
   "id": "d9ed16ac",
   "metadata": {},
   "outputs": [
    {
     "data": {
      "text/html": [
       "<div>\n",
       "<style scoped>\n",
       "    .dataframe tbody tr th:only-of-type {\n",
       "        vertical-align: middle;\n",
       "    }\n",
       "\n",
       "    .dataframe tbody tr th {\n",
       "        vertical-align: top;\n",
       "    }\n",
       "\n",
       "    .dataframe thead th {\n",
       "        text-align: right;\n",
       "    }\n",
       "</style>\n",
       "<table border=\"1\" class=\"dataframe\">\n",
       "  <thead>\n",
       "    <tr style=\"text-align: right;\">\n",
       "      <th></th>\n",
       "      <th>train_score</th>\n",
       "      <th>test_score</th>\n",
       "    </tr>\n",
       "    <tr>\n",
       "      <th>max_depth</th>\n",
       "      <th></th>\n",
       "      <th></th>\n",
       "    </tr>\n",
       "  </thead>\n",
       "  <tbody>\n",
       "    <tr>\n",
       "      <th>1</th>\n",
       "      <td>0.921189</td>\n",
       "      <td>0.944876</td>\n",
       "    </tr>\n",
       "    <tr>\n",
       "      <th>15</th>\n",
       "      <td>0.938263</td>\n",
       "      <td>0.934509</td>\n",
       "    </tr>\n",
       "    <tr>\n",
       "      <th>2</th>\n",
       "      <td>0.921396</td>\n",
       "      <td>0.934328</td>\n",
       "    </tr>\n",
       "  </tbody>\n",
       "</table>\n",
       "</div>"
      ],
      "text/plain": [
       "           train_score  test_score\n",
       "max_depth                         \n",
       "1             0.921189    0.944876\n",
       "15            0.938263    0.934509\n",
       "2             0.921396    0.934328"
      ]
     },
     "metadata": {},
     "output_type": "display_data"
    }
   ],
   "source": [
    "# Try the following values for max_depth\n",
    "max_depths = range(1, 30)\n",
    "models = {'train_score': [], 'test_score': [], 'max_depth': []}\n",
    "\n",
    "# Loop through each value in max_depths\n",
    "for depth in max_depths:\n",
    "    # Initialize the classifier with parameter variables\n",
    "    xgb_rus_clf = XGBClassifier(max_depth = depth, tree_method='approx', random_state=1)\n",
    "    \n",
    "    # Fit the undersampled data the new model\n",
    "    xgb_rus_clf.fit(X_undersampled, y_undersampled)\n",
    "\n",
    "    # Make predictions\n",
    "    train_pred = xgb_rus_clf.predict(X_train_scaled)\n",
    "    test_pred = xgb_rus_clf.predict(X_test_scaled)\n",
    "\n",
    "    # Caclulate balanced accuracy scores\n",
    "    train_score = balanced_accuracy_score(y_train, train_pred)\n",
    "    test_score = balanced_accuracy_score(y_test, test_pred)\n",
    "\n",
    "    # Append scores\n",
    "    models['train_score'].append(train_score)\n",
    "    models['test_score'].append(test_score)\n",
    "    models['max_depth'].append(depth)\n",
    "\n",
    "# Create a dataframe from the models dictionary with max_depth as the index\n",
    "models_df = pd.DataFrame(models).set_index('max_depth')\n",
    "\n",
    "# Display df\n",
    "display(models_df.sort_values(by='test_score', ascending=False).head(3))"
   ]
  },
  {
   "cell_type": "code",
   "execution_count": 38,
   "id": "44e66799",
   "metadata": {},
   "outputs": [
    {
     "data": {
      "text/plain": [
       "[1, 15, 2]"
      ]
     },
     "execution_count": 38,
     "metadata": {},
     "output_type": "execute_result"
    }
   ],
   "source": [
    "# Sort the dataframe by test_score in descending order and get the top 3\n",
    "top_max_depth = models_df.sort_values(by='test_score', ascending=False).head(3).index.tolist()\n",
    "\n",
    "# Display the top 3\n",
    "top_max_depth"
   ]
  },
  {
   "cell_type": "code",
   "execution_count": 39,
   "id": "20596bdb",
   "metadata": {},
   "outputs": [
    {
     "data": {
      "text/plain": [
       "<Axes: xlabel='max_depth'>"
      ]
     },
     "execution_count": 39,
     "metadata": {},
     "output_type": "execute_result"
    },
    {
     "data": {
      "image/png": "[encoded data removed]",
      "text/plain": [
       "<Figure size 640x480 with 1 Axes>"
      ]
     },
     "metadata": {},
     "output_type": "display_data"
    }
   ],
   "source": [
    "# Plot the results\n",
    "models_df.plot()"
   ]
  },
  {
   "cell_type": "code",
   "execution_count": 40,
   "id": "90f4df50",
   "metadata": {},
   "outputs": [
    {
     "data": {
      "text/html": [
       "<div>\n",
       "<style scoped>\n",
       "    .dataframe tbody tr th:only-of-type {\n",
       "        vertical-align: middle;\n",
       "    }\n",
       "\n",
       "    .dataframe tbody tr th {\n",
       "        vertical-align: top;\n",
       "    }\n",
       "\n",
       "    .dataframe thead th {\n",
       "        text-align: right;\n",
       "    }\n",
       "</style>\n",
       "<table border=\"1\" class=\"dataframe\">\n",
       "  <thead>\n",
       "    <tr style=\"text-align: right;\">\n",
       "      <th></th>\n",
       "      <th>train_score</th>\n",
       "      <th>test_score</th>\n",
       "    </tr>\n",
       "    <tr>\n",
       "      <th>max_leaves</th>\n",
       "      <th></th>\n",
       "      <th></th>\n",
       "    </tr>\n",
       "  </thead>\n",
       "  <tbody>\n",
       "    <tr>\n",
       "      <th>2</th>\n",
       "      <td>0.921189</td>\n",
       "      <td>0.944876</td>\n",
       "    </tr>\n",
       "    <tr>\n",
       "      <th>3</th>\n",
       "      <td>0.921371</td>\n",
       "      <td>0.942919</td>\n",
       "    </tr>\n",
       "    <tr>\n",
       "      <th>4</th>\n",
       "      <td>0.921582</td>\n",
       "      <td>0.934092</td>\n",
       "    </tr>\n",
       "  </tbody>\n",
       "</table>\n",
       "</div>"
      ],
      "text/plain": [
       "            train_score  test_score\n",
       "max_leaves                         \n",
       "2              0.921189    0.944876\n",
       "3              0.921371    0.942919\n",
       "4              0.921582    0.934092"
      ]
     },
     "metadata": {},
     "output_type": "display_data"
    }
   ],
   "source": [
    "# Try the following values for max_leaves\n",
    "max_leaves = range(1, 30)\n",
    "models = {'train_score': [], 'test_score': [], 'max_leaves': []}\n",
    "\n",
    "# Loop through each value in max_depths\n",
    "for leaf in max_leaves:\n",
    "    # Initialize the classifier with parameter variables\n",
    "    xgb_rus_clf = XGBClassifier(max_leaves = leaf, tree_method='approx', random_state=1)\n",
    "    \n",
    "    # Fit the undersampled data the new model\n",
    "    xgb_rus_clf.fit(X_undersampled, y_undersampled)\n",
    "\n",
    "    # Make predictions\n",
    "    train_pred = xgb_rus_clf.predict(X_train_scaled)\n",
    "    test_pred = xgb_rus_clf.predict(X_test_scaled)\n",
    "\n",
    "    # Caclulate balanced accuracy scores\n",
    "    train_score = balanced_accuracy_score(y_train, train_pred)\n",
    "    test_score = balanced_accuracy_score(y_test, test_pred)\n",
    "\n",
    "    # Append scores\n",
    "    models['train_score'].append(train_score)\n",
    "    models['test_score'].append(test_score)\n",
    "    models['max_leaves'].append(leaf)\n",
    "\n",
    "# Create a dataframe from the models dictionary with max_depth as the index\n",
    "models_df = pd.DataFrame(models).set_index('max_leaves')\n",
    "\n",
    "# Display df\n",
    "display(models_df.sort_values(by='test_score', ascending=False).head(3))"
   ]
  },
  {
   "cell_type": "code",
   "execution_count": 41,
   "id": "f551fdc8",
   "metadata": {},
   "outputs": [
    {
     "data": {
      "text/plain": [
       "[2, 3, 4]"
      ]
     },
     "execution_count": 41,
     "metadata": {},
     "output_type": "execute_result"
    }
   ],
   "source": [
    "# Sort the dataframe by test_score in descending order and get the top 3\n",
    "top_max_leaves = models_df.sort_values(by='test_score', ascending=False).head(3).index.tolist()\n",
    "\n",
    "# Display the top 3\n",
    "top_max_leaves"
   ]
  },
  {
   "cell_type": "code",
   "execution_count": 42,
   "id": "45a3fd06",
   "metadata": {},
   "outputs": [
    {
     "data": {
      "text/plain": [
       "<Axes: xlabel='max_leaves'>"
      ]
     },
     "execution_count": 42,
     "metadata": {},
     "output_type": "execute_result"
    },
    {
     "data": {
      "image/png": "[encoded data removed]",
      "text/plain": [
       "<Figure size 640x480 with 1 Axes>"
      ]
     },
     "metadata": {},
     "output_type": "display_data"
    }
   ],
   "source": [
    "# Plot the results\n",
    "models_df.plot()"
   ]
  },
  {
   "cell_type": "code",
   "execution_count": 43,
   "id": "c58658e6",
   "metadata": {},
   "outputs": [
    {
     "data": {
      "text/html": [
       "<div>\n",
       "<style scoped>\n",
       "    .dataframe tbody tr th:only-of-type {\n",
       "        vertical-align: middle;\n",
       "    }\n",
       "\n",
       "    .dataframe tbody tr th {\n",
       "        vertical-align: top;\n",
       "    }\n",
       "\n",
       "    .dataframe thead th {\n",
       "        text-align: right;\n",
       "    }\n",
       "</style>\n",
       "<table border=\"1\" class=\"dataframe\">\n",
       "  <thead>\n",
       "    <tr style=\"text-align: right;\">\n",
       "      <th></th>\n",
       "      <th>train_score</th>\n",
       "      <th>test_score</th>\n",
       "    </tr>\n",
       "    <tr>\n",
       "      <th>subsample</th>\n",
       "      <th></th>\n",
       "      <th></th>\n",
       "    </tr>\n",
       "  </thead>\n",
       "  <tbody>\n",
       "    <tr>\n",
       "      <th>0.01</th>\n",
       "      <td>0.904863</td>\n",
       "      <td>0.940907</td>\n",
       "    </tr>\n",
       "    <tr>\n",
       "      <th>0.51</th>\n",
       "      <td>0.933237</td>\n",
       "      <td>0.935216</td>\n",
       "    </tr>\n",
       "    <tr>\n",
       "      <th>0.87</th>\n",
       "      <td>0.933851</td>\n",
       "      <td>0.935098</td>\n",
       "    </tr>\n",
       "  </tbody>\n",
       "</table>\n",
       "</div>"
      ],
      "text/plain": [
       "           train_score  test_score\n",
       "subsample                         \n",
       "0.01          0.904863    0.940907\n",
       "0.51          0.933237    0.935216\n",
       "0.87          0.933851    0.935098"
      ]
     },
     "metadata": {},
     "output_type": "display_data"
    }
   ],
   "source": [
    "# Try the following values for subsample\n",
    "subsample = np.arange(0, 1, .01)\n",
    "models = {'train_score': [], 'test_score': [], 'subsample': []}\n",
    "\n",
    "# Loop through each value in max_depths\n",
    "for sample in subsample:\n",
    "    # Initialize the classifier with parameter variables\n",
    "    xgb_rus_clf = XGBClassifier(subsample = sample, tree_method='approx', random_state=1)\n",
    "    \n",
    "    # Fit the undersampled data the new model\n",
    "    xgb_rus_clf.fit(X_undersampled, y_undersampled)\n",
    "\n",
    "    # Make predictions\n",
    "    train_pred = xgb_rus_clf.predict(X_train_scaled)\n",
    "    test_pred = xgb_rus_clf.predict(X_test_scaled)\n",
    "\n",
    "    # Caclulate balanced accuracy scores\n",
    "    train_score = balanced_accuracy_score(y_train, train_pred)\n",
    "    test_score = balanced_accuracy_score(y_test, test_pred)\n",
    "\n",
    "    # Append scores\n",
    "    models['train_score'].append(train_score)\n",
    "    models['test_score'].append(test_score)\n",
    "    models['subsample'].append(sample)\n",
    "\n",
    "# Create a dataframe from the models dictionary with max_depth as the index\n",
    "models_df = pd.DataFrame(models).set_index('subsample')\n",
    "\n",
    "# Display df\n",
    "display(models_df.sort_values(by='test_score', ascending=False).head(3))"
   ]
  },
  {
   "cell_type": "code",
   "execution_count": 44,
   "id": "1ed103be",
   "metadata": {},
   "outputs": [
    {
     "data": {
      "text/plain": [
       "[0.01, 0.51, 0.87]"
      ]
     },
     "execution_count": 44,
     "metadata": {},
     "output_type": "execute_result"
    }
   ],
   "source": [
    "# Sort the dataframe by test_score in descending order and get the top 3\n",
    "top_subsample = models_df.sort_values(by='test_score', ascending=False).head(3).index.tolist()\n",
    "\n",
    "# Display the top 3\n",
    "top_subsample"
   ]
  },
  {
   "cell_type": "code",
   "execution_count": 45,
   "id": "a323dcf1",
   "metadata": {},
   "outputs": [
    {
     "data": {
      "text/plain": [
       "<Axes: xlabel='subsample'>"
      ]
     },
     "execution_count": 45,
     "metadata": {},
     "output_type": "execute_result"
    },
    {
     "data": {
      "image/png": "[encoded data removed]",
      "text/plain": [
       "<Figure size 640x480 with 1 Axes>"
      ]
     },
     "metadata": {},
     "output_type": "display_data"
    }
   ],
   "source": [
    "# Plot the results\n",
    "models_df.plot()"
   ]
  },
  {
   "cell_type": "code",
   "execution_count": 46,
   "id": "08aba460",
   "metadata": {},
   "outputs": [],
   "source": [
    "# Dictionary with 3 values for each parameter\n",
    "params = {\n",
    "    'n_estimators': top_n_estimators,\n",
    "    'max_depth': top_max_depth,\n",
    "    'learning_rate': top_learning_rates,\n",
    "    'max_leaves': top_max_leaves,\n",
    "    'subsample': top_subsample\n",
    "}\n",
    "\n",
    "# Initialize a dictionary to store results\n",
    "results = {'n_estimators': [], 'max_depth': [], 'learning_rate': [],'max_leaves': [], 'subsample': [], 'train_score': [], 'test_score': []}\n",
    "\n",
    "# Loop through all combinations of parameters\n",
    "for n in params['n_estimators']:\n",
    "    for d in params['max_depth']:\n",
    "        for lr in params['learning_rate']:\n",
    "            for ml in params['max_leaves']:\n",
    "                for s in params['subsample']:\n",
    "                    # Initialize the classifier with current parameters\n",
    "                    xgb_rus_clf = XGBClassifier(n_estimators=n, learning_rate=lr, max_depth=d, max_leaves=ml, subsample=s, tree_method='approx', random_state=1)\n",
    "                \n",
    "                    # Fit the undersampled data\n",
    "                    xgb_rus_clf.fit(X_undersampled, y_undersampled)\n",
    "    \n",
    "                    # Make predictions\n",
    "                    train_pred = xgb_rus_clf.predict(X_train_scaled)\n",
    "                    test_pred = xgb_rus_clf.predict(X_test_scaled)\n",
    "    \n",
    "                    # Calculate balanced accuracy scores\n",
    "                    train_score = balanced_accuracy_score(y_train, train_pred)\n",
    "                    test_score = balanced_accuracy_score(y_test, test_pred)\n",
    "    \n",
    "                    # Append results to the dictionary\n",
    "                    results['n_estimators'].append(n)\n",
    "                    results['max_depth'].append(d)\n",
    "                    results['learning_rate'].append(lr)\n",
    "                    results['max_leaves'].append(ml)\n",
    "                    results['subsample'].append(s)\n",
    "                    results['train_score'].append(train_score)\n",
    "                    results['test_score'].append(test_score)\n",
    "\n",
    "# Create a DataFrame from the results dictionary\n",
    "results_df = pd.DataFrame(results)"
   ]
  },
  {
   "cell_type": "code",
   "execution_count": 47,
   "id": "73528232",
   "metadata": {},
   "outputs": [
    {
     "name": "stdout",
     "output_type": "stream",
     "text": [
      "     n_estimators  max_depth  learning_rate  max_leaves  subsample  \\\n",
      "239           138          2           0.16           3       0.87   \n",
      "212           138         15           0.16           3       0.87   \n",
      "131           130         15           0.16           3       0.87   \n",
      "\n",
      "     train_score  test_score  \n",
      "239      0.92128    0.944994  \n",
      "212      0.92128    0.944994  \n",
      "131      0.92122    0.944994  \n"
     ]
    }
   ],
   "source": [
    "sorted_results_df = results_df.sort_values(by='test_score', ascending=False)\n",
    "print(sorted_results_df.head(3))"
   ]
  },
  {
   "cell_type": "code",
   "execution_count": 48,
   "id": "8ea1a036",
   "metadata": {},
   "outputs": [
    {
     "name": "stdout",
     "output_type": "stream",
     "text": [
      "Balanced Accuracy Scores\n",
      "--------------------------------------------------------\n",
      "0.9211894113380877 training score\n",
      "0.9451118963486455 testing score\n",
      "-0.0239224850105577 variance\n",
      "--------------------------------------------------------\n",
      "Classification Report - Original Data\n",
      "              precision    recall  f1-score   support\n",
      "\n",
      "           0       1.00      0.89      0.94      4245\n",
      "           1       0.55      1.00      0.71       563\n",
      "\n",
      "    accuracy                           0.90      4808\n",
      "   macro avg       0.77      0.95      0.82      4808\n",
      "weighted avg       0.95      0.90      0.91      4808\n",
      "\n",
      "--------------------------------------------------------\n"
     ]
    }
   ],
   "source": [
    "# For Classification\n",
    "# Initialize the classifier with current parameters\n",
    "xgb_rus_clf = XGBClassifier(n_estimators=162, max_depth=15, learning_rate=.02, max_leaves=29, subsample=.43, tree_method='approx', min_split_loss=0, min_child_weight=1, random_state=1)\n",
    "\n",
    "# Fit the undersampled data\n",
    "xgb_rus_clf.fit(X_undersampled, y_undersampled)\n",
    "\n",
    "# Make predictions\n",
    "train_pred = xgb_rus_clf.predict(X_train_scaled)\n",
    "test_pred = xgb_rus_clf.predict(X_test_scaled)\n",
    "\n",
    "# Generate classification report\n",
    "# Print scores\n",
    "print(\"Balanced Accuracy Scores\")\n",
    "print(\"--------------------------------------------------------\")\n",
    "x = balanced_accuracy_score(y_train, train_pred)\n",
    "y = balanced_accuracy_score(y_test, test_pred)\n",
    "print(balanced_accuracy_score(y_train, train_pred),'training score')\n",
    "print(balanced_accuracy_score(y_test, test_pred),'testing score')\n",
    "print(round((x-y), 16),'variance')\n",
    "\n",
    "# Print classification reports\n",
    "print(\"--------------------------------------------------------\")\n",
    "print(f\"Classification Report - Original Data\")\n",
    "print(classification_report(y_test, test_pred))\n",
    "print(\"--------------------------------------------------------\")"
   ]
  },
  {
   "cell_type": "markdown",
   "id": "58c07d74",
   "metadata": {},
   "source": [
    "## Original Scaled Data and Untuned LightBoost"
   ]
  },
  {
   "cell_type": "code",
   "execution_count": 49,
   "id": "73861d2d",
   "metadata": {},
   "outputs": [
    {
     "name": "stdout",
     "output_type": "stream",
     "text": [
      "Balanced Accuracy Scores\n",
      "--------------------------------------------------------\n",
      "0.8887294421139954 training\n",
      "0.645978028691157 testing\n",
      "0.2427514134228384 variance\n",
      "--------------------------------------------------------\n",
      "Classification Report\n",
      "              precision    recall  f1-score   support\n",
      "\n",
      "           0       0.92      0.97      0.94      4245\n",
      "           1       0.55      0.33      0.41       563\n",
      "\n",
      "    accuracy                           0.89      4808\n",
      "   macro avg       0.73      0.65      0.68      4808\n",
      "weighted avg       0.87      0.89      0.88      4808\n",
      "\n",
      "--------------------------------------------------------\n"
     ]
    }
   ],
   "source": [
    "# Define model\n",
    "lgb_clf = lgb.LGBMClassifier(random_state=1, verbose=-1)\n",
    "\n",
    "# Fit the model\n",
    "lgb_clf.fit(X_train_scaled, y_train)\n",
    "\n",
    "# Predict using the model\n",
    "train_pred = lgb_clf.predict(X_train_scaled)\n",
    "test_pred = lgb_clf.predict(X_test_scaled)\n",
    "\n",
    "# Generate classification report\n",
    "# Print scores\n",
    "print(\"Balanced Accuracy Scores\")\n",
    "print(\"--------------------------------------------------------\")\n",
    "x = balanced_accuracy_score(y_train, train_pred)\n",
    "y = balanced_accuracy_score(y_test, test_pred)\n",
    "print(balanced_accuracy_score(y_train, train_pred),'training')\n",
    "print(balanced_accuracy_score(y_test, test_pred),'testing')\n",
    "print(round((x-y), 16),'variance')\n",
    "\n",
    "# Print classification reports\n",
    "print(\"--------------------------------------------------------\")\n",
    "print(f\"Classification Report\")\n",
    "report = classification_report(y_test, test_pred, zero_division=1)\n",
    "print(report)\n",
    "print(\"--------------------------------------------------------\")"
   ]
  },
  {
   "cell_type": "markdown",
   "id": "fe05fcd0",
   "metadata": {},
   "source": [
    "## Under Sampled Scaled Data with Untuned LightBoost"
   ]
  },
  {
   "cell_type": "code",
   "execution_count": 50,
   "id": "590f6617",
   "metadata": {},
   "outputs": [
    {
     "name": "stdout",
     "output_type": "stream",
     "text": [
      "Balanced Accuracy Scores\n",
      "--------------------------------------------------------\n",
      "0.9251081778464767 training\n",
      "0.9362850872513269 testing\n",
      "-0.0111769094048502 variance\n",
      "--------------------------------------------------------\n",
      "Classification Report\n",
      "              precision    recall  f1-score   support\n",
      "\n",
      "           0       1.00      0.89      0.94      4245\n",
      "           1       0.55      0.98      0.70       563\n",
      "\n",
      "    accuracy                           0.90      4808\n",
      "   macro avg       0.77      0.94      0.82      4808\n",
      "weighted avg       0.94      0.90      0.91      4808\n",
      "\n",
      "--------------------------------------------------------\n"
     ]
    }
   ],
   "source": [
    "# Define model\n",
    "lgb_rus_clf = lgb.LGBMClassifier(random_state=1, verbose=-1)\n",
    "\n",
    "# Fit the model\n",
    "lgb_rus_clf.fit(X_undersampled, y_undersampled)\n",
    "\n",
    "# Predict using the model\n",
    "train_pred = lgb_rus_clf.predict(X_train_scaled)\n",
    "test_pred = lgb_rus_clf.predict(X_test_scaled)\n",
    "\n",
    "# Generate classification report\n",
    "# Print scores\n",
    "print(\"Balanced Accuracy Scores\")\n",
    "print(\"--------------------------------------------------------\")\n",
    "x = balanced_accuracy_score(y_train, train_pred)\n",
    "y = balanced_accuracy_score(y_test, test_pred)\n",
    "print(balanced_accuracy_score(y_train, train_pred),'training')\n",
    "print(balanced_accuracy_score(y_test, test_pred),'testing')\n",
    "print(round((x-y), 16),'variance')\n",
    "\n",
    "# Print classification reports\n",
    "print(\"--------------------------------------------------------\")\n",
    "print(f\"Classification Report\")\n",
    "report = classification_report(y_test, test_pred, zero_division=1)\n",
    "print(report)\n",
    "print(\"--------------------------------------------------------\")"
   ]
  },
  {
   "cell_type": "markdown",
   "id": "445facf5",
   "metadata": {},
   "source": [
    "## RandomUnderSampler Data with Tuned Lightboost Classifier"
   ]
  },
  {
   "cell_type": "code",
   "execution_count": 67,
   "id": "f62ed5bd",
   "metadata": {},
   "outputs": [
    {
     "data": {
      "text/html": [
       "<div>\n",
       "<style scoped>\n",
       "    .dataframe tbody tr th:only-of-type {\n",
       "        vertical-align: middle;\n",
       "    }\n",
       "\n",
       "    .dataframe tbody tr th {\n",
       "        vertical-align: top;\n",
       "    }\n",
       "\n",
       "    .dataframe thead th {\n",
       "        text-align: right;\n",
       "    }\n",
       "</style>\n",
       "<table border=\"1\" class=\"dataframe\">\n",
       "  <thead>\n",
       "    <tr style=\"text-align: right;\">\n",
       "      <th></th>\n",
       "      <th>train_score</th>\n",
       "      <th>test_score</th>\n",
       "    </tr>\n",
       "    <tr>\n",
       "      <th>learning_rate</th>\n",
       "      <th></th>\n",
       "      <th></th>\n",
       "    </tr>\n",
       "  </thead>\n",
       "  <tbody>\n",
       "    <tr>\n",
       "      <th>0.99</th>\n",
       "      <td>0.898765</td>\n",
       "      <td>0.945347</td>\n",
       "    </tr>\n",
       "    <tr>\n",
       "      <th>0.94</th>\n",
       "      <td>0.919344</td>\n",
       "      <td>0.944994</td>\n",
       "    </tr>\n",
       "    <tr>\n",
       "      <th>0.11</th>\n",
       "      <td>0.921189</td>\n",
       "      <td>0.944876</td>\n",
       "    </tr>\n",
       "  </tbody>\n",
       "</table>\n",
       "</div>"
      ],
      "text/plain": [
       "               train_score  test_score\n",
       "learning_rate                         \n",
       "0.99              0.898765    0.945347\n",
       "0.94              0.919344    0.944994\n",
       "0.11              0.921189    0.944876"
      ]
     },
     "metadata": {},
     "output_type": "display_data"
    }
   ],
   "source": [
    "rates = np.arange(0.05, 1.0, 0.01)\n",
    "models = {'train_score': [], 'test_score': [], 'learning_rate': []}\n",
    "\n",
    "# Loop through each value in rates\n",
    "for r in rates:\n",
    "    # Initialize the classifier with current parameters\n",
    "    lgb_rus_clf = lgb.LGBMClassifier(learning_rate=r, random_state=1, verbose=-1)\n",
    "\n",
    "    # Fit the undersampled data\n",
    "    lgb_rus_clf.fit(X_undersampled, y_undersampled)\n",
    "\n",
    "    # Make predictions\n",
    "    train_pred = lgb_rus_clf.predict(X_train)\n",
    "    test_pred = lgb_rus_clf.predict(X_test)\n",
    "\n",
    "    # Calculate balanced accuracy score\n",
    "    train_score = balanced_accuracy_score(y_train, train_pred)\n",
    "    test_score = balanced_accuracy_score(y_test, test_pred)\n",
    "\n",
    "    # Append scores\n",
    "    models['train_score'].append(train_score)\n",
    "    models['test_score'].append(test_score)\n",
    "    models['learning_rate'].append(r)\n",
    "\n",
    "# Create a dataframe from the models dictionary with learning_rate as the index\n",
    "models_df = pd.DataFrame(models).set_index('learning_rate')\n",
    "\n",
    "# Display df\n",
    "display(models_df.sort_values(by='test_score', ascending=False).head(3))"
   ]
  },
  {
   "cell_type": "code",
   "execution_count": 68,
   "id": "41bbc603",
   "metadata": {},
   "outputs": [
    {
     "data": {
      "text/html": [
       "<div>\n",
       "<style scoped>\n",
       "    .dataframe tbody tr th:only-of-type {\n",
       "        vertical-align: middle;\n",
       "    }\n",
       "\n",
       "    .dataframe tbody tr th {\n",
       "        vertical-align: top;\n",
       "    }\n",
       "\n",
       "    .dataframe thead th {\n",
       "        text-align: right;\n",
       "    }\n",
       "</style>\n",
       "<table border=\"1\" class=\"dataframe\">\n",
       "  <thead>\n",
       "    <tr style=\"text-align: right;\">\n",
       "      <th></th>\n",
       "      <th>train_score</th>\n",
       "      <th>test_score</th>\n",
       "    </tr>\n",
       "    <tr>\n",
       "      <th>learning_rate</th>\n",
       "      <th></th>\n",
       "      <th></th>\n",
       "    </tr>\n",
       "  </thead>\n",
       "  <tbody>\n",
       "    <tr>\n",
       "      <th>0.99</th>\n",
       "      <td>0.898765</td>\n",
       "      <td>0.945347</td>\n",
       "    </tr>\n",
       "    <tr>\n",
       "      <th>0.94</th>\n",
       "      <td>0.919344</td>\n",
       "      <td>0.944994</td>\n",
       "    </tr>\n",
       "    <tr>\n",
       "      <th>0.11</th>\n",
       "      <td>0.921189</td>\n",
       "      <td>0.944876</td>\n",
       "    </tr>\n",
       "  </tbody>\n",
       "</table>\n",
       "</div>"
      ],
      "text/plain": [
       "               train_score  test_score\n",
       "learning_rate                         \n",
       "0.99              0.898765    0.945347\n",
       "0.94              0.919344    0.944994\n",
       "0.11              0.921189    0.944876"
      ]
     },
     "metadata": {},
     "output_type": "display_data"
    }
   ],
   "source": [
    "rates = np.arange(0.05, 1.0, 0.01)\n",
    "models = {'train_score': [], 'test_score': [], 'learning_rate': []}\n",
    "\n",
    "# Loop through each value in rates\n",
    "for r in rates:\n",
    "    # Initialize the classifier with current parameters\n",
    "    lgb_rus_clf = lgb.LGBMClassifier(learning_rate=r, random_state=1, verbose=-1)\n",
    "\n",
    "    # Fit the undersampled data\n",
    "    lgb_rus_clf.fit(X_undersampled, y_undersampled)\n",
    "\n",
    "    # Make predictions\n",
    "    train_pred = lgb_rus_clf.predict(X_train)\n",
    "    test_pred = lgb_rus_clf.predict(X_test)\n",
    "\n",
    "    # Calculate balanced accuracy score\n",
    "    train_score = balanced_accuracy_score(y_train, train_pred)\n",
    "    test_score = balanced_accuracy_score(y_test, test_pred)\n",
    "\n",
    "    # Append scores\n",
    "    models['train_score'].append(train_score)\n",
    "    models['test_score'].append(test_score)\n",
    "    models['learning_rate'].append(r)\n",
    "\n",
    "# Create a dataframe from the models dictionary with learning_rate as the index\n",
    "models_df = pd.DataFrame(models).set_index('learning_rate')\n",
    "\n",
    "# Display df\n",
    "display(models_df.sort_values(by='test_score', ascending=False).head(3))"
   ]
  },
  {
   "cell_type": "code",
   "execution_count": null,
   "id": "1da334b7",
   "metadata": {},
   "outputs": [],
   "source": [
    "# Sort the dataframe by test_score in descending order and get the top 5\n",
    "learning_rate = models_df.sort_values(by='test_score', ascending=False).head(5).index.tolist()\n",
    "\n",
    "# Display the top 5 max_depths\n",
    "learning_rate"
   ]
  },
  {
   "cell_type": "code",
   "execution_count": 69,
   "id": "b4447761",
   "metadata": {},
   "outputs": [
    {
     "data": {
      "text/plain": [
       "<Axes: xlabel='learning_rate'>"
      ]
     },
     "execution_count": 69,
     "metadata": {},
     "output_type": "execute_result"
    },
    {
     "data": {
      "image/png": "[encoded data removed]",
      "text/plain": [
       "<Figure size 640x480 with 1 Axes>"
      ]
     },
     "metadata": {},
     "output_type": "display_data"
    }
   ],
   "source": [
    "# Plot the results\n",
    "models_df.plot()"
   ]
  },
  {
   "cell_type": "code",
   "execution_count": 70,
   "id": "645ee26c-90ad-4f98-b600-9ccc20743e2a",
   "metadata": {},
   "outputs": [
    {
     "data": {
      "text/html": [
       "<div>\n",
       "<style scoped>\n",
       "    .dataframe tbody tr th:only-of-type {\n",
       "        vertical-align: middle;\n",
       "    }\n",
       "\n",
       "    .dataframe tbody tr th {\n",
       "        vertical-align: top;\n",
       "    }\n",
       "\n",
       "    .dataframe thead th {\n",
       "        text-align: right;\n",
       "    }\n",
       "</style>\n",
       "<table border=\"1\" class=\"dataframe\">\n",
       "  <thead>\n",
       "    <tr style=\"text-align: right;\">\n",
       "      <th></th>\n",
       "      <th>train_score</th>\n",
       "      <th>test_score</th>\n",
       "    </tr>\n",
       "    <tr>\n",
       "      <th>n_estimators</th>\n",
       "      <th></th>\n",
       "      <th></th>\n",
       "    </tr>\n",
       "  </thead>\n",
       "  <tbody>\n",
       "    <tr>\n",
       "      <th>234</th>\n",
       "      <td>0.902659</td>\n",
       "      <td>0.944577</td>\n",
       "    </tr>\n",
       "    <tr>\n",
       "      <th>222</th>\n",
       "      <td>0.904409</td>\n",
       "      <td>0.944577</td>\n",
       "    </tr>\n",
       "    <tr>\n",
       "      <th>224</th>\n",
       "      <td>0.902287</td>\n",
       "      <td>0.944577</td>\n",
       "    </tr>\n",
       "  </tbody>\n",
       "</table>\n",
       "</div>"
      ],
      "text/plain": [
       "              train_score  test_score\n",
       "n_estimators                         \n",
       "234              0.902659    0.944577\n",
       "222              0.904409    0.944577\n",
       "224              0.902287    0.944577"
      ]
     },
     "metadata": {},
     "output_type": "display_data"
    }
   ],
   "source": [
    "# Try the following values for n_estimators\n",
    "estimators = range(100, 250, 1)\n",
    "models = {'train_score': [], 'test_score': [], 'n_estimators': []}\n",
    "\n",
    "# Loop through each value in n_estimators\n",
    "for n in estimators:\n",
    "    # Initialize the classifier with current parameters\n",
    "    lgb_rus_clf =lgb.LGBMClassifier(n_estimators = n, random_state=1, verbose=-1)\n",
    "\n",
    "    # Fit the undersampled data\n",
    "    lgb_rus_clf.fit(X_undersampled, y_undersampled)\n",
    "\n",
    "    # Make predictions\n",
    "    train_pred = lgb_rus_clf.predict(X_train)\n",
    "    test_pred = lgb_rus_clf.predict(X_test)\n",
    "\n",
    "    # Calculate balanced accuracy scores\n",
    "    train_score = balanced_accuracy_score(y_train, train_pred)\n",
    "    test_score = balanced_accuracy_score(y_test, test_pred)\n",
    "\n",
    "    # Append scores\n",
    "    models['train_score'].append(train_score)\n",
    "    models['test_score'].append(test_score)\n",
    "    models['n_estimators'].append(n)\n",
    "\n",
    "# Create a dataframe from the models dictionary with n_estimators as the index\n",
    "models_df = pd.DataFrame(models).set_index('n_estimators')\n",
    "\n",
    "# Display df\n",
    "display(models_df.sort_values(by='test_score', ascending=False).head(3))"
   ]
  },
  {
   "cell_type": "code",
   "execution_count": 71,
   "id": "219ddcf5",
   "metadata": {},
   "outputs": [
    {
     "data": {
      "text/plain": [
       "[234, 222, 224]"
      ]
     },
     "execution_count": 71,
     "metadata": {},
     "output_type": "execute_result"
    }
   ],
   "source": [
    "# Sort the dataframe by test_score in descending order and get the top 3\n",
    "n_estimators = models_df.sort_values(by='test_score', ascending=False).head(3).index.tolist()\n",
    "\n",
    "# Display the top 3\n",
    "n_estimators"
   ]
  },
  {
   "cell_type": "code",
   "execution_count": 72,
   "id": "2130d35e",
   "metadata": {},
   "outputs": [
    {
     "data": {
      "text/plain": [
       "<Axes: xlabel='n_estimators'>"
      ]
     },
     "execution_count": 72,
     "metadata": {},
     "output_type": "execute_result"
    },
    {
     "data": {
      "image/png": "[encoded data removed]",
      "text/plain": [
       "<Figure size 640x480 with 1 Axes>"
      ]
     },
     "metadata": {},
     "output_type": "display_data"
    }
   ],
   "source": [
    "# Plot the results\n",
    "models_df.plot()"
   ]
  },
  {
   "cell_type": "code",
   "execution_count": 73,
   "id": "05ee3d0a",
   "metadata": {},
   "outputs": [
    {
     "data": {
      "text/html": [
       "<div>\n",
       "<style scoped>\n",
       "    .dataframe tbody tr th:only-of-type {\n",
       "        vertical-align: middle;\n",
       "    }\n",
       "\n",
       "    .dataframe tbody tr th {\n",
       "        vertical-align: top;\n",
       "    }\n",
       "\n",
       "    .dataframe thead th {\n",
       "        text-align: right;\n",
       "    }\n",
       "</style>\n",
       "<table border=\"1\" class=\"dataframe\">\n",
       "  <thead>\n",
       "    <tr style=\"text-align: right;\">\n",
       "      <th></th>\n",
       "      <th>train_score</th>\n",
       "      <th>test_score</th>\n",
       "    </tr>\n",
       "    <tr>\n",
       "      <th>max_depth</th>\n",
       "      <th></th>\n",
       "      <th></th>\n",
       "    </tr>\n",
       "  </thead>\n",
       "  <tbody>\n",
       "    <tr>\n",
       "      <th>21</th>\n",
       "      <td>0.921189</td>\n",
       "      <td>0.944994</td>\n",
       "    </tr>\n",
       "    <tr>\n",
       "      <th>19</th>\n",
       "      <td>0.920475</td>\n",
       "      <td>0.944994</td>\n",
       "    </tr>\n",
       "    <tr>\n",
       "      <th>11</th>\n",
       "      <td>0.920878</td>\n",
       "      <td>0.944994</td>\n",
       "    </tr>\n",
       "  </tbody>\n",
       "</table>\n",
       "</div>"
      ],
      "text/plain": [
       "           train_score  test_score\n",
       "max_depth                         \n",
       "21            0.921189    0.944994\n",
       "19            0.920475    0.944994\n",
       "11            0.920878    0.944994"
      ]
     },
     "metadata": {},
     "output_type": "display_data"
    }
   ],
   "source": [
    "# Try the following values for max_depth\n",
    "max_depths = range(2, 30)\n",
    "models = {'train_score': [], 'test_score': [], 'max_depth': []}\n",
    "\n",
    "# Loop through each value in max_depths\n",
    "for depth in max_depths:\n",
    "    # Initialize the classifier with current parameters\n",
    "    lgb_rus_clf = lgb.LGBMClassifier(max_depth = depth, random_state=1, verbose=-1)\n",
    "    \n",
    "    # Fit the undersampled data\n",
    "    lgb_rus_clf.fit(X_undersampled, y_undersampled)\n",
    "\n",
    "    # Make predictions\n",
    "    train_pred = lgb_rus_clf.predict(X_train)\n",
    "    test_pred = lgb_rus_clf.predict(X_test)\n",
    "\n",
    "    # Calculate balanced accuracy scores\n",
    "    train_score = balanced_accuracy_score(y_train, train_pred)\n",
    "    test_score = balanced_accuracy_score(y_test, test_pred)\n",
    " \n",
    "    # Append scores\n",
    "    models['train_score'].append(train_score)\n",
    "    models['test_score'].append(test_score)\n",
    "    models['max_depth'].append(depth)\n",
    "\n",
    "# Create a dataframe from the models dictionary with max_depth as the index\n",
    "models_df = pd.DataFrame(models).set_index('max_depth')\n",
    "\n",
    "# Display df\n",
    "display(models_df.sort_values(by='test_score', ascending=False).head(3))"
   ]
  },
  {
   "cell_type": "code",
   "execution_count": 74,
   "id": "4389882a",
   "metadata": {},
   "outputs": [
    {
     "data": {
      "text/plain": [
       "[21, 19, 11]"
      ]
     },
     "execution_count": 74,
     "metadata": {},
     "output_type": "execute_result"
    }
   ],
   "source": [
    "# Sort the dataframe by test_score in descending order and get the top 3\n",
    "max_depth = models_df.sort_values(by='test_score', ascending=False).head(3).index.tolist()\n",
    "\n",
    "# Display the top 3 \n",
    "max_depth"
   ]
  },
  {
   "cell_type": "code",
   "execution_count": 75,
   "id": "8ba5be79",
   "metadata": {},
   "outputs": [
    {
     "data": {
      "text/plain": [
       "<Axes: xlabel='max_depth'>"
      ]
     },
     "execution_count": 75,
     "metadata": {},
     "output_type": "execute_result"
    },
    {
     "data": {
      "image/png": "[encoded data removed]",
      "text/plain": [
       "<Figure size 640x480 with 1 Axes>"
      ]
     },
     "metadata": {},
     "output_type": "display_data"
    }
   ],
   "source": [
    "# Plot the results\n",
    "models_df.plot()"
   ]
  },
  {
   "cell_type": "code",
   "execution_count": 76,
   "id": "dbd1bcf9",
   "metadata": {},
   "outputs": [
    {
     "data": {
      "text/html": [
       "<div>\n",
       "<style scoped>\n",
       "    .dataframe tbody tr th:only-of-type {\n",
       "        vertical-align: middle;\n",
       "    }\n",
       "\n",
       "    .dataframe tbody tr th {\n",
       "        vertical-align: top;\n",
       "    }\n",
       "\n",
       "    .dataframe thead th {\n",
       "        text-align: right;\n",
       "    }\n",
       "</style>\n",
       "<table border=\"1\" class=\"dataframe\">\n",
       "  <thead>\n",
       "    <tr style=\"text-align: right;\">\n",
       "      <th></th>\n",
       "      <th>train_score</th>\n",
       "      <th>test_score</th>\n",
       "    </tr>\n",
       "    <tr>\n",
       "      <th>num_leaves</th>\n",
       "      <th></th>\n",
       "      <th></th>\n",
       "    </tr>\n",
       "  </thead>\n",
       "  <tbody>\n",
       "    <tr>\n",
       "      <th>26</th>\n",
       "      <td>0.920847</td>\n",
       "      <td>0.944994</td>\n",
       "    </tr>\n",
       "    <tr>\n",
       "      <th>41</th>\n",
       "      <td>0.920847</td>\n",
       "      <td>0.944876</td>\n",
       "    </tr>\n",
       "    <tr>\n",
       "      <th>12</th>\n",
       "      <td>0.921220</td>\n",
       "      <td>0.944876</td>\n",
       "    </tr>\n",
       "  </tbody>\n",
       "</table>\n",
       "</div>"
      ],
      "text/plain": [
       "            train_score  test_score\n",
       "num_leaves                         \n",
       "26             0.920847    0.944994\n",
       "41             0.920847    0.944876\n",
       "12             0.921220    0.944876"
      ]
     },
     "metadata": {},
     "output_type": "display_data"
    }
   ],
   "source": [
    "# Try the following values for num_leaves\n",
    "num_leaves = range(10, 50)\n",
    "models = {'train_score': [], 'test_score': [], 'num_leaves': []}\n",
    "\n",
    "# Loop through each value in num_leaves\n",
    "for num in num_leaves:\n",
    "    # Initialize the classifier with current parameters\n",
    "    lgb_rus_clf = lgb.LGBMClassifier(num_leaves = num, random_state=1, verbose=-1)\n",
    "    \n",
    "    # Fit the undersampled data\n",
    "    lgb_rus_clf.fit(X_undersampled, y_undersampled)\n",
    "\n",
    "    # Make predictions\n",
    "    train_pred = lgb_rus_clf.predict(X_train)\n",
    "    test_pred = lgb_rus_clf.predict(X_test)\n",
    "\n",
    "    # Calculate balanced accuracy scores\n",
    "    train_score = balanced_accuracy_score(y_train, train_pred)\n",
    "    test_score = balanced_accuracy_score(y_test, test_pred)\n",
    " \n",
    "    # Append scores\n",
    "    models['train_score'].append(train_score)\n",
    "    models['test_score'].append(test_score)\n",
    "    models['num_leaves'].append(num)\n",
    "\n",
    "# Create a dataframe from the models dictionary with max_depth as the index\n",
    "models_df = pd.DataFrame(models).set_index('num_leaves')\n",
    "\n",
    "# Display df\n",
    "display(models_df.sort_values(by='test_score', ascending=False).head(3))"
   ]
  },
  {
   "cell_type": "code",
   "execution_count": 77,
   "id": "f230a331",
   "metadata": {},
   "outputs": [
    {
     "data": {
      "text/plain": [
       "[26, 41, 12]"
      ]
     },
     "execution_count": 77,
     "metadata": {},
     "output_type": "execute_result"
    }
   ],
   "source": [
    "# Sort the dataframe by test_score in descending order and get the top 3\n",
    "num_leaves = models_df.sort_values(by='test_score', ascending=False).head(3).index.tolist()\n",
    "\n",
    "# Display the top 3 \n",
    "num_leaves"
   ]
  },
  {
   "cell_type": "code",
   "execution_count": 78,
   "id": "70970d8b",
   "metadata": {},
   "outputs": [
    {
     "data": {
      "text/plain": [
       "<Axes: xlabel='num_leaves'>"
      ]
     },
     "execution_count": 78,
     "metadata": {},
     "output_type": "execute_result"
    },
    {
     "data": {
      "image/png": "[encoded data removed]",
      "text/plain": [
       "<Figure size 640x480 with 1 Axes>"
      ]
     },
     "metadata": {},
     "output_type": "display_data"
    }
   ],
   "source": [
    "# Plot the results\n",
    "models_df.plot()"
   ]
  },
  {
   "cell_type": "code",
   "execution_count": 79,
   "id": "af233370",
   "metadata": {},
   "outputs": [
    {
     "data": {
      "text/html": [
       "<div>\n",
       "<style scoped>\n",
       "    .dataframe tbody tr th:only-of-type {\n",
       "        vertical-align: middle;\n",
       "    }\n",
       "\n",
       "    .dataframe tbody tr th {\n",
       "        vertical-align: top;\n",
       "    }\n",
       "\n",
       "    .dataframe thead th {\n",
       "        text-align: right;\n",
       "    }\n",
       "</style>\n",
       "<table border=\"1\" class=\"dataframe\">\n",
       "  <thead>\n",
       "    <tr style=\"text-align: right;\">\n",
       "      <th></th>\n",
       "      <th>train_score</th>\n",
       "      <th>test_score</th>\n",
       "    </tr>\n",
       "    <tr>\n",
       "      <th>max_bin</th>\n",
       "      <th></th>\n",
       "      <th></th>\n",
       "    </tr>\n",
       "  </thead>\n",
       "  <tbody>\n",
       "    <tr>\n",
       "      <th>264</th>\n",
       "      <td>0.920475</td>\n",
       "      <td>0.944994</td>\n",
       "    </tr>\n",
       "    <tr>\n",
       "      <th>465</th>\n",
       "      <td>0.920319</td>\n",
       "      <td>0.944994</td>\n",
       "    </tr>\n",
       "    <tr>\n",
       "      <th>290</th>\n",
       "      <td>0.920847</td>\n",
       "      <td>0.944994</td>\n",
       "    </tr>\n",
       "  </tbody>\n",
       "</table>\n",
       "</div>"
      ],
      "text/plain": [
       "         train_score  test_score\n",
       "max_bin                         \n",
       "264         0.920475    0.944994\n",
       "465         0.920319    0.944994\n",
       "290         0.920847    0.944994"
      ]
     },
     "metadata": {},
     "output_type": "display_data"
    }
   ],
   "source": [
    "# Try the following values for max_bin\n",
    "max_bin = range(20, 512, 1)\n",
    "models = {'train_score': [], 'test_score': [], 'max_bin': []}\n",
    "\n",
    "# Loop through each value in max_bins\n",
    "for bin in max_bin:\n",
    "    # Initialize the classifier with current parameters\n",
    "    lgb_rus_clf = lgb.LGBMClassifier(max_bin = bin, random_state=1, verbose=-1)\n",
    "    \n",
    "    # Fit the undersampled data\n",
    "    lgb_rus_clf.fit(X_undersampled, y_undersampled)\n",
    "\n",
    "    # Make predictions\n",
    "    train_pred = lgb_rus_clf.predict(X_train)\n",
    "    test_pred = lgb_rus_clf.predict(X_test)\n",
    "\n",
    "    # Calculate balanced accuracy scores\n",
    "    train_score = balanced_accuracy_score(y_train, train_pred)\n",
    "    test_score = balanced_accuracy_score(y_test, test_pred)\n",
    " \n",
    "    # Append scores\n",
    "    models['train_score'].append(train_score)\n",
    "    models['test_score'].append(test_score)\n",
    "    models['max_bin'].append(bin)\n",
    "\n",
    "# Create a dataframe from the models dictionary with max_depth as the index\n",
    "models_df = pd.DataFrame(models).set_index('max_bin')\n",
    "\n",
    "# Display df\n",
    "display(models_df.sort_values(by='test_score', ascending=False).head(3))"
   ]
  },
  {
   "cell_type": "code",
   "execution_count": 80,
   "id": "08a954e9",
   "metadata": {},
   "outputs": [
    {
     "data": {
      "text/plain": [
       "[264, 465, 290]"
      ]
     },
     "execution_count": 80,
     "metadata": {},
     "output_type": "execute_result"
    }
   ],
   "source": [
    "# Sort the dataframe by test_score in descending order and get the top 3\n",
    "max_bin = models_df.sort_values(by='test_score', ascending=False).head(3).index.tolist()\n",
    "\n",
    "# Display the top 3 \n",
    "max_bin"
   ]
  },
  {
   "cell_type": "code",
   "execution_count": 81,
   "id": "57c6f85a",
   "metadata": {},
   "outputs": [
    {
     "data": {
      "text/plain": [
       "<Axes: xlabel='max_bin'>"
      ]
     },
     "execution_count": 81,
     "metadata": {},
     "output_type": "execute_result"
    },
    {
     "data": {
      "image/png": "[encoded data removed]",
      "text/plain": [
       "<Figure size 640x480 with 1 Axes>"
      ]
     },
     "metadata": {},
     "output_type": "display_data"
    }
   ],
   "source": [
    "# Plot the results\n",
    "models_df.plot()"
   ]
  },
  {
   "cell_type": "code",
   "execution_count": 82,
   "id": "d847e675",
   "metadata": {},
   "outputs": [
    {
     "ename": "NameError",
     "evalue": "name 'learning_rate' is not defined",
     "output_type": "error",
     "traceback": [
      "\u001b[0;31m---------------------------------------------------------------------------\u001b[0m",
      "\u001b[0;31mNameError\u001b[0m                                 Traceback (most recent call last)",
      "Cell \u001b[0;32mIn[82], line 5\u001b[0m\n\u001b[1;32m      1\u001b[0m \u001b[38;5;66;03m# Dictionary with 3 values for each parameter\u001b[39;00m\n\u001b[1;32m      2\u001b[0m params \u001b[38;5;241m=\u001b[39m {\n\u001b[1;32m      3\u001b[0m     \u001b[38;5;124m'\u001b[39m\u001b[38;5;124mn_estimators\u001b[39m\u001b[38;5;124m'\u001b[39m: n_estimators,\n\u001b[1;32m      4\u001b[0m     \u001b[38;5;124m'\u001b[39m\u001b[38;5;124mmax_depth\u001b[39m\u001b[38;5;124m'\u001b[39m: max_depth,\n\u001b[0;32m----> 5\u001b[0m     \u001b[38;5;124m'\u001b[39m\u001b[38;5;124mlearning_rate\u001b[39m\u001b[38;5;124m'\u001b[39m: \u001b[43mlearning_rate\u001b[49m,\n\u001b[1;32m      6\u001b[0m     \u001b[38;5;124m'\u001b[39m\u001b[38;5;124mnum_leaves\u001b[39m\u001b[38;5;124m'\u001b[39m: num_leaves,\n\u001b[1;32m      7\u001b[0m     \u001b[38;5;124m'\u001b[39m\u001b[38;5;124mmax_bin\u001b[39m\u001b[38;5;124m'\u001b[39m: max_bin\n\u001b[1;32m      8\u001b[0m }\n\u001b[1;32m     10\u001b[0m \u001b[38;5;66;03m# Initialize a dictionary to store results\u001b[39;00m\n\u001b[1;32m     11\u001b[0m results \u001b[38;5;241m=\u001b[39m {\u001b[38;5;124m'\u001b[39m\u001b[38;5;124mn_estimators\u001b[39m\u001b[38;5;124m'\u001b[39m: [], \u001b[38;5;124m'\u001b[39m\u001b[38;5;124mmax_depth\u001b[39m\u001b[38;5;124m'\u001b[39m: [], \u001b[38;5;124m'\u001b[39m\u001b[38;5;124mlearning_rate\u001b[39m\u001b[38;5;124m'\u001b[39m: [], \u001b[38;5;124m'\u001b[39m\u001b[38;5;124mnum_leaves\u001b[39m\u001b[38;5;124m'\u001b[39m: [], \u001b[38;5;124m'\u001b[39m\u001b[38;5;124mmax_bin\u001b[39m\u001b[38;5;124m'\u001b[39m: [], \u001b[38;5;124m'\u001b[39m\u001b[38;5;124mtrain_score\u001b[39m\u001b[38;5;124m'\u001b[39m: [], \u001b[38;5;124m'\u001b[39m\u001b[38;5;124mtest_score\u001b[39m\u001b[38;5;124m'\u001b[39m: []}\n",
      "\u001b[0;31mNameError\u001b[0m: name 'learning_rate' is not defined"
     ]
    }
   ],
   "source": [
    "# Dictionary with 3 values for each parameter\n",
    "params = {\n",
    "    'n_estimators': n_estimators,\n",
    "    'max_depth': max_depth,\n",
    "    'learning_rate': learning_rate,\n",
    "    'num_leaves': num_leaves,\n",
    "    'max_bin': max_bin\n",
    "}\n",
    "\n",
    "# Initialize a dictionary to store results\n",
    "results = {'n_estimators': [], 'max_depth': [], 'learning_rate': [], 'num_leaves': [], 'max_bin': [], 'train_score': [], 'test_score': []}\n",
    "\n",
    "# Loop through all combinations of parameters\n",
    "for n in params['n_estimators']:\n",
    "    for d in params['max_depth']:\n",
    "        for lr in params['learning_rate']:\n",
    "            for nl in params['num_leaves']:\n",
    "                for b in params['max_bin']:\n",
    "                    # Initialize the classifier with current parameters\n",
    "                    lgb_rus_clf = lgb.LGBMClassifier(n_estimators=n, learning_rate=lr, max_depth=d, num_leaves=nl, max_bin=b, random_state=1, verbose=-1)\n",
    "                \n",
    "                    # Fit the undersampled data\n",
    "                    lgb_rus_clf.fit(X_undersampled, y_undersampled)\n",
    "    \n",
    "                    # Make predictions\n",
    "                    train_pred = lgb_rus_clf.predict(X_train)\n",
    "                    test_pred = lgb_rus_clf.predict(X_test)\n",
    "    \n",
    "                    # Calculate balanced accuracy scores\n",
    "                    train_score = balanced_accuracy_score(y_train, train_pred)\n",
    "                    test_score = balanced_accuracy_score(y_test, test_pred)\n",
    "    \n",
    "                    # Append results to the dictionary\n",
    "                    results['n_estimators'].append(n)\n",
    "                    results['max_depth'].append(d)\n",
    "                    results['learning_rate'].append(lr)\n",
    "                    results['num_leaves'].append(nl)\n",
    "                    results['max_bin'].append(b)\n",
    "                    results['train_score'].append(train_score)\n",
    "                    results['test_score'].append(test_score)\n",
    "                    \n",
    "# Create a DataFrame from the results dictionary\n",
    "results_df = pd.DataFrame(results)"
   ]
  },
  {
   "cell_type": "code",
   "execution_count": null,
   "id": "7b837dad",
   "metadata": {},
   "outputs": [],
   "source": [
    "sorted_results_df = results_df.sort_values(by='test_score', ascending=False)\n",
    "print(sorted_results_df.head(3))"
   ]
  },
  {
   "cell_type": "code",
   "execution_count": null,
   "id": "9439f371",
   "metadata": {},
   "outputs": [],
   "source": [
    "# For Classification\n",
    "# Initialize the classifier with current parameters\n",
    "lgb_rus_clf = lgb.LGBMClassifier(n_estimators=105, max_depth=16, learning_rate=.06, num_leaves=22, max_bin=67, random_state=1, verbose=-1)\n",
    "\n",
    "# Fit the undersampled data\n",
    "lgb_rus_clf.fit(X_undersampled, y_undersampled)"
   ]
  },
  {
   "cell_type": "code",
   "execution_count": null,
   "id": "00bfbd22",
   "metadata": {},
   "outputs": [],
   "source": [
    "# Make predictions\n",
    "train_pred = lgb_rus_clf.predict(X_train)\n",
    "test_pred = lgb_rus_clf.predict(X_test)"
   ]
  },
  {
   "cell_type": "code",
   "execution_count": null,
   "id": "6d61126f",
   "metadata": {},
   "outputs": [],
   "source": [
    "# Check the model's balanced accuracy on the training and test sets\n",
    "print('\\nRandomUnderSampled Data and Tuned LGB Classifer')\n",
    "\n",
    "# Print scores\n",
    "print(\"--------------------------------------------------------\")\n",
    "x = balanced_accuracy_score(y_train, train_pred)\n",
    "y = balanced_accuracy_score(y_test, test_pred)\n",
    "print(balanced_accuracy_score(y_train, train_pred),'training score')\n",
    "print(balanced_accuracy_score(y_test, test_pred),'testing score')\n",
    "print(round((x-y), 16),'variance')\n",
    "\n",
    "# Print classification reports\n",
    "print(\"--------------------------------------------------------\")\n",
    "print(f\"Classification Report - Original Data\")\n",
    "print(classification_report(y_test, test_pred))\n",
    "print(\"--------------------------------------------------------\")"
   ]
  },
  {
   "cell_type": "code",
   "execution_count": null,
   "id": "a989bba5",
   "metadata": {},
   "outputs": [],
   "source": [
    "# Get the feature importance array\n",
    "importances = lgb_rus_clf.feature_importances_\n",
    "# List the top 10 most important features\n",
    "importances_sorted = sorted(zip(lgb_rus_clf.feature_importances_, X.columns), reverse=True)\n",
    "importances_sorted"
   ]
  },
  {
   "cell_type": "code",
   "execution_count": null,
   "id": "219dc996",
   "metadata": {},
   "outputs": [],
   "source": []
  }
 ],
 "metadata": {
  "kernelspec": {
   "display_name": "Python 3 (ipykernel)",
   "language": "python",
   "name": "python3"
  },
  "language_info": {
   "codemirror_mode": {
    "name": "ipython",
    "version": 3
   },
   "file_extension": ".py",
   "mimetype": "text/x-python",
   "name": "python",
   "nbconvert_exporter": "python",
   "pygments_lexer": "ipython3",
   "version": "3.8.18"
  }
 },
 "nbformat": 4,
 "nbformat_minor": 5
}
