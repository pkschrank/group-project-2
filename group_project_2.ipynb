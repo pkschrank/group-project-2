{
 "cells": [
  {
   "cell_type": "markdown",
   "id": "af3fe972",
   "metadata": {},
   "source": [
    "# S&P 500 Signal Classifier"
   ]
  },
  {
   "cell_type": "markdown",
   "id": "d4754627",
   "metadata": {},
   "source": [
    "Approach:\n",
    "1. Create features\n",
    "2. Winsorize data\n",
    "3. Test, Train split data\n",
    "4. Scale the test and train data\n",
    "6. Original, Oversample, and Undersample the data\n",
    "7. Apply RandomForestClassifier, XGBoost, and LightBoost to predict"
   ]
  },
  {
   "cell_type": "markdown",
   "id": "4509389a",
   "metadata": {},
   "source": [
    "## Install Required Packages"
   ]
  },
  {
   "cell_type": "code",
   "execution_count": 1,
   "id": "994f9e7a-50fa-4bcd-9415-3baadfc05ca8",
   "metadata": {},
   "outputs": [
    {
     "name": "stdout",
     "output_type": "stream",
     "text": [
      "'yfinance' is already installed.\n",
      "'sklearn' is already installed.\n",
      "'xgboost' is already installed.\n",
      "'lightgbm' is already installed.\n"
     ]
    }
   ],
   "source": [
    "# Import tools required to verify if packages already exist\n",
    "import subprocess\n",
    "import sys\n",
    "\n",
    "def check_install_packages(package_list):\n",
    "    for package_name, install_command in package_list.items():\n",
    "        try:\n",
    "            __import__(package_name)\n",
    "            print(f\"'{package_name}' is already installed.\")\n",
    "        except ImportError:\n",
    "            print(f\"'{package_name}' is not installed. Installing now...\")\n",
    "            subprocess.check_call(install_command)\n",
    "            print(f\"'{package_name}' has been installed successfully.\")\n",
    "\n",
    "# List of packages to check and install if necessary\n",
    "packages = {\n",
    "    'yfinance': [sys.executable, \"-m\", \"pip\", \"install\", \"yfinance\", \"--upgrade\", \"--no-cache-dir\"],\n",
    "    'sklearn': [sys.executable, \"-m\", \"pip\", \"install\", \"scikit-learn\"],\n",
    "    'xgboost': [sys.executable, \"-m\", \"pip\", \"install\", \"xgboost\"],\n",
    "    'lightgbm': [sys.executable, \"-m\", \"pip\", \"install\", \"lightgbm\"]\n",
    "}\n",
    "\n",
    "# Check and install the packages\n",
    "check_install_packages(packages)"
   ]
  },
  {
   "cell_type": "code",
   "execution_count": 2,
   "id": "5dc3d910",
   "metadata": {},
   "outputs": [],
   "source": [
    "# Install Yahoo Finance\n",
    "# !pip install yfinance --upgrade --no-cache-dir"
   ]
  },
  {
   "cell_type": "code",
   "execution_count": 3,
   "id": "5f154d30",
   "metadata": {},
   "outputs": [],
   "source": [
    "# Install SciKit Learn\n",
    "# !pip install scikit-learn"
   ]
  },
  {
   "cell_type": "code",
   "execution_count": 4,
   "id": "b975e971",
   "metadata": {},
   "outputs": [],
   "source": [
    "# Install XGBoost\n",
    "# !pip install xgboost"
   ]
  },
  {
   "cell_type": "code",
   "execution_count": 5,
   "id": "ff68c661",
   "metadata": {},
   "outputs": [],
   "source": [
    "# Install LightBoost\n",
    "# !pip install lightgbm"
   ]
  },
  {
   "cell_type": "markdown",
   "id": "343bf2d9",
   "metadata": {},
   "source": [
    "## Import Required Dependencies"
   ]
  },
  {
   "cell_type": "code",
   "execution_count": 6,
   "id": "92216ef8-6013-4ff6-b1f7-0d91479ef60b",
   "metadata": {},
   "outputs": [],
   "source": [
    "# Import the required libraries and dependencies\n",
    "import yfinance as yf\n",
    "from sklearn.ensemble import RandomForestClassifier\n",
    "from sklearn.metrics import precision_score\n",
    "from sklearn.preprocessing import StandardScaler\n",
    "from sklearn.metrics import accuracy_score, precision_score, recall_score, f1_score\n",
    "from sklearn.metrics import classification_report\n",
    "from sklearn.metrics import balanced_accuracy_score, make_scorer\n",
    "from sklearn.model_selection import train_test_split, TimeSeriesSplit\n",
    "import pandas as pd\n",
    "import datetime as dt\n",
    "import numpy as np\n",
    "import matplotlib.pyplot as plt\n",
    "%matplotlib inline\n",
    "import seaborn as sns\n",
    "from xgboost import XGBClassifier\n",
    "from xgboost import plot_importance\n",
    "import lightgbm as lgb\n",
    "from helper_functions import rsi, print_classification_report, print_balanced_accuracy_report"
   ]
  },
  {
   "cell_type": "code",
   "execution_count": 7,
   "id": "19a197ac",
   "metadata": {},
   "outputs": [],
   "source": [
    "import warnings\n",
    "# Ignore warnings\n",
    "warnings.filterwarnings(\"ignore\", category=FutureWarning)\n",
    "warnings.filterwarnings(\"ignore\", category=UserWarning)"
   ]
  },
  {
   "cell_type": "markdown",
   "id": "14763c16",
   "metadata": {},
   "source": [
    "## Retrieve and Load Data"
   ]
  },
  {
   "cell_type": "code",
   "execution_count": 8,
   "id": "f786f89b",
   "metadata": {},
   "outputs": [],
   "source": [
    "# Retreive data\n",
    "sp500 = yf.Ticker('^GSPC')\n",
    "sp500 = sp500.history(period='max')"
   ]
  },
  {
   "cell_type": "code",
   "execution_count": 9,
   "id": "e9585e6b",
   "metadata": {},
   "outputs": [],
   "source": [
    "# Drop timezone from datetime\n",
    "sp500 = sp500.reset_index()\n",
    "sp500['Date'] = sp500['Date'].dt.tz_localize(None)\n",
    "sp500.set_index('Date', inplace=True)"
   ]
  },
  {
   "cell_type": "code",
   "execution_count": 10,
   "id": "c9de240f",
   "metadata": {},
   "outputs": [],
   "source": [
    "# Get the last rows of the DataFrame\n",
    "sp500 = sp500.tail(24252) # Get max available data"
   ]
  },
  {
   "cell_type": "code",
   "execution_count": 11,
   "id": "302e640c",
   "metadata": {},
   "outputs": [
    {
     "data": {
      "text/html": [
       "<div>\n",
       "<style scoped>\n",
       "    .dataframe tbody tr th:only-of-type {\n",
       "        vertical-align: middle;\n",
       "    }\n",
       "\n",
       "    .dataframe tbody tr th {\n",
       "        vertical-align: top;\n",
       "    }\n",
       "\n",
       "    .dataframe thead th {\n",
       "        text-align: right;\n",
       "    }\n",
       "</style>\n",
       "<table border=\"1\" class=\"dataframe\">\n",
       "  <thead>\n",
       "    <tr style=\"text-align: right;\">\n",
       "      <th></th>\n",
       "      <th>Open</th>\n",
       "      <th>High</th>\n",
       "      <th>Low</th>\n",
       "      <th>Close</th>\n",
       "      <th>Volume</th>\n",
       "      <th>Dividends</th>\n",
       "      <th>Stock Splits</th>\n",
       "    </tr>\n",
       "    <tr>\n",
       "      <th>Date</th>\n",
       "      <th></th>\n",
       "      <th></th>\n",
       "      <th></th>\n",
       "      <th></th>\n",
       "      <th></th>\n",
       "      <th></th>\n",
       "      <th></th>\n",
       "    </tr>\n",
       "  </thead>\n",
       "  <tbody>\n",
       "    <tr>\n",
       "      <th>1927-12-30</th>\n",
       "      <td>17.660000</td>\n",
       "      <td>17.660000</td>\n",
       "      <td>17.660000</td>\n",
       "      <td>17.660000</td>\n",
       "      <td>0</td>\n",
       "      <td>0.0</td>\n",
       "      <td>0.0</td>\n",
       "    </tr>\n",
       "    <tr>\n",
       "      <th>1928-01-03</th>\n",
       "      <td>17.760000</td>\n",
       "      <td>17.760000</td>\n",
       "      <td>17.760000</td>\n",
       "      <td>17.760000</td>\n",
       "      <td>0</td>\n",
       "      <td>0.0</td>\n",
       "      <td>0.0</td>\n",
       "    </tr>\n",
       "    <tr>\n",
       "      <th>1928-01-04</th>\n",
       "      <td>17.719999</td>\n",
       "      <td>17.719999</td>\n",
       "      <td>17.719999</td>\n",
       "      <td>17.719999</td>\n",
       "      <td>0</td>\n",
       "      <td>0.0</td>\n",
       "      <td>0.0</td>\n",
       "    </tr>\n",
       "    <tr>\n",
       "      <th>1928-01-05</th>\n",
       "      <td>17.549999</td>\n",
       "      <td>17.549999</td>\n",
       "      <td>17.549999</td>\n",
       "      <td>17.549999</td>\n",
       "      <td>0</td>\n",
       "      <td>0.0</td>\n",
       "      <td>0.0</td>\n",
       "    </tr>\n",
       "    <tr>\n",
       "      <th>1928-01-06</th>\n",
       "      <td>17.660000</td>\n",
       "      <td>17.660000</td>\n",
       "      <td>17.660000</td>\n",
       "      <td>17.660000</td>\n",
       "      <td>0</td>\n",
       "      <td>0.0</td>\n",
       "      <td>0.0</td>\n",
       "    </tr>\n",
       "    <tr>\n",
       "      <th>...</th>\n",
       "      <td>...</td>\n",
       "      <td>...</td>\n",
       "      <td>...</td>\n",
       "      <td>...</td>\n",
       "      <td>...</td>\n",
       "      <td>...</td>\n",
       "      <td>...</td>\n",
       "    </tr>\n",
       "    <tr>\n",
       "      <th>2024-06-26</th>\n",
       "      <td>5460.709961</td>\n",
       "      <td>5483.140137</td>\n",
       "      <td>5451.870117</td>\n",
       "      <td>5477.899902</td>\n",
       "      <td>3563920000</td>\n",
       "      <td>0.0</td>\n",
       "      <td>0.0</td>\n",
       "    </tr>\n",
       "    <tr>\n",
       "      <th>2024-06-27</th>\n",
       "      <td>5473.589844</td>\n",
       "      <td>5490.810059</td>\n",
       "      <td>5467.540039</td>\n",
       "      <td>5482.870117</td>\n",
       "      <td>3589530000</td>\n",
       "      <td>0.0</td>\n",
       "      <td>0.0</td>\n",
       "    </tr>\n",
       "    <tr>\n",
       "      <th>2024-06-28</th>\n",
       "      <td>5488.479980</td>\n",
       "      <td>5523.640137</td>\n",
       "      <td>5451.120117</td>\n",
       "      <td>5460.479980</td>\n",
       "      <td>7199220000</td>\n",
       "      <td>0.0</td>\n",
       "      <td>0.0</td>\n",
       "    </tr>\n",
       "    <tr>\n",
       "      <th>2024-07-01</th>\n",
       "      <td>5471.080078</td>\n",
       "      <td>5479.549805</td>\n",
       "      <td>5446.529785</td>\n",
       "      <td>5475.089844</td>\n",
       "      <td>3488760000</td>\n",
       "      <td>0.0</td>\n",
       "      <td>0.0</td>\n",
       "    </tr>\n",
       "    <tr>\n",
       "      <th>2024-07-02</th>\n",
       "      <td>5461.839844</td>\n",
       "      <td>5509.689941</td>\n",
       "      <td>5458.430176</td>\n",
       "      <td>5509.009766</td>\n",
       "      <td>3329950000</td>\n",
       "      <td>0.0</td>\n",
       "      <td>0.0</td>\n",
       "    </tr>\n",
       "  </tbody>\n",
       "</table>\n",
       "<p>24241 rows × 7 columns</p>\n",
       "</div>"
      ],
      "text/plain": [
       "                   Open         High          Low        Close      Volume  \\\n",
       "Date                                                                         \n",
       "1927-12-30    17.660000    17.660000    17.660000    17.660000           0   \n",
       "1928-01-03    17.760000    17.760000    17.760000    17.760000           0   \n",
       "1928-01-04    17.719999    17.719999    17.719999    17.719999           0   \n",
       "1928-01-05    17.549999    17.549999    17.549999    17.549999           0   \n",
       "1928-01-06    17.660000    17.660000    17.660000    17.660000           0   \n",
       "...                 ...          ...          ...          ...         ...   \n",
       "2024-06-26  5460.709961  5483.140137  5451.870117  5477.899902  3563920000   \n",
       "2024-06-27  5473.589844  5490.810059  5467.540039  5482.870117  3589530000   \n",
       "2024-06-28  5488.479980  5523.640137  5451.120117  5460.479980  7199220000   \n",
       "2024-07-01  5471.080078  5479.549805  5446.529785  5475.089844  3488760000   \n",
       "2024-07-02  5461.839844  5509.689941  5458.430176  5509.009766  3329950000   \n",
       "\n",
       "            Dividends  Stock Splits  \n",
       "Date                                 \n",
       "1927-12-30        0.0           0.0  \n",
       "1928-01-03        0.0           0.0  \n",
       "1928-01-04        0.0           0.0  \n",
       "1928-01-05        0.0           0.0  \n",
       "1928-01-06        0.0           0.0  \n",
       "...               ...           ...  \n",
       "2024-06-26        0.0           0.0  \n",
       "2024-06-27        0.0           0.0  \n",
       "2024-06-28        0.0           0.0  \n",
       "2024-07-01        0.0           0.0  \n",
       "2024-07-02        0.0           0.0  \n",
       "\n",
       "[24241 rows x 7 columns]"
      ]
     },
     "execution_count": 11,
     "metadata": {},
     "output_type": "execute_result"
    }
   ],
   "source": [
    "# Display data\n",
    "sp500"
   ]
  },
  {
   "cell_type": "code",
   "execution_count": 12,
   "id": "2f8a0320",
   "metadata": {},
   "outputs": [
    {
     "data": {
      "text/html": [
       "<div>\n",
       "<style scoped>\n",
       "    .dataframe tbody tr th:only-of-type {\n",
       "        vertical-align: middle;\n",
       "    }\n",
       "\n",
       "    .dataframe tbody tr th {\n",
       "        vertical-align: top;\n",
       "    }\n",
       "\n",
       "    .dataframe thead th {\n",
       "        text-align: right;\n",
       "    }\n",
       "</style>\n",
       "<table border=\"1\" class=\"dataframe\">\n",
       "  <thead>\n",
       "    <tr style=\"text-align: right;\">\n",
       "      <th></th>\n",
       "      <th>Open</th>\n",
       "      <th>High</th>\n",
       "      <th>Low</th>\n",
       "      <th>Close</th>\n",
       "      <th>Volume</th>\n",
       "      <th>Dividends</th>\n",
       "      <th>Stock Splits</th>\n",
       "    </tr>\n",
       "    <tr>\n",
       "      <th>Date</th>\n",
       "      <th></th>\n",
       "      <th></th>\n",
       "      <th></th>\n",
       "      <th></th>\n",
       "      <th></th>\n",
       "      <th></th>\n",
       "      <th></th>\n",
       "    </tr>\n",
       "  </thead>\n",
       "  <tbody>\n",
       "    <tr>\n",
       "      <th>1927-12-30</th>\n",
       "      <td>17.660000</td>\n",
       "      <td>17.660000</td>\n",
       "      <td>17.660000</td>\n",
       "      <td>17.660000</td>\n",
       "      <td>0</td>\n",
       "      <td>0.0</td>\n",
       "      <td>0.0</td>\n",
       "    </tr>\n",
       "    <tr>\n",
       "      <th>1928-01-03</th>\n",
       "      <td>17.760000</td>\n",
       "      <td>17.760000</td>\n",
       "      <td>17.760000</td>\n",
       "      <td>17.760000</td>\n",
       "      <td>0</td>\n",
       "      <td>0.0</td>\n",
       "      <td>0.0</td>\n",
       "    </tr>\n",
       "    <tr>\n",
       "      <th>1928-01-04</th>\n",
       "      <td>17.719999</td>\n",
       "      <td>17.719999</td>\n",
       "      <td>17.719999</td>\n",
       "      <td>17.719999</td>\n",
       "      <td>0</td>\n",
       "      <td>0.0</td>\n",
       "      <td>0.0</td>\n",
       "    </tr>\n",
       "    <tr>\n",
       "      <th>1928-01-05</th>\n",
       "      <td>17.549999</td>\n",
       "      <td>17.549999</td>\n",
       "      <td>17.549999</td>\n",
       "      <td>17.549999</td>\n",
       "      <td>0</td>\n",
       "      <td>0.0</td>\n",
       "      <td>0.0</td>\n",
       "    </tr>\n",
       "    <tr>\n",
       "      <th>1928-01-06</th>\n",
       "      <td>17.660000</td>\n",
       "      <td>17.660000</td>\n",
       "      <td>17.660000</td>\n",
       "      <td>17.660000</td>\n",
       "      <td>0</td>\n",
       "      <td>0.0</td>\n",
       "      <td>0.0</td>\n",
       "    </tr>\n",
       "    <tr>\n",
       "      <th>...</th>\n",
       "      <td>...</td>\n",
       "      <td>...</td>\n",
       "      <td>...</td>\n",
       "      <td>...</td>\n",
       "      <td>...</td>\n",
       "      <td>...</td>\n",
       "      <td>...</td>\n",
       "    </tr>\n",
       "    <tr>\n",
       "      <th>2024-06-26</th>\n",
       "      <td>5460.709961</td>\n",
       "      <td>5483.140137</td>\n",
       "      <td>5451.870117</td>\n",
       "      <td>5477.899902</td>\n",
       "      <td>3563920000</td>\n",
       "      <td>0.0</td>\n",
       "      <td>0.0</td>\n",
       "    </tr>\n",
       "    <tr>\n",
       "      <th>2024-06-27</th>\n",
       "      <td>5473.589844</td>\n",
       "      <td>5490.810059</td>\n",
       "      <td>5467.540039</td>\n",
       "      <td>5482.870117</td>\n",
       "      <td>3589530000</td>\n",
       "      <td>0.0</td>\n",
       "      <td>0.0</td>\n",
       "    </tr>\n",
       "    <tr>\n",
       "      <th>2024-06-28</th>\n",
       "      <td>5488.479980</td>\n",
       "      <td>5523.640137</td>\n",
       "      <td>5451.120117</td>\n",
       "      <td>5460.479980</td>\n",
       "      <td>7199220000</td>\n",
       "      <td>0.0</td>\n",
       "      <td>0.0</td>\n",
       "    </tr>\n",
       "    <tr>\n",
       "      <th>2024-07-01</th>\n",
       "      <td>5471.080078</td>\n",
       "      <td>5479.549805</td>\n",
       "      <td>5446.529785</td>\n",
       "      <td>5475.089844</td>\n",
       "      <td>3488760000</td>\n",
       "      <td>0.0</td>\n",
       "      <td>0.0</td>\n",
       "    </tr>\n",
       "    <tr>\n",
       "      <th>2024-07-02</th>\n",
       "      <td>5461.839844</td>\n",
       "      <td>5509.689941</td>\n",
       "      <td>5458.430176</td>\n",
       "      <td>5509.009766</td>\n",
       "      <td>3329950000</td>\n",
       "      <td>0.0</td>\n",
       "      <td>0.0</td>\n",
       "    </tr>\n",
       "  </tbody>\n",
       "</table>\n",
       "<p>24241 rows × 7 columns</p>\n",
       "</div>"
      ],
      "text/plain": [
       "                   Open         High          Low        Close      Volume  \\\n",
       "Date                                                                         \n",
       "1927-12-30    17.660000    17.660000    17.660000    17.660000           0   \n",
       "1928-01-03    17.760000    17.760000    17.760000    17.760000           0   \n",
       "1928-01-04    17.719999    17.719999    17.719999    17.719999           0   \n",
       "1928-01-05    17.549999    17.549999    17.549999    17.549999           0   \n",
       "1928-01-06    17.660000    17.660000    17.660000    17.660000           0   \n",
       "...                 ...          ...          ...          ...         ...   \n",
       "2024-06-26  5460.709961  5483.140137  5451.870117  5477.899902  3563920000   \n",
       "2024-06-27  5473.589844  5490.810059  5467.540039  5482.870117  3589530000   \n",
       "2024-06-28  5488.479980  5523.640137  5451.120117  5460.479980  7199220000   \n",
       "2024-07-01  5471.080078  5479.549805  5446.529785  5475.089844  3488760000   \n",
       "2024-07-02  5461.839844  5509.689941  5458.430176  5509.009766  3329950000   \n",
       "\n",
       "            Dividends  Stock Splits  \n",
       "Date                                 \n",
       "1927-12-30        0.0           0.0  \n",
       "1928-01-03        0.0           0.0  \n",
       "1928-01-04        0.0           0.0  \n",
       "1928-01-05        0.0           0.0  \n",
       "1928-01-06        0.0           0.0  \n",
       "...               ...           ...  \n",
       "2024-06-26        0.0           0.0  \n",
       "2024-06-27        0.0           0.0  \n",
       "2024-06-28        0.0           0.0  \n",
       "2024-07-01        0.0           0.0  \n",
       "2024-07-02        0.0           0.0  \n",
       "\n",
       "[24241 rows x 7 columns]"
      ]
     },
     "execution_count": 12,
     "metadata": {},
     "output_type": "execute_result"
    }
   ],
   "source": [
    "# Create stock df\n",
    "stock_df = pd.DataFrame(sp500).dropna()\n",
    "stock_df"
   ]
  },
  {
   "cell_type": "code",
   "execution_count": 13,
   "id": "5be6503e",
   "metadata": {},
   "outputs": [
    {
     "data": {
      "text/html": [
       "<div>\n",
       "<style scoped>\n",
       "    .dataframe tbody tr th:only-of-type {\n",
       "        vertical-align: middle;\n",
       "    }\n",
       "\n",
       "    .dataframe tbody tr th {\n",
       "        vertical-align: top;\n",
       "    }\n",
       "\n",
       "    .dataframe thead th {\n",
       "        text-align: right;\n",
       "    }\n",
       "</style>\n",
       "<table border=\"1\" class=\"dataframe\">\n",
       "  <thead>\n",
       "    <tr style=\"text-align: right;\">\n",
       "      <th></th>\n",
       "      <th>Open</th>\n",
       "      <th>High</th>\n",
       "      <th>Low</th>\n",
       "      <th>Close</th>\n",
       "    </tr>\n",
       "    <tr>\n",
       "      <th>Date</th>\n",
       "      <th></th>\n",
       "      <th></th>\n",
       "      <th></th>\n",
       "      <th></th>\n",
       "    </tr>\n",
       "  </thead>\n",
       "  <tbody>\n",
       "    <tr>\n",
       "      <th>1927-12-30</th>\n",
       "      <td>17.660000</td>\n",
       "      <td>17.660000</td>\n",
       "      <td>17.660000</td>\n",
       "      <td>17.660000</td>\n",
       "    </tr>\n",
       "    <tr>\n",
       "      <th>1928-01-03</th>\n",
       "      <td>17.760000</td>\n",
       "      <td>17.760000</td>\n",
       "      <td>17.760000</td>\n",
       "      <td>17.760000</td>\n",
       "    </tr>\n",
       "    <tr>\n",
       "      <th>1928-01-04</th>\n",
       "      <td>17.719999</td>\n",
       "      <td>17.719999</td>\n",
       "      <td>17.719999</td>\n",
       "      <td>17.719999</td>\n",
       "    </tr>\n",
       "    <tr>\n",
       "      <th>1928-01-05</th>\n",
       "      <td>17.549999</td>\n",
       "      <td>17.549999</td>\n",
       "      <td>17.549999</td>\n",
       "      <td>17.549999</td>\n",
       "    </tr>\n",
       "    <tr>\n",
       "      <th>1928-01-06</th>\n",
       "      <td>17.660000</td>\n",
       "      <td>17.660000</td>\n",
       "      <td>17.660000</td>\n",
       "      <td>17.660000</td>\n",
       "    </tr>\n",
       "  </tbody>\n",
       "</table>\n",
       "</div>"
      ],
      "text/plain": [
       "                 Open       High        Low      Close\n",
       "Date                                                  \n",
       "1927-12-30  17.660000  17.660000  17.660000  17.660000\n",
       "1928-01-03  17.760000  17.760000  17.760000  17.760000\n",
       "1928-01-04  17.719999  17.719999  17.719999  17.719999\n",
       "1928-01-05  17.549999  17.549999  17.549999  17.549999\n",
       "1928-01-06  17.660000  17.660000  17.660000  17.660000"
      ]
     },
     "metadata": {},
     "output_type": "display_data"
    },
    {
     "data": {
      "text/html": [
       "<div>\n",
       "<style scoped>\n",
       "    .dataframe tbody tr th:only-of-type {\n",
       "        vertical-align: middle;\n",
       "    }\n",
       "\n",
       "    .dataframe tbody tr th {\n",
       "        vertical-align: top;\n",
       "    }\n",
       "\n",
       "    .dataframe thead th {\n",
       "        text-align: right;\n",
       "    }\n",
       "</style>\n",
       "<table border=\"1\" class=\"dataframe\">\n",
       "  <thead>\n",
       "    <tr style=\"text-align: right;\">\n",
       "      <th></th>\n",
       "      <th>Open</th>\n",
       "      <th>High</th>\n",
       "      <th>Low</th>\n",
       "      <th>Close</th>\n",
       "    </tr>\n",
       "    <tr>\n",
       "      <th>Date</th>\n",
       "      <th></th>\n",
       "      <th></th>\n",
       "      <th></th>\n",
       "      <th></th>\n",
       "    </tr>\n",
       "  </thead>\n",
       "  <tbody>\n",
       "    <tr>\n",
       "      <th>2024-06-26</th>\n",
       "      <td>5460.709961</td>\n",
       "      <td>5483.140137</td>\n",
       "      <td>5451.870117</td>\n",
       "      <td>5477.899902</td>\n",
       "    </tr>\n",
       "    <tr>\n",
       "      <th>2024-06-27</th>\n",
       "      <td>5473.589844</td>\n",
       "      <td>5490.810059</td>\n",
       "      <td>5467.540039</td>\n",
       "      <td>5482.870117</td>\n",
       "    </tr>\n",
       "    <tr>\n",
       "      <th>2024-06-28</th>\n",
       "      <td>5488.479980</td>\n",
       "      <td>5523.640137</td>\n",
       "      <td>5451.120117</td>\n",
       "      <td>5460.479980</td>\n",
       "    </tr>\n",
       "    <tr>\n",
       "      <th>2024-07-01</th>\n",
       "      <td>5471.080078</td>\n",
       "      <td>5479.549805</td>\n",
       "      <td>5446.529785</td>\n",
       "      <td>5475.089844</td>\n",
       "    </tr>\n",
       "    <tr>\n",
       "      <th>2024-07-02</th>\n",
       "      <td>5461.839844</td>\n",
       "      <td>5509.689941</td>\n",
       "      <td>5458.430176</td>\n",
       "      <td>5509.009766</td>\n",
       "    </tr>\n",
       "  </tbody>\n",
       "</table>\n",
       "</div>"
      ],
      "text/plain": [
       "                   Open         High          Low        Close\n",
       "Date                                                          \n",
       "2024-06-26  5460.709961  5483.140137  5451.870117  5477.899902\n",
       "2024-06-27  5473.589844  5490.810059  5467.540039  5482.870117\n",
       "2024-06-28  5488.479980  5523.640137  5451.120117  5460.479980\n",
       "2024-07-01  5471.080078  5479.549805  5446.529785  5475.089844\n",
       "2024-07-02  5461.839844  5509.689941  5458.430176  5509.009766"
      ]
     },
     "metadata": {},
     "output_type": "display_data"
    }
   ],
   "source": [
    "# Drop columns\n",
    "stock_df.drop(columns={'Volume', 'Dividends', 'Stock Splits'}, inplace=True)\n",
    "\n",
    "# Sort by ascending date\n",
    "stock_df = stock_df.sort_values(by=\"Date\", ascending=True)\n",
    "\n",
    "# Review the first and last five rows of the DataFrame\n",
    "display(stock_df.head())\n",
    "display(stock_df.tail())"
   ]
  },
  {
   "cell_type": "code",
   "execution_count": 14,
   "id": "004221ef",
   "metadata": {},
   "outputs": [],
   "source": [
    "# Rename dataframe to data\n",
    "data = stock_df"
   ]
  },
  {
   "cell_type": "markdown",
   "id": "e8845da8",
   "metadata": {},
   "source": [
    "## Perform Feature Engineering"
   ]
  },
  {
   "cell_type": "code",
   "execution_count": 15,
   "id": "8eedf31b",
   "metadata": {},
   "outputs": [],
   "source": [
    "# Feature Engineering\n",
    "# Moving Averages\n",
    "data['SMA10'] = data['Close'].rolling(window=10).mean()\n",
    "data['SMA20'] = data['Close'].rolling(window=20).mean()\n",
    "data['SMA30'] = data['Close'].rolling(window=20).mean()\n",
    "data['SMA50'] = data['Close'].rolling(window=50).mean()\n",
    "data['SMA100'] = data['Close'].rolling(window=100).mean()\n",
    "data['SMA200'] = data['Close'].rolling(window=200).mean()\n",
    "\n",
    "data['RSI'] = rsi(data)\n",
    "\n",
    "# MACD\n",
    "data['EMA12'] = data['Close'].ewm(span=12, adjust=False).mean()\n",
    "data['EMA26'] = data['Close'].ewm(span=26, adjust=False).mean()\n",
    "data['MACD'] = data['EMA12'] - data['EMA26']\n",
    "data['SL'] = data['MACD'].ewm(span=9, adjust=False).mean()\n",
    "\n",
    "# Bollinger Bands\n",
    "data['BollM'] = data['Close'].rolling(window=20).mean()\n",
    "data['BollU'] = data['BollM'] + (2 * data['Close'].rolling(window=20).std())\n",
    "data['BollL'] = data['BollM'] - (2 * data['Close'].rolling(window=20).std())\n",
    "\n",
    "# Identify crossover signal for Target Column\n",
    "# Close < Bollinger Mid and RSI < 50 and MACD < 0\n",
    "data['Signal'] = np.where((data['Close'] < data['BollM']) & (data['RSI'] < 50) & (data['MACD'] < 0), 1, 0)\n",
    "\n",
    "# Calculate return\n",
    "data['Return'] = data['Close'].pct_change().shift(-1)  # Next day's return\n",
    "\n",
    "# Label Data\n",
    "# Buy ONLY if all Crossover conditions are met\n",
    "# Assume profitable if return > 0%\n",
    "data['Target'] = np.where((data['Signal'] > 0) & (data['Return'] > 0.0), 1, 0)\n",
    "\n",
    "# Prepare dataset\n",
    "features = ['SMA10', 'SMA20', 'SMA30', 'SMA50', 'SMA100', 'SMA200', 'RSI', 'MACD', 'SL', 'BollM', 'BollU', 'BollL']\n",
    "dataset = data.dropna()[features + ['Target']]"
   ]
  },
  {
   "cell_type": "markdown",
   "id": "ddbb0afd",
   "metadata": {},
   "source": [
    "## Perform Winsorization of Data"
   ]
  },
  {
   "cell_type": "code",
   "execution_count": 16,
   "id": "4b531fc5",
   "metadata": {},
   "outputs": [],
   "source": [
    "from scipy.stats.mstats import winsorize\n",
    "dataset['SMA10'] = winsorize(np.array(dataset['SMA10']), limits=[.05, .05])\n",
    "dataset['SMA20'] = winsorize(np.array(dataset['SMA20']), limits=[.05, .05])\n",
    "dataset['SMA30'] = winsorize(np.array(dataset['SMA30']), limits=[.05, .05])\n",
    "dataset['SMA50'] = winsorize(np.array(dataset['SMA50']), limits=[.05, .05])\n",
    "dataset['SMA100'] = winsorize(np.array(dataset['SMA100']), limits=[.05, .05])\n",
    "dataset['SMA200'] = winsorize(np.array(dataset['SMA200']), limits=[.05, .05])\n",
    "dataset['MACD'] = winsorize(np.array(dataset['MACD']), limits=[.05, .05])\n",
    "dataset['BollM'] = winsorize(np.array(dataset['BollM']), limits=[.05, .05])\n",
    "dataset['BollU'] = winsorize(np.array(dataset['BollU']), limits=[.05, .05])\n",
    "dataset['BollL'] = winsorize(np.array(dataset['BollL']), limits=[.05, .05])\n",
    "dataset['SL'] = winsorize(np.array(dataset['SL']), limits=[.05, .05])"
   ]
  },
  {
   "cell_type": "code",
   "execution_count": 17,
   "id": "0dc086bb",
   "metadata": {},
   "outputs": [
    {
     "data": {
      "image/png": "[encoded data removed]",
      "text/plain": [
       "<Figure size 2000x600 with 1 Axes>"
      ]
     },
     "metadata": {},
     "output_type": "display_data"
    }
   ],
   "source": [
    "plt.figure(figsize=(20, 6))\n",
    "sns.boxplot(dataset)\n",
    "plt.title(\"Boxplot for Outlier Detection - Train\")\n",
    "plt.show()"
   ]
  },
  {
   "cell_type": "markdown",
   "id": "228dfd62",
   "metadata": {},
   "source": [
    "## Perform Train and Test Splits"
   ]
  },
  {
   "cell_type": "code",
   "execution_count": 18,
   "id": "67b5b646",
   "metadata": {},
   "outputs": [],
   "source": [
    "# Define train and test sets\n",
    "X = dataset[features]\n",
    "y = dataset['Target']\n",
    "\n",
    "# Create TimeSeriesSplit object\n",
    "tscv = TimeSeriesSplit(n_splits=5)\n",
    "\n",
    "# Split data\n",
    "for train_index, test_index in tscv.split(X):\n",
    "    X_train, X_test = X.iloc[train_index], X.iloc[test_index]\n",
    "    y_train, y_test = y.iloc[train_index], y.iloc[test_index]"
   ]
  },
  {
   "cell_type": "code",
   "execution_count": 19,
   "id": "0042dcee",
   "metadata": {},
   "outputs": [],
   "source": [
    "# Split data\n",
    "#X_train, X_test, y_train, y_test = train_test_split(X, y, test_size=0.2, shuffle=False)"
   ]
  },
  {
   "cell_type": "markdown",
   "id": "fb47d764",
   "metadata": {},
   "source": [
    "## Perform Scaling"
   ]
  },
  {
   "cell_type": "code",
   "execution_count": 20,
   "id": "ae60ccb5",
   "metadata": {},
   "outputs": [],
   "source": [
    "# Apply StandardScaler\n",
    "scaler = StandardScaler()\n",
    "X_train_scaled = scaler.fit_transform(X_train)\n",
    "X_test_scaled = scaler.transform(X_test)\n",
    "\n",
    "# Convert scaled arrays back to DataFrames to maintain column names\n",
    "X_train_scaled = pd.DataFrame(X_train_scaled, columns=features, index=X_train.index)\n",
    "X_test_scaled = pd.DataFrame(X_test_scaled, columns=features, index=X_test.index)"
   ]
  },
  {
   "cell_type": "markdown",
   "id": "dea7e9e6",
   "metadata": {},
   "source": [
    "# Perform Classifications"
   ]
  },
  {
   "cell_type": "markdown",
   "id": "7e8e0773",
   "metadata": {},
   "source": [
    "## Original Scaled Data with Untuned RandomForestClassifier"
   ]
  },
  {
   "cell_type": "code",
   "execution_count": 21,
   "id": "6c1de0c1",
   "metadata": {},
   "outputs": [
    {
     "name": "stdout",
     "output_type": "stream",
     "text": [
      "Balanced Accuracy Scores\n",
      "--------------------------------------------------------\n",
      "1.0 training score\n",
      "0.7824314388851115 testing score\n",
      "0.2175685611148885 variance\n",
      "--------------------------------------------------------\n",
      "Classification Report - Original Data\n",
      "              precision    recall  f1-score   support\n",
      "\n",
      "           0       0.95      0.94      0.94      3547\n",
      "           1       0.56      0.63      0.59       459\n",
      "\n",
      "    accuracy                           0.90      4006\n",
      "   macro avg       0.76      0.78      0.77      4006\n",
      "weighted avg       0.91      0.90      0.90      4006\n",
      "\n",
      "--------------------------------------------------------\n"
     ]
    }
   ],
   "source": [
    "# Define the model\n",
    "clf = RandomForestClassifier(random_state=1)\n",
    "\n",
    "# Fit the model\n",
    "clf.fit(X_train_scaled, y_train)\n",
    "\n",
    "# Predict using the model\n",
    "train_pred = clf.predict(X_train_scaled)\n",
    "test_pred = clf.predict(X_test_scaled)\n",
    "\n",
    "# Generate classification report\n",
    "# Print scores\n",
    "print_balanced_accuracy_report(y_train, y_test, train_pred, test_pred)\n",
    "\n",
    "# Print classification reports\n",
    "print_classification_report(y_test, test_pred)"
   ]
  },
  {
   "cell_type": "markdown",
   "id": "1184d299",
   "metadata": {},
   "source": [
    "## Over Sampled Scaled Data with Untuned RandomForestClassifier"
   ]
  },
  {
   "cell_type": "code",
   "execution_count": 22,
   "id": "c46ff530",
   "metadata": {},
   "outputs": [
    {
     "data": {
      "text/plain": [
       "Target\n",
       "0    17245\n",
       "1    17245\n",
       "Name: count, dtype: int64"
      ]
     },
     "execution_count": 22,
     "metadata": {},
     "output_type": "execute_result"
    }
   ],
   "source": [
    "# Import RandomOverSampler from imblearn\n",
    "from imblearn.over_sampling import RandomOverSampler\n",
    "\n",
    "# Instantiate a RandomOversampler instance\n",
    "ros = RandomOverSampler(random_state=1)\n",
    "\n",
    "# Fit the training data to the `RandomOverSampler` model\n",
    "X_oversampled, y_oversampled = ros.fit_resample(X_train_scaled, y_train)\n",
    "\n",
    "# Count distinct values\n",
    "y_oversampled.value_counts()"
   ]
  },
  {
   "cell_type": "code",
   "execution_count": 23,
   "id": "aa3bc327",
   "metadata": {},
   "outputs": [
    {
     "name": "stdout",
     "output_type": "stream",
     "text": [
      "Balanced Accuracy Scores\n",
      "--------------------------------------------------------\n",
      "0.9999710060887214 training score\n",
      "0.591990961093268 testing score\n",
      "0.4079800449954534 variance\n",
      "--------------------------------------------------------\n",
      "Classification Report - Original Data\n",
      "              precision    recall  f1-score   support\n",
      "\n",
      "           0       0.91      0.97      0.94      3547\n",
      "           1       0.50      0.21      0.30       459\n",
      "\n",
      "    accuracy                           0.89      4006\n",
      "   macro avg       0.70      0.59      0.62      4006\n",
      "weighted avg       0.86      0.89      0.86      4006\n",
      "\n",
      "--------------------------------------------------------\n"
     ]
    }
   ],
   "source": [
    "# Instantiate the model\n",
    "ros_clf = RandomForestClassifier(random_state=1)\n",
    "\n",
    "# Fit the model\n",
    "ros_clf.fit(X_oversampled, y_oversampled)\n",
    "\n",
    "# Predict using the model\n",
    "train_pred = ros_clf.predict(X_train_scaled)\n",
    "test_pred = ros_clf.predict(X_test_scaled)\n",
    "\n",
    "# Generate classification report\n",
    "# Print scores\n",
    "print_balanced_accuracy_report(y_train, y_test, train_pred, test_pred)\n",
    "\n",
    "# Print classification reports\n",
    "print_classification_report(y_test, test_pred)"
   ]
  },
  {
   "cell_type": "markdown",
   "id": "e331f4ec",
   "metadata": {},
   "source": [
    "## Under Sampled Scaled Data with Untuned RandomForestClassifier"
   ]
  },
  {
   "cell_type": "code",
   "execution_count": 24,
   "id": "08a40bba",
   "metadata": {},
   "outputs": [
    {
     "data": {
      "text/plain": [
       "Target\n",
       "0    2790\n",
       "1    2790\n",
       "Name: count, dtype: int64"
      ]
     },
     "execution_count": 24,
     "metadata": {},
     "output_type": "execute_result"
    }
   ],
   "source": [
    "# Import RandomUnderSampler from imblearn\n",
    "from imblearn.under_sampling import RandomUnderSampler\n",
    "\n",
    "# Instantiate a RandomOversampler instance\n",
    "rus = RandomUnderSampler(random_state=1)\n",
    "\n",
    "# Fit the training data to the `RandomOverSampler` model\n",
    "X_undersampled, y_undersampled = rus.fit_resample(X_train_scaled, y_train)\n",
    "\n",
    "# Count distinct values\n",
    "y_undersampled.value_counts()"
   ]
  },
  {
   "cell_type": "code",
   "execution_count": 25,
   "id": "4d4d60d3",
   "metadata": {},
   "outputs": [
    {
     "name": "stdout",
     "output_type": "stream",
     "text": [
      "Balanced Accuracy Scores\n",
      "--------------------------------------------------------\n",
      "0.9237460133371992 training score\n",
      "0.6807907262143651 testing score\n",
      "0.2429552871228341 variance\n",
      "--------------------------------------------------------\n",
      "Classification Report - Original Data\n",
      "              precision    recall  f1-score   support\n",
      "\n",
      "           0       0.93      0.95      0.94      3547\n",
      "           1       0.51      0.41      0.46       459\n",
      "\n",
      "    accuracy                           0.89      4006\n",
      "   macro avg       0.72      0.68      0.70      4006\n",
      "weighted avg       0.88      0.89      0.88      4006\n",
      "\n",
      "--------------------------------------------------------\n"
     ]
    }
   ],
   "source": [
    "# Instantiate the model\n",
    "rus_clf = RandomForestClassifier(random_state=1)\n",
    "\n",
    "# Fit the model\n",
    "rus_clf.fit(X_undersampled, y_undersampled)\n",
    "\n",
    "# Predict using the model\n",
    "train_pred = rus_clf.predict(X_train_scaled)\n",
    "test_pred = rus_clf.predict(X_test_scaled)\n",
    "\n",
    "# Generate classification report\n",
    "# Print scores\n",
    "print_balanced_accuracy_report(y_train, y_test, train_pred, test_pred)\n",
    "\n",
    "# Print classification reports\n",
    "print_classification_report(y_test, test_pred)"
   ]
  },
  {
   "cell_type": "markdown",
   "id": "290854c4",
   "metadata": {},
   "source": [
    "## Original Scaled Data and Untuned XGBoost Classifier"
   ]
  },
  {
   "cell_type": "code",
   "execution_count": 26,
   "id": "2d99022d",
   "metadata": {},
   "outputs": [
    {
     "data": {
      "image/png": "[encoded data removed]",
      "text/plain": [
       "<Figure size 640x480 with 1 Axes>"
      ]
     },
     "metadata": {},
     "output_type": "display_data"
    },
    {
     "name": "stdout",
     "output_type": "stream",
     "text": [
      "Balanced Accuracy Scores\n",
      "--------------------------------------------------------\n",
      "0.9023389460973053 training score\n",
      "0.6910301319412582 testing score\n",
      "0.2113088141560471 variance\n",
      "--------------------------------------------------------\n",
      "Classification Report - Original Data\n",
      "              precision    recall  f1-score   support\n",
      "\n",
      "           0       0.93      0.96      0.94      3547\n",
      "           1       0.57      0.42      0.49       459\n",
      "\n",
      "    accuracy                           0.90      4006\n",
      "   macro avg       0.75      0.69      0.72      4006\n",
      "weighted avg       0.89      0.90      0.89      4006\n",
      "\n",
      "--------------------------------------------------------\n"
     ]
    }
   ],
   "source": [
    "# Define the model\n",
    "xgb_clf = XGBClassifier(random_state=1)\n",
    "\n",
    "# Fit the model\n",
    "xgb_clf.fit(X_train_scaled, y_train)\n",
    "\n",
    "# Predict using the model\n",
    "train_pred = xgb_clf.predict(X_train_scaled)\n",
    "test_pred = xgb_clf.predict(X_test_scaled)\n",
    "\n",
    "# Plot feature importance\n",
    "from xgboost import plot_importance\n",
    "plot_importance(xgb_clf)\n",
    "plt.show()\n",
    "\n",
    "# Generate classification report\n",
    "# Print scores\n",
    "print_balanced_accuracy_report(y_train, y_test, train_pred, test_pred)\n",
    "\n",
    "# Print classification reports\n",
    "print_classification_report(y_test, test_pred)"
   ]
  },
  {
   "cell_type": "markdown",
   "id": "baaa9291",
   "metadata": {},
   "source": [
    "## Under Sampled Scaled Data and Untuned XGBoost Classifier"
   ]
  },
  {
   "cell_type": "code",
   "execution_count": 27,
   "id": "727a4c78",
   "metadata": {},
   "outputs": [
    {
     "data": {
      "image/png": "[encoded data removed]",
      "text/plain": [
       "<Figure size 640x480 with 1 Axes>"
      ]
     },
     "metadata": {},
     "output_type": "display_data"
    },
    {
     "name": "stdout",
     "output_type": "stream",
     "text": [
      "Balanced Accuracy Scores\n",
      "--------------------------------------------------------\n",
      "0.9169614380979993 training score\n",
      "0.7956958932431162 testing score\n",
      "0.1212655448548832 variance\n",
      "--------------------------------------------------------\n",
      "Classification Report - Original Data\n",
      "              precision    recall  f1-score   support\n",
      "\n",
      "           0       0.96      0.92      0.94      3547\n",
      "           1       0.53      0.67      0.59       459\n",
      "\n",
      "    accuracy                           0.90      4006\n",
      "   macro avg       0.74      0.80      0.77      4006\n",
      "weighted avg       0.91      0.90      0.90      4006\n",
      "\n",
      "--------------------------------------------------------\n"
     ]
    }
   ],
   "source": [
    "# Define the model\n",
    "xgb_rus_clf = XGBClassifier(random_state=1)\n",
    "\n",
    "# Fit the model\n",
    "xgb_rus_clf.fit(X_undersampled, y_undersampled)\n",
    "\n",
    "# Predict using the model\n",
    "train_pred = xgb_rus_clf.predict(X_train_scaled)\n",
    "test_pred = xgb_rus_clf.predict(X_test_scaled)\n",
    "\n",
    "# Plot feature importance\n",
    "plot_importance(xgb_rus_clf)\n",
    "plt.show()\n",
    "\n",
    "# Generate classification report\n",
    "# Print scores\n",
    "print_balanced_accuracy_report(y_train, y_test, train_pred, test_pred)\n",
    "\n",
    "# Print classification reports\n",
    "print_classification_report(y_test, test_pred)"
   ]
  },
  {
   "cell_type": "markdown",
   "id": "29137f12",
   "metadata": {},
   "source": [
    "## Under Sampled Scaled Data with XGBoost Parameter Tuning"
   ]
  },
  {
   "cell_type": "code",
   "execution_count": 28,
   "id": "522fc65b",
   "metadata": {},
   "outputs": [
    {
     "data": {
      "text/html": [
       "<div>\n",
       "<style scoped>\n",
       "    .dataframe tbody tr th:only-of-type {\n",
       "        vertical-align: middle;\n",
       "    }\n",
       "\n",
       "    .dataframe tbody tr th {\n",
       "        vertical-align: top;\n",
       "    }\n",
       "\n",
       "    .dataframe thead th {\n",
       "        text-align: right;\n",
       "    }\n",
       "</style>\n",
       "<table border=\"1\" class=\"dataframe\">\n",
       "  <thead>\n",
       "    <tr style=\"text-align: right;\">\n",
       "      <th></th>\n",
       "      <th>train_score</th>\n",
       "      <th>test_score</th>\n",
       "    </tr>\n",
       "    <tr>\n",
       "      <th>learning_rate</th>\n",
       "      <th></th>\n",
       "      <th></th>\n",
       "    </tr>\n",
       "  </thead>\n",
       "  <tbody>\n",
       "    <tr>\n",
       "      <th>0.02</th>\n",
       "      <td>0.905562</td>\n",
       "      <td>0.931850</td>\n",
       "    </tr>\n",
       "    <tr>\n",
       "      <th>0.04</th>\n",
       "      <td>0.905973</td>\n",
       "      <td>0.924981</td>\n",
       "    </tr>\n",
       "    <tr>\n",
       "      <th>0.03</th>\n",
       "      <td>0.905857</td>\n",
       "      <td>0.922905</td>\n",
       "    </tr>\n",
       "  </tbody>\n",
       "</table>\n",
       "</div>"
      ],
      "text/plain": [
       "               train_score  test_score\n",
       "learning_rate                         \n",
       "0.02              0.905562    0.931850\n",
       "0.04              0.905973    0.924981\n",
       "0.03              0.905857    0.922905"
      ]
     },
     "metadata": {},
     "output_type": "display_data"
    }
   ],
   "source": [
    "# Try the following values for learning_rate\n",
    "rate = np.arange(0.01, 1.0, 0.01)\n",
    "models = {'train_score': [], 'test_score': [], 'learning_rate': []}\n",
    "\n",
    "# Loop through each value in learning_rates\n",
    "for r in rate:\n",
    "    # Initialize the classifier with parameter variables\n",
    "    xgb_rus_clf = XGBClassifier(learning_rate = r, tree_method='approx', random_state=1)\n",
    "\n",
    "    # Fit the undersampled data the new model\n",
    "    xgb_rus_clf.fit(X_undersampled, y_undersampled)\n",
    "\n",
    "    # Make predictions\n",
    "    train_pred = xgb_rus_clf.predict(X_train_scaled)\n",
    "    test_pred = xgb_rus_clf.predict(X_test_scaled)\n",
    "\n",
    "    # Calculate balanced accuracy scores\n",
    "    train_score = balanced_accuracy_score(y_train, train_pred)\n",
    "    test_score = balanced_accuracy_score(y_test, test_pred)\n",
    "\n",
    "    # Append scores\n",
    "    models['train_score'].append(train_score)\n",
    "    models['test_score'].append(test_score)\n",
    "    models['learning_rate'].append(r)\n",
    "\n",
    "# Create a dataframe from the models dictionary with learning_rate as the index\n",
    "models_df = pd.DataFrame(models).set_index('learning_rate')\n",
    "\n",
    "# Display df\n",
    "display(models_df.sort_values(by='test_score', ascending=False).head(3))"
   ]
  },
  {
   "cell_type": "code",
   "execution_count": 29,
   "id": "107e8988",
   "metadata": {},
   "outputs": [
    {
     "data": {
      "text/plain": [
       "[0.02, 0.04, 0.03]"
      ]
     },
     "execution_count": 29,
     "metadata": {},
     "output_type": "execute_result"
    }
   ],
   "source": [
    "# Sort the dataframe by test_score in descending order and get the top 3\n",
    "top_learning_rates = models_df.sort_values(by='test_score', ascending=False).head(3).index.tolist()\n",
    "\n",
    "# Display the top 3 \n",
    "top_learning_rates"
   ]
  },
  {
   "cell_type": "code",
   "execution_count": 30,
   "id": "ad7a11b9",
   "metadata": {},
   "outputs": [
    {
     "data": {
      "text/plain": [
       "<Axes: xlabel='learning_rate'>"
      ]
     },
     "execution_count": 30,
     "metadata": {},
     "output_type": "execute_result"
    },
    {
     "data": {
      "image/png": "[encoded data removed]",
      "text/plain": [
       "<Figure size 640x480 with 1 Axes>"
      ]
     },
     "metadata": {},
     "output_type": "display_data"
    }
   ],
   "source": [
    "# Plot the results\n",
    "models_df.plot()"
   ]
  },
  {
   "cell_type": "code",
   "execution_count": 31,
   "id": "e6e5129f",
   "metadata": {},
   "outputs": [
    {
     "data": {
      "text/html": [
       "<div>\n",
       "<style scoped>\n",
       "    .dataframe tbody tr th:only-of-type {\n",
       "        vertical-align: middle;\n",
       "    }\n",
       "\n",
       "    .dataframe tbody tr th {\n",
       "        vertical-align: top;\n",
       "    }\n",
       "\n",
       "    .dataframe thead th {\n",
       "        text-align: right;\n",
       "    }\n",
       "</style>\n",
       "<table border=\"1\" class=\"dataframe\">\n",
       "  <thead>\n",
       "    <tr style=\"text-align: right;\">\n",
       "      <th></th>\n",
       "      <th>train_score</th>\n",
       "      <th>test_score</th>\n",
       "    </tr>\n",
       "    <tr>\n",
       "      <th>n_estimators</th>\n",
       "      <th></th>\n",
       "      <th></th>\n",
       "    </tr>\n",
       "  </thead>\n",
       "  <tbody>\n",
       "    <tr>\n",
       "      <th>108</th>\n",
       "      <td>0.918730</td>\n",
       "      <td>0.820174</td>\n",
       "    </tr>\n",
       "    <tr>\n",
       "      <th>109</th>\n",
       "      <td>0.918643</td>\n",
       "      <td>0.819507</td>\n",
       "    </tr>\n",
       "    <tr>\n",
       "      <th>105</th>\n",
       "      <td>0.918116</td>\n",
       "      <td>0.817047</td>\n",
       "    </tr>\n",
       "  </tbody>\n",
       "</table>\n",
       "</div>"
      ],
      "text/plain": [
       "              train_score  test_score\n",
       "n_estimators                         \n",
       "108              0.918730    0.820174\n",
       "109              0.918643    0.819507\n",
       "105              0.918116    0.817047"
      ]
     },
     "metadata": {},
     "output_type": "display_data"
    }
   ],
   "source": [
    "# Try the following values for n_estimators\n",
    "estimators = range(100, 200, 1)\n",
    "models = {'train_score': [], 'test_score': [], 'n_estimators': []}\n",
    "\n",
    "# Loop through each value in n_estimators\n",
    "for n in estimators:\n",
    "    # Initialize the classifier with parameter variables\n",
    "    xgb_rus_clf = XGBClassifier(n_estimators = n, tree_method='approx', random_state=1)\n",
    "\n",
    "    # Fit the undersampled data the new model\n",
    "    xgb_rus_clf.fit(X_undersampled, y_undersampled)\n",
    "\n",
    "    # Make predictions\n",
    "    train_pred = xgb_rus_clf.predict(X_train_scaled)\n",
    "    test_pred = xgb_rus_clf.predict(X_test_scaled)\n",
    "\n",
    "    # Calculate balanced accuracy scores\n",
    "    train_score = balanced_accuracy_score(y_train, train_pred)\n",
    "    test_score = balanced_accuracy_score(y_test, test_pred)\n",
    "\n",
    "    # Append scores\n",
    "    models['train_score'].append(train_score)\n",
    "    models['test_score'].append(test_score)\n",
    "    models['n_estimators'].append(n)\n",
    "\n",
    "# Create a dataframe from the models dictionary with n_estimators as the index\n",
    "models_df = pd.DataFrame(models).set_index('n_estimators')\n",
    "\n",
    "# Display df\n",
    "display(models_df.sort_values(by='test_score', ascending=False).head(3))"
   ]
  },
  {
   "cell_type": "code",
   "execution_count": 32,
   "id": "eb534023",
   "metadata": {},
   "outputs": [
    {
     "data": {
      "text/plain": [
       "[108, 109, 105]"
      ]
     },
     "execution_count": 32,
     "metadata": {},
     "output_type": "execute_result"
    }
   ],
   "source": [
    "# Sort the dataframe by test_score in descending order and get the top 3\n",
    "top_n_estimators = models_df.sort_values(by='test_score', ascending=False).head(3).index.tolist()\n",
    "\n",
    "# Display the top 3\n",
    "top_n_estimators"
   ]
  },
  {
   "cell_type": "code",
   "execution_count": 33,
   "id": "68611818",
   "metadata": {},
   "outputs": [
    {
     "data": {
      "text/plain": [
       "<Axes: xlabel='n_estimators'>"
      ]
     },
     "execution_count": 33,
     "metadata": {},
     "output_type": "execute_result"
    },
    {
     "data": {
      "image/png": "[encoded data removed]",
      "text/plain": [
       "<Figure size 640x480 with 1 Axes>"
      ]
     },
     "metadata": {},
     "output_type": "display_data"
    }
   ],
   "source": [
    "# Plot the results\n",
    "models_df.plot()"
   ]
  },
  {
   "cell_type": "code",
   "execution_count": 34,
   "id": "d9ed16ac",
   "metadata": {},
   "outputs": [
    {
     "data": {
      "text/html": [
       "<div>\n",
       "<style scoped>\n",
       "    .dataframe tbody tr th:only-of-type {\n",
       "        vertical-align: middle;\n",
       "    }\n",
       "\n",
       "    .dataframe tbody tr th {\n",
       "        vertical-align: top;\n",
       "    }\n",
       "\n",
       "    .dataframe thead th {\n",
       "        text-align: right;\n",
       "    }\n",
       "</style>\n",
       "<table border=\"1\" class=\"dataframe\">\n",
       "  <thead>\n",
       "    <tr style=\"text-align: right;\">\n",
       "      <th></th>\n",
       "      <th>train_score</th>\n",
       "      <th>test_score</th>\n",
       "    </tr>\n",
       "    <tr>\n",
       "      <th>max_depth</th>\n",
       "      <th></th>\n",
       "      <th></th>\n",
       "    </tr>\n",
       "  </thead>\n",
       "  <tbody>\n",
       "    <tr>\n",
       "      <th>3</th>\n",
       "      <td>0.907565</td>\n",
       "      <td>0.855481</td>\n",
       "    </tr>\n",
       "    <tr>\n",
       "      <th>2</th>\n",
       "      <td>0.906044</td>\n",
       "      <td>0.839244</td>\n",
       "    </tr>\n",
       "    <tr>\n",
       "      <th>5</th>\n",
       "      <td>0.914452</td>\n",
       "      <td>0.834861</td>\n",
       "    </tr>\n",
       "  </tbody>\n",
       "</table>\n",
       "</div>"
      ],
      "text/plain": [
       "           train_score  test_score\n",
       "max_depth                         \n",
       "3             0.907565    0.855481\n",
       "2             0.906044    0.839244\n",
       "5             0.914452    0.834861"
      ]
     },
     "metadata": {},
     "output_type": "display_data"
    }
   ],
   "source": [
    "# Try the following values for max_depth\n",
    "max_depths = range(2, 30)\n",
    "models = {'train_score': [], 'test_score': [], 'max_depth': []}\n",
    "\n",
    "# Loop through each value in max_depths\n",
    "for depth in max_depths:\n",
    "    # Initialize the classifier with parameter variables\n",
    "    xgb_rus_clf = XGBClassifier(max_depth = depth, tree_method='approx', random_state=1)\n",
    "    \n",
    "    # Fit the undersampled data the new model\n",
    "    xgb_rus_clf.fit(X_undersampled, y_undersampled)\n",
    "\n",
    "    # Make predictions\n",
    "    train_pred = xgb_rus_clf.predict(X_train_scaled)\n",
    "    test_pred = xgb_rus_clf.predict(X_test_scaled)\n",
    "\n",
    "    # Caclulate balanced accuracy scores\n",
    "    train_score = balanced_accuracy_score(y_train, train_pred)\n",
    "    test_score = balanced_accuracy_score(y_test, test_pred)\n",
    "\n",
    "    # Append scores\n",
    "    models['train_score'].append(train_score)\n",
    "    models['test_score'].append(test_score)\n",
    "    models['max_depth'].append(depth)\n",
    "\n",
    "# Create a dataframe from the models dictionary with max_depth as the index\n",
    "models_df = pd.DataFrame(models).set_index('max_depth')\n",
    "\n",
    "# Display df\n",
    "display(models_df.sort_values(by='test_score', ascending=False).head(3))"
   ]
  },
  {
   "cell_type": "code",
   "execution_count": 35,
   "id": "44e66799",
   "metadata": {},
   "outputs": [
    {
     "data": {
      "text/plain": [
       "[3, 2, 5]"
      ]
     },
     "execution_count": 35,
     "metadata": {},
     "output_type": "execute_result"
    }
   ],
   "source": [
    "# Sort the dataframe by test_score in descending order and get the top 3\n",
    "top_max_depth = models_df.sort_values(by='test_score', ascending=False).head(3).index.tolist()\n",
    "\n",
    "# Display the top 3\n",
    "top_max_depth"
   ]
  },
  {
   "cell_type": "code",
   "execution_count": 36,
   "id": "20596bdb",
   "metadata": {},
   "outputs": [
    {
     "data": {
      "text/plain": [
       "<Axes: xlabel='max_depth'>"
      ]
     },
     "execution_count": 36,
     "metadata": {},
     "output_type": "execute_result"
    },
    {
     "data": {
      "image/png": "[encoded data removed]",
      "text/plain": [
       "<Figure size 640x480 with 1 Axes>"
      ]
     },
     "metadata": {},
     "output_type": "display_data"
    }
   ],
   "source": [
    "# Plot the results\n",
    "models_df.plot()"
   ]
  },
  {
   "cell_type": "code",
   "execution_count": 37,
   "id": "90f4df50",
   "metadata": {},
   "outputs": [
    {
     "data": {
      "text/html": [
       "<div>\n",
       "<style scoped>\n",
       "    .dataframe tbody tr th:only-of-type {\n",
       "        vertical-align: middle;\n",
       "    }\n",
       "\n",
       "    .dataframe tbody tr th {\n",
       "        vertical-align: top;\n",
       "    }\n",
       "\n",
       "    .dataframe thead th {\n",
       "        text-align: right;\n",
       "    }\n",
       "</style>\n",
       "<table border=\"1\" class=\"dataframe\">\n",
       "  <thead>\n",
       "    <tr style=\"text-align: right;\">\n",
       "      <th></th>\n",
       "      <th>train_score</th>\n",
       "      <th>test_score</th>\n",
       "    </tr>\n",
       "    <tr>\n",
       "      <th>max_leaves</th>\n",
       "      <th></th>\n",
       "      <th></th>\n",
       "    </tr>\n",
       "  </thead>\n",
       "  <tbody>\n",
       "    <tr>\n",
       "      <th>2</th>\n",
       "      <td>0.904212</td>\n",
       "      <td>0.904258</td>\n",
       "    </tr>\n",
       "    <tr>\n",
       "      <th>3</th>\n",
       "      <td>0.904971</td>\n",
       "      <td>0.893685</td>\n",
       "    </tr>\n",
       "    <tr>\n",
       "      <th>4</th>\n",
       "      <td>0.905820</td>\n",
       "      <td>0.880484</td>\n",
       "    </tr>\n",
       "  </tbody>\n",
       "</table>\n",
       "</div>"
      ],
      "text/plain": [
       "            train_score  test_score\n",
       "max_leaves                         \n",
       "2              0.904212    0.904258\n",
       "3              0.904971    0.893685\n",
       "4              0.905820    0.880484"
      ]
     },
     "metadata": {},
     "output_type": "display_data"
    }
   ],
   "source": [
    "# Try the following values for max_leaves\n",
    "max_leaves = range(2, 30)\n",
    "models = {'train_score': [], 'test_score': [], 'max_leaves': []}\n",
    "\n",
    "# Loop through each value in max_depths\n",
    "for leaf in max_leaves:\n",
    "    # Initialize the classifier with parameter variables\n",
    "    xgb_rus_clf = XGBClassifier(max_leaves = leaf, tree_method='approx', random_state=1)\n",
    "    \n",
    "    # Fit the undersampled data the new model\n",
    "    xgb_rus_clf.fit(X_undersampled, y_undersampled)\n",
    "\n",
    "    # Make predictions\n",
    "    train_pred = xgb_rus_clf.predict(X_train_scaled)\n",
    "    test_pred = xgb_rus_clf.predict(X_test_scaled)\n",
    "\n",
    "    # Caclulate balanced accuracy scores\n",
    "    train_score = balanced_accuracy_score(y_train, train_pred)\n",
    "    test_score = balanced_accuracy_score(y_test, test_pred)\n",
    "\n",
    "    # Append scores\n",
    "    models['train_score'].append(train_score)\n",
    "    models['test_score'].append(test_score)\n",
    "    models['max_leaves'].append(leaf)\n",
    "\n",
    "# Create a dataframe from the models dictionary with max_depth as the index\n",
    "models_df = pd.DataFrame(models).set_index('max_leaves')\n",
    "\n",
    "# Display df\n",
    "display(models_df.sort_values(by='test_score', ascending=False).head(3))"
   ]
  },
  {
   "cell_type": "code",
   "execution_count": 38,
   "id": "f551fdc8",
   "metadata": {},
   "outputs": [
    {
     "data": {
      "text/plain": [
       "[2, 3, 4]"
      ]
     },
     "execution_count": 38,
     "metadata": {},
     "output_type": "execute_result"
    }
   ],
   "source": [
    "# Sort the dataframe by test_score in descending order and get the top 3\n",
    "top_max_leaves = models_df.sort_values(by='test_score', ascending=False).head(3).index.tolist()\n",
    "\n",
    "# Display the top 3\n",
    "top_max_leaves"
   ]
  },
  {
   "cell_type": "code",
   "execution_count": 39,
   "id": "45a3fd06",
   "metadata": {},
   "outputs": [
    {
     "data": {
      "text/plain": [
       "<Axes: xlabel='max_leaves'>"
      ]
     },
     "execution_count": 39,
     "metadata": {},
     "output_type": "execute_result"
    },
    {
     "data": {
      "image/png": "[encoded data removed]",
      "text/plain": [
       "<Figure size 640x480 with 1 Axes>"
      ]
     },
     "metadata": {},
     "output_type": "display_data"
    }
   ],
   "source": [
    "# Plot the results\n",
    "models_df.plot()"
   ]
  },
  {
   "cell_type": "code",
   "execution_count": 40,
   "id": "c58658e6",
   "metadata": {},
   "outputs": [
    {
     "data": {
      "text/html": [
       "<div>\n",
       "<style scoped>\n",
       "    .dataframe tbody tr th:only-of-type {\n",
       "        vertical-align: middle;\n",
       "    }\n",
       "\n",
       "    .dataframe tbody tr th {\n",
       "        vertical-align: top;\n",
       "    }\n",
       "\n",
       "    .dataframe thead th {\n",
       "        text-align: right;\n",
       "    }\n",
       "</style>\n",
       "<table border=\"1\" class=\"dataframe\">\n",
       "  <thead>\n",
       "    <tr style=\"text-align: right;\">\n",
       "      <th></th>\n",
       "      <th>train_score</th>\n",
       "      <th>test_score</th>\n",
       "    </tr>\n",
       "    <tr>\n",
       "      <th>subsample</th>\n",
       "      <th></th>\n",
       "      <th></th>\n",
       "    </tr>\n",
       "  </thead>\n",
       "  <tbody>\n",
       "    <tr>\n",
       "      <th>0.04</th>\n",
       "      <td>0.878331</td>\n",
       "      <td>0.923776</td>\n",
       "    </tr>\n",
       "    <tr>\n",
       "      <th>0.02</th>\n",
       "      <td>0.870274</td>\n",
       "      <td>0.921597</td>\n",
       "    </tr>\n",
       "    <tr>\n",
       "      <th>0.10</th>\n",
       "      <td>0.896033</td>\n",
       "      <td>0.919239</td>\n",
       "    </tr>\n",
       "  </tbody>\n",
       "</table>\n",
       "</div>"
      ],
      "text/plain": [
       "           train_score  test_score\n",
       "subsample                         \n",
       "0.04          0.878331    0.923776\n",
       "0.02          0.870274    0.921597\n",
       "0.10          0.896033    0.919239"
      ]
     },
     "metadata": {},
     "output_type": "display_data"
    }
   ],
   "source": [
    "# Try the following values for subsample\n",
    "subsample = np.arange(0, 1, .01)\n",
    "models = {'train_score': [], 'test_score': [], 'subsample': []}\n",
    "\n",
    "# Loop through each value in max_depths\n",
    "for sample in subsample:\n",
    "    # Initialize the classifier with parameter variables\n",
    "    xgb_rus_clf = XGBClassifier(subsample = sample, tree_method='approx', random_state=1)\n",
    "    \n",
    "    # Fit the undersampled data the new model\n",
    "    xgb_rus_clf.fit(X_undersampled, y_undersampled)\n",
    "\n",
    "    # Make predictions\n",
    "    train_pred = xgb_rus_clf.predict(X_train_scaled)\n",
    "    test_pred = xgb_rus_clf.predict(X_test_scaled)\n",
    "\n",
    "    # Caclulate balanced accuracy scores\n",
    "    train_score = balanced_accuracy_score(y_train, train_pred)\n",
    "    test_score = balanced_accuracy_score(y_test, test_pred)\n",
    "\n",
    "    # Append scores\n",
    "    models['train_score'].append(train_score)\n",
    "    models['test_score'].append(test_score)\n",
    "    models['subsample'].append(sample)\n",
    "\n",
    "# Create a dataframe from the models dictionary with max_depth as the index\n",
    "models_df = pd.DataFrame(models).set_index('subsample')\n",
    "\n",
    "# Display df\n",
    "display(models_df.sort_values(by='test_score', ascending=False).head(3))"
   ]
  },
  {
   "cell_type": "code",
   "execution_count": 41,
   "id": "1ed103be",
   "metadata": {},
   "outputs": [
    {
     "data": {
      "text/plain": [
       "[0.04, 0.02, 0.1]"
      ]
     },
     "execution_count": 41,
     "metadata": {},
     "output_type": "execute_result"
    }
   ],
   "source": [
    "# Sort the dataframe by test_score in descending order and get the top 3\n",
    "top_subsample = models_df.sort_values(by='test_score', ascending=False).head(3).index.tolist()\n",
    "\n",
    "# Display the top 3\n",
    "top_subsample"
   ]
  },
  {
   "cell_type": "code",
   "execution_count": 42,
   "id": "a323dcf1",
   "metadata": {},
   "outputs": [
    {
     "data": {
      "text/plain": [
       "<Axes: xlabel='subsample'>"
      ]
     },
     "execution_count": 42,
     "metadata": {},
     "output_type": "execute_result"
    },
    {
     "data": {
      "image/png": "[encoded data removed]",
      "text/plain": [
       "<Figure size 640x480 with 1 Axes>"
      ]
     },
     "metadata": {},
     "output_type": "display_data"
    }
   ],
   "source": [
    "# Plot the results\n",
    "models_df.plot()"
   ]
  },
  {
   "cell_type": "code",
   "execution_count": 43,
   "id": "08aba460",
   "metadata": {},
   "outputs": [],
   "source": [
    "# Dictionary with 3 values for each parameter\n",
    "params = {\n",
    "    'n_estimators': top_n_estimators,\n",
    "    'max_depth': top_max_depth,\n",
    "    'learning_rate': top_learning_rates,\n",
    "    'max_leaves': top_max_leaves,\n",
    "    'subsample': top_subsample\n",
    "}\n",
    "\n",
    "# Initialize a dictionary to store results\n",
    "results = {'n_estimators': [], 'max_depth': [], 'learning_rate': [],'max_leaves': [], 'subsample': [], 'train_score': [], 'test_score': []}\n",
    "\n",
    "# Loop through all combinations of parameters\n",
    "for n in params['n_estimators']:\n",
    "    for d in params['max_depth']:\n",
    "        for lr in params['learning_rate']:\n",
    "            for ml in params['max_leaves']:\n",
    "                for s in params['subsample']:\n",
    "                    # Initialize the classifier with current parameters\n",
    "                    xgb_rus_clf = XGBClassifier(n_estimators=n, learning_rate=lr, max_depth=d, max_leaves=ml, subsample=s, tree_method='approx', random_state=1)\n",
    "                \n",
    "                    # Fit the undersampled data\n",
    "                    xgb_rus_clf.fit(X_undersampled, y_undersampled)\n",
    "    \n",
    "                    # Make predictions\n",
    "                    train_pred = xgb_rus_clf.predict(X_train_scaled)\n",
    "                    test_pred = xgb_rus_clf.predict(X_test_scaled)\n",
    "    \n",
    "                    # Calculate balanced accuracy scores\n",
    "                    train_score = balanced_accuracy_score(y_train, train_pred)\n",
    "                    test_score = balanced_accuracy_score(y_test, test_pred)\n",
    "    \n",
    "                    # Append results to the dictionary\n",
    "                    results['n_estimators'].append(n)\n",
    "                    results['max_depth'].append(d)\n",
    "                    results['learning_rate'].append(lr)\n",
    "                    results['max_leaves'].append(ml)\n",
    "                    results['subsample'].append(s)\n",
    "                    results['train_score'].append(train_score)\n",
    "                    results['test_score'].append(test_score)\n",
    "\n",
    "# Create a DataFrame from the results dictionary\n",
    "results_df = pd.DataFrame(results)"
   ]
  },
  {
   "cell_type": "code",
   "execution_count": 44,
   "id": "73528232",
   "metadata": {},
   "outputs": [
    {
     "name": "stdout",
     "output_type": "stream",
     "text": [
      "     n_estimators  max_depth  learning_rate  max_leaves  subsample  \\\n",
      "116           109          2           0.02           4        0.1   \n",
      "197           105          2           0.02           4        0.1   \n",
      "35            108          2           0.02           4        0.1   \n",
      "\n",
      "     train_score  test_score  \n",
      "116     0.902776    0.933747  \n",
      "197     0.902776    0.933747  \n",
      "35      0.902776    0.933747  \n"
     ]
    }
   ],
   "source": [
    "sorted_results_df = results_df.sort_values(by='test_score', ascending=False)\n",
    "print(sorted_results_df.head(3))"
   ]
  },
  {
   "cell_type": "code",
   "execution_count": 45,
   "id": "8ea1a036",
   "metadata": {},
   "outputs": [
    {
     "name": "stdout",
     "output_type": "stream",
     "text": [
      "Balanced Accuracy Scores\n",
      "--------------------------------------------------------\n",
      "0.9044493183313225 training score\n",
      "0.9334648999154215 testing score\n",
      "-0.029015581584099 variance\n",
      "--------------------------------------------------------\n",
      "Classification Report - Original Data\n",
      "              precision    recall  f1-score   support\n",
      "\n",
      "           0       1.00      0.87      0.93      3547\n",
      "           1       0.49      1.00      0.66       459\n",
      "\n",
      "    accuracy                           0.88      4006\n",
      "   macro avg       0.75      0.93      0.79      4006\n",
      "weighted avg       0.94      0.88      0.90      4006\n",
      "\n",
      "--------------------------------------------------------\n"
     ]
    }
   ],
   "source": [
    "# For Classification\n",
    "# Initialize the classifier with current parameters\n",
    "xgb_rus_clf = XGBClassifier(n_estimators=162, max_depth=2, learning_rate=.03, max_leaves=3, subsample=.94, tree_method='approx', random_state=1)\n",
    "\n",
    "# Fit the undersampled data\n",
    "xgb_rus_clf.fit(X_undersampled, y_undersampled)\n",
    "\n",
    "# Make predictions\n",
    "train_pred = xgb_rus_clf.predict(X_train_scaled)\n",
    "test_pred = xgb_rus_clf.predict(X_test_scaled)\n",
    "\n",
    "# Generate classification report\n",
    "# Print scores\n",
    "print_balanced_accuracy_report(y_train, y_test, train_pred, test_pred)\n",
    "\n",
    "# Print classification reports\n",
    "print_classification_report(y_test, test_pred)"
   ]
  },
  {
   "cell_type": "markdown",
   "id": "58c07d74",
   "metadata": {},
   "source": [
    "## Original Scaled Data and Untuned LightBoost"
   ]
  },
  {
   "cell_type": "code",
   "execution_count": 46,
   "id": "73861d2d",
   "metadata": {},
   "outputs": [
    {
     "name": "stdout",
     "output_type": "stream",
     "text": [
      "Balanced Accuracy Scores\n",
      "--------------------------------------------------------\n",
      "0.836962976126268 training score\n",
      "0.6812262103726308 testing score\n",
      "0.1557367657536373 variance\n",
      "--------------------------------------------------------\n",
      "Classification Report - Original Data\n",
      "              precision    recall  f1-score   support\n",
      "\n",
      "           0       0.93      0.96      0.94      3547\n",
      "           1       0.56      0.40      0.47       459\n",
      "\n",
      "    accuracy                           0.90      4006\n",
      "   macro avg       0.74      0.68      0.71      4006\n",
      "weighted avg       0.88      0.90      0.89      4006\n",
      "\n",
      "--------------------------------------------------------\n"
     ]
    }
   ],
   "source": [
    "# Define model\n",
    "lgb_clf = lgb.LGBMClassifier(random_state=1, verbose=-1)\n",
    "\n",
    "# Fit the model\n",
    "lgb_clf.fit(X_train_scaled, y_train)\n",
    "\n",
    "# Predict using the model\n",
    "train_pred = lgb_clf.predict(X_train_scaled)\n",
    "test_pred = lgb_clf.predict(X_test_scaled)\n",
    "\n",
    "# Generate classification report\n",
    "# Print scores\n",
    "print_balanced_accuracy_report(y_train, y_test, train_pred, test_pred)\n",
    "\n",
    "# Print classification reports\n",
    "print_classification_report(y_test, test_pred)"
   ]
  },
  {
   "cell_type": "markdown",
   "id": "fe05fcd0",
   "metadata": {},
   "source": [
    "## Under Sampled Scaled Data with Untuned LightBoost"
   ]
  },
  {
   "cell_type": "code",
   "execution_count": 47,
   "id": "590f6617",
   "metadata": {},
   "outputs": [
    {
     "name": "stdout",
     "output_type": "stream",
     "text": [
      "Balanced Accuracy Scores\n",
      "--------------------------------------------------------\n",
      "0.9122301825577203 training score\n",
      "0.8923902675125747 testing score\n",
      "0.0198399150451456 variance\n",
      "--------------------------------------------------------\n",
      "Classification Report - Original Data\n",
      "              precision    recall  f1-score   support\n",
      "\n",
      "           0       0.98      0.89      0.94      3547\n",
      "           1       0.52      0.89      0.66       459\n",
      "\n",
      "    accuracy                           0.89      4006\n",
      "   macro avg       0.75      0.89      0.80      4006\n",
      "weighted avg       0.93      0.89      0.90      4006\n",
      "\n",
      "--------------------------------------------------------\n"
     ]
    }
   ],
   "source": [
    "# Define model\n",
    "lgb_rus_clf = lgb.LGBMClassifier(random_state=1, verbose=-1)\n",
    "\n",
    "# Fit the model\n",
    "lgb_rus_clf.fit(X_undersampled, y_undersampled)\n",
    "\n",
    "# Predict using the model\n",
    "train_pred = lgb_rus_clf.predict(X_train_scaled)\n",
    "test_pred = lgb_rus_clf.predict(X_test_scaled)\n",
    "\n",
    "# Generate classification report\n",
    "# Print scores\n",
    "print_balanced_accuracy_report(y_train, y_test, train_pred, test_pred)\n",
    "\n",
    "# Print classification reports\n",
    "print_classification_report(y_test, test_pred)"
   ]
  },
  {
   "cell_type": "markdown",
   "id": "445facf5",
   "metadata": {},
   "source": [
    "## RandomUnderSampler Data with Tuned Lightboost Classifier"
   ]
  },
  {
   "cell_type": "code",
   "execution_count": 48,
   "id": "f62ed5bd",
   "metadata": {},
   "outputs": [
    {
     "data": {
      "text/html": [
       "<div>\n",
       "<style scoped>\n",
       "    .dataframe tbody tr th:only-of-type {\n",
       "        vertical-align: middle;\n",
       "    }\n",
       "\n",
       "    .dataframe tbody tr th {\n",
       "        vertical-align: top;\n",
       "    }\n",
       "\n",
       "    .dataframe thead th {\n",
       "        text-align: right;\n",
       "    }\n",
       "</style>\n",
       "<table border=\"1\" class=\"dataframe\">\n",
       "  <thead>\n",
       "    <tr style=\"text-align: right;\">\n",
       "      <th></th>\n",
       "      <th>train_score</th>\n",
       "      <th>test_score</th>\n",
       "    </tr>\n",
       "    <tr>\n",
       "      <th>learning_rate</th>\n",
       "      <th></th>\n",
       "      <th></th>\n",
       "    </tr>\n",
       "  </thead>\n",
       "  <tbody>\n",
       "    <tr>\n",
       "      <th>0.05</th>\n",
       "      <td>0.907512</td>\n",
       "      <td>0.917009</td>\n",
       "    </tr>\n",
       "    <tr>\n",
       "      <th>0.06</th>\n",
       "      <td>0.908769</td>\n",
       "      <td>0.915958</td>\n",
       "    </tr>\n",
       "    <tr>\n",
       "      <th>0.08</th>\n",
       "      <td>0.910833</td>\n",
       "      <td>0.909948</td>\n",
       "    </tr>\n",
       "  </tbody>\n",
       "</table>\n",
       "</div>"
      ],
      "text/plain": [
       "               train_score  test_score\n",
       "learning_rate                         \n",
       "0.05              0.907512    0.917009\n",
       "0.06              0.908769    0.915958\n",
       "0.08              0.910833    0.909948"
      ]
     },
     "metadata": {},
     "output_type": "display_data"
    }
   ],
   "source": [
    "rates = np.arange(0.05, 1.0, 0.01)\n",
    "models = {'train_score': [], 'test_score': [], 'learning_rate': []}\n",
    "\n",
    "# Loop through each value in rates\n",
    "for r in rates:\n",
    "    # Initialize the classifier with current parameters\n",
    "    lgb_rus_clf = lgb.LGBMClassifier(learning_rate=r, random_state=1, verbose=-1)\n",
    "\n",
    "    # Fit the undersampled data\n",
    "    lgb_rus_clf.fit(X_undersampled, y_undersampled)\n",
    "\n",
    "    # Make predictions\n",
    "    train_pred = lgb_rus_clf.predict(X_train_scaled)\n",
    "    test_pred = lgb_rus_clf.predict(X_test_scaled)\n",
    "\n",
    "    # Calculate balanced accuracy score\n",
    "    train_score = balanced_accuracy_score(y_train, train_pred)\n",
    "    test_score = balanced_accuracy_score(y_test, test_pred)\n",
    "\n",
    "    # Append scores\n",
    "    models['train_score'].append(train_score)\n",
    "    models['test_score'].append(test_score)\n",
    "    models['learning_rate'].append(r)\n",
    "\n",
    "# Create a dataframe from the models dictionary with learning_rate as the index\n",
    "models_df = pd.DataFrame(models).set_index('learning_rate')\n",
    "\n",
    "# Display df\n",
    "display(models_df.sort_values(by='test_score', ascending=False).head(3))"
   ]
  },
  {
   "cell_type": "code",
   "execution_count": 49,
   "id": "41bbc603",
   "metadata": {},
   "outputs": [
    {
     "data": {
      "text/html": [
       "<div>\n",
       "<style scoped>\n",
       "    .dataframe tbody tr th:only-of-type {\n",
       "        vertical-align: middle;\n",
       "    }\n",
       "\n",
       "    .dataframe tbody tr th {\n",
       "        vertical-align: top;\n",
       "    }\n",
       "\n",
       "    .dataframe thead th {\n",
       "        text-align: right;\n",
       "    }\n",
       "</style>\n",
       "<table border=\"1\" class=\"dataframe\">\n",
       "  <thead>\n",
       "    <tr style=\"text-align: right;\">\n",
       "      <th></th>\n",
       "      <th>train_score</th>\n",
       "      <th>test_score</th>\n",
       "    </tr>\n",
       "    <tr>\n",
       "      <th>learning_rate</th>\n",
       "      <th></th>\n",
       "      <th></th>\n",
       "    </tr>\n",
       "  </thead>\n",
       "  <tbody>\n",
       "    <tr>\n",
       "      <th>0.05</th>\n",
       "      <td>0.907512</td>\n",
       "      <td>0.917009</td>\n",
       "    </tr>\n",
       "    <tr>\n",
       "      <th>0.06</th>\n",
       "      <td>0.908769</td>\n",
       "      <td>0.915958</td>\n",
       "    </tr>\n",
       "    <tr>\n",
       "      <th>0.08</th>\n",
       "      <td>0.910833</td>\n",
       "      <td>0.909948</td>\n",
       "    </tr>\n",
       "  </tbody>\n",
       "</table>\n",
       "</div>"
      ],
      "text/plain": [
       "               train_score  test_score\n",
       "learning_rate                         \n",
       "0.05              0.907512    0.917009\n",
       "0.06              0.908769    0.915958\n",
       "0.08              0.910833    0.909948"
      ]
     },
     "metadata": {},
     "output_type": "display_data"
    }
   ],
   "source": [
    "rates = np.arange(0.05, 1.0, 0.01)\n",
    "models = {'train_score': [], 'test_score': [], 'learning_rate': []}\n",
    "\n",
    "# Loop through each value in rates\n",
    "for r in rates:\n",
    "    # Initialize the classifier with current parameters\n",
    "    lgb_rus_clf = lgb.LGBMClassifier(learning_rate=r, random_state=1, verbose=-1)\n",
    "\n",
    "    # Fit the undersampled data\n",
    "    lgb_rus_clf.fit(X_undersampled, y_undersampled)\n",
    "\n",
    "    # Make predictions\n",
    "    train_pred = lgb_rus_clf.predict(X_train_scaled)\n",
    "    test_pred = lgb_rus_clf.predict(X_test_scaled)\n",
    "\n",
    "    # Calculate balanced accuracy score\n",
    "    train_score = balanced_accuracy_score(y_train, train_pred)\n",
    "    test_score = balanced_accuracy_score(y_test, test_pred)\n",
    "\n",
    "    # Append scores\n",
    "    models['train_score'].append(train_score)\n",
    "    models['test_score'].append(test_score)\n",
    "    models['learning_rate'].append(r)\n",
    "\n",
    "# Create a dataframe from the models dictionary with learning_rate as the index\n",
    "models_df = pd.DataFrame(models).set_index('learning_rate')\n",
    "\n",
    "# Display df\n",
    "display(models_df.sort_values(by='test_score', ascending=False).head(3))"
   ]
  },
  {
   "cell_type": "code",
   "execution_count": 50,
   "id": "1da334b7",
   "metadata": {},
   "outputs": [
    {
     "data": {
      "text/plain": [
       "[0.05, 0.060000000000000005, 0.08000000000000002]"
      ]
     },
     "execution_count": 50,
     "metadata": {},
     "output_type": "execute_result"
    }
   ],
   "source": [
    "# Sort the dataframe by test_score in descending order and get the top 3\n",
    "learning_rate = models_df.sort_values(by='test_score', ascending=False).head(3).index.tolist()\n",
    "\n",
    "# Display the top 3\n",
    "learning_rate"
   ]
  },
  {
   "cell_type": "code",
   "execution_count": 51,
   "id": "b4447761",
   "metadata": {},
   "outputs": [
    {
     "data": {
      "text/plain": [
       "<Axes: xlabel='learning_rate'>"
      ]
     },
     "execution_count": 51,
     "metadata": {},
     "output_type": "execute_result"
    },
    {
     "data": {
      "image/png": "[encoded data removed]",
      "text/plain": [
       "<Figure size 640x480 with 1 Axes>"
      ]
     },
     "metadata": {},
     "output_type": "display_data"
    }
   ],
   "source": [
    "# Plot the results\n",
    "models_df.plot()"
   ]
  },
  {
   "cell_type": "code",
   "execution_count": 52,
   "id": "645ee26c-90ad-4f98-b600-9ccc20743e2a",
   "metadata": {},
   "outputs": [
    {
     "data": {
      "text/html": [
       "<div>\n",
       "<style scoped>\n",
       "    .dataframe tbody tr th:only-of-type {\n",
       "        vertical-align: middle;\n",
       "    }\n",
       "\n",
       "    .dataframe tbody tr th {\n",
       "        vertical-align: top;\n",
       "    }\n",
       "\n",
       "    .dataframe thead th {\n",
       "        text-align: right;\n",
       "    }\n",
       "</style>\n",
       "<table border=\"1\" class=\"dataframe\">\n",
       "  <thead>\n",
       "    <tr style=\"text-align: right;\">\n",
       "      <th></th>\n",
       "      <th>train_score</th>\n",
       "      <th>test_score</th>\n",
       "    </tr>\n",
       "    <tr>\n",
       "      <th>n_estimators</th>\n",
       "      <th></th>\n",
       "      <th></th>\n",
       "    </tr>\n",
       "  </thead>\n",
       "  <tbody>\n",
       "    <tr>\n",
       "      <th>100</th>\n",
       "      <td>0.912230</td>\n",
       "      <td>0.89239</td>\n",
       "    </tr>\n",
       "    <tr>\n",
       "      <th>102</th>\n",
       "      <td>0.912259</td>\n",
       "      <td>0.89239</td>\n",
       "    </tr>\n",
       "    <tr>\n",
       "      <th>103</th>\n",
       "      <td>0.912375</td>\n",
       "      <td>0.89239</td>\n",
       "    </tr>\n",
       "  </tbody>\n",
       "</table>\n",
       "</div>"
      ],
      "text/plain": [
       "              train_score  test_score\n",
       "n_estimators                         \n",
       "100              0.912230     0.89239\n",
       "102              0.912259     0.89239\n",
       "103              0.912375     0.89239"
      ]
     },
     "metadata": {},
     "output_type": "display_data"
    }
   ],
   "source": [
    "# Try the following values for n_estimators\n",
    "estimators = range(100, 250, 1)\n",
    "models = {'train_score': [], 'test_score': [], 'n_estimators': []}\n",
    "\n",
    "# Loop through each value in n_estimators\n",
    "for n in estimators:\n",
    "    # Initialize the classifier with current parameters\n",
    "    lgb_rus_clf =lgb.LGBMClassifier(n_estimators = n, random_state=1, verbose=-1)\n",
    "\n",
    "    # Fit the undersampled data\n",
    "    lgb_rus_clf.fit(X_undersampled, y_undersampled)\n",
    "\n",
    "    # Make predictions\n",
    "    train_pred = lgb_rus_clf.predict(X_train_scaled)\n",
    "    test_pred = lgb_rus_clf.predict(X_test_scaled)\n",
    "\n",
    "    # Calculate balanced accuracy scores\n",
    "    train_score = balanced_accuracy_score(y_train, train_pred)\n",
    "    test_score = balanced_accuracy_score(y_test, test_pred)\n",
    "\n",
    "    # Append scores\n",
    "    models['train_score'].append(train_score)\n",
    "    models['test_score'].append(test_score)\n",
    "    models['n_estimators'].append(n)\n",
    "\n",
    "# Create a dataframe from the models dictionary with n_estimators as the index\n",
    "models_df = pd.DataFrame(models).set_index('n_estimators')\n",
    "\n",
    "# Display df\n",
    "display(models_df.sort_values(by='test_score', ascending=False).head(3))"
   ]
  },
  {
   "cell_type": "code",
   "execution_count": 53,
   "id": "219ddcf5",
   "metadata": {},
   "outputs": [
    {
     "data": {
      "text/plain": [
       "[100, 102, 103]"
      ]
     },
     "execution_count": 53,
     "metadata": {},
     "output_type": "execute_result"
    }
   ],
   "source": [
    "# Sort the dataframe by test_score in descending order and get the top 3\n",
    "n_estimators = models_df.sort_values(by='test_score', ascending=False).head(3).index.tolist()\n",
    "\n",
    "# Display the top 3\n",
    "n_estimators"
   ]
  },
  {
   "cell_type": "code",
   "execution_count": 54,
   "id": "2130d35e",
   "metadata": {},
   "outputs": [
    {
     "data": {
      "text/plain": [
       "<Axes: xlabel='n_estimators'>"
      ]
     },
     "execution_count": 54,
     "metadata": {},
     "output_type": "execute_result"
    },
    {
     "data": {
      "image/png": "[encoded data removed]",
      "text/plain": [
       "<Figure size 640x480 with 1 Axes>"
      ]
     },
     "metadata": {},
     "output_type": "display_data"
    }
   ],
   "source": [
    "# Plot the results\n",
    "models_df.plot()"
   ]
  },
  {
   "cell_type": "code",
   "execution_count": 55,
   "id": "05ee3d0a",
   "metadata": {},
   "outputs": [
    {
     "data": {
      "text/html": [
       "<div>\n",
       "<style scoped>\n",
       "    .dataframe tbody tr th:only-of-type {\n",
       "        vertical-align: middle;\n",
       "    }\n",
       "\n",
       "    .dataframe tbody tr th {\n",
       "        vertical-align: top;\n",
       "    }\n",
       "\n",
       "    .dataframe thead th {\n",
       "        text-align: right;\n",
       "    }\n",
       "</style>\n",
       "<table border=\"1\" class=\"dataframe\">\n",
       "  <thead>\n",
       "    <tr style=\"text-align: right;\">\n",
       "      <th></th>\n",
       "      <th>train_score</th>\n",
       "      <th>test_score</th>\n",
       "    </tr>\n",
       "    <tr>\n",
       "      <th>max_depth</th>\n",
       "      <th></th>\n",
       "      <th></th>\n",
       "    </tr>\n",
       "  </thead>\n",
       "  <tbody>\n",
       "    <tr>\n",
       "      <th>2</th>\n",
       "      <td>0.903848</td>\n",
       "      <td>0.925609</td>\n",
       "    </tr>\n",
       "    <tr>\n",
       "      <th>3</th>\n",
       "      <td>0.904908</td>\n",
       "      <td>0.925609</td>\n",
       "    </tr>\n",
       "    <tr>\n",
       "      <th>4</th>\n",
       "      <td>0.905488</td>\n",
       "      <td>0.923571</td>\n",
       "    </tr>\n",
       "  </tbody>\n",
       "</table>\n",
       "</div>"
      ],
      "text/plain": [
       "           train_score  test_score\n",
       "max_depth                         \n",
       "2             0.903848    0.925609\n",
       "3             0.904908    0.925609\n",
       "4             0.905488    0.923571"
      ]
     },
     "metadata": {},
     "output_type": "display_data"
    }
   ],
   "source": [
    "# Try the following values for max_depth\n",
    "max_depths = range(2, 30)\n",
    "models = {'train_score': [], 'test_score': [], 'max_depth': []}\n",
    "\n",
    "# Loop through each value in max_depths\n",
    "for depth in max_depths:\n",
    "    # Initialize the classifier with current parameters\n",
    "    lgb_rus_clf = lgb.LGBMClassifier(max_depth = depth, random_state=1, verbose=-1)\n",
    "    \n",
    "    # Fit the undersampled data\n",
    "    lgb_rus_clf.fit(X_undersampled, y_undersampled)\n",
    "\n",
    "    # Make predictions\n",
    "    train_pred = lgb_rus_clf.predict(X_train_scaled)\n",
    "    test_pred = lgb_rus_clf.predict(X_test_scaled)\n",
    "\n",
    "    # Calculate balanced accuracy scores\n",
    "    train_score = balanced_accuracy_score(y_train, train_pred)\n",
    "    test_score = balanced_accuracy_score(y_test, test_pred)\n",
    " \n",
    "    # Append scores\n",
    "    models['train_score'].append(train_score)\n",
    "    models['test_score'].append(test_score)\n",
    "    models['max_depth'].append(depth)\n",
    "\n",
    "# Create a dataframe from the models dictionary with max_depth as the index\n",
    "models_df = pd.DataFrame(models).set_index('max_depth')\n",
    "\n",
    "# Display df\n",
    "display(models_df.sort_values(by='test_score', ascending=False).head(3))"
   ]
  },
  {
   "cell_type": "code",
   "execution_count": 56,
   "id": "4389882a",
   "metadata": {},
   "outputs": [
    {
     "data": {
      "text/plain": [
       "[2, 3, 4]"
      ]
     },
     "execution_count": 56,
     "metadata": {},
     "output_type": "execute_result"
    }
   ],
   "source": [
    "# Sort the dataframe by test_score in descending order and get the top 3\n",
    "max_depth = models_df.sort_values(by='test_score', ascending=False).head(3).index.tolist()\n",
    "\n",
    "# Display the top 3 \n",
    "max_depth"
   ]
  },
  {
   "cell_type": "code",
   "execution_count": 57,
   "id": "8ba5be79",
   "metadata": {},
   "outputs": [
    {
     "data": {
      "text/plain": [
       "<Axes: xlabel='max_depth'>"
      ]
     },
     "execution_count": 57,
     "metadata": {},
     "output_type": "execute_result"
    },
    {
     "data": {
      "image/png": "[encoded data removed]",
      "text/plain": [
       "<Figure size 640x480 with 1 Axes>"
      ]
     },
     "metadata": {},
     "output_type": "display_data"
    }
   ],
   "source": [
    "# Plot the results\n",
    "models_df.plot()"
   ]
  },
  {
   "cell_type": "code",
   "execution_count": 58,
   "id": "dbd1bcf9",
   "metadata": {},
   "outputs": [
    {
     "data": {
      "text/html": [
       "<div>\n",
       "<style scoped>\n",
       "    .dataframe tbody tr th:only-of-type {\n",
       "        vertical-align: middle;\n",
       "    }\n",
       "\n",
       "    .dataframe tbody tr th {\n",
       "        vertical-align: top;\n",
       "    }\n",
       "\n",
       "    .dataframe thead th {\n",
       "        text-align: right;\n",
       "    }\n",
       "</style>\n",
       "<table border=\"1\" class=\"dataframe\">\n",
       "  <thead>\n",
       "    <tr style=\"text-align: right;\">\n",
       "      <th></th>\n",
       "      <th>train_score</th>\n",
       "      <th>test_score</th>\n",
       "    </tr>\n",
       "    <tr>\n",
       "      <th>num_leaves</th>\n",
       "      <th></th>\n",
       "      <th></th>\n",
       "    </tr>\n",
       "  </thead>\n",
       "  <tbody>\n",
       "    <tr>\n",
       "      <th>10</th>\n",
       "      <td>0.906851</td>\n",
       "      <td>0.925224</td>\n",
       "    </tr>\n",
       "    <tr>\n",
       "      <th>11</th>\n",
       "      <td>0.907470</td>\n",
       "      <td>0.918099</td>\n",
       "    </tr>\n",
       "    <tr>\n",
       "      <th>12</th>\n",
       "      <td>0.907349</td>\n",
       "      <td>0.914023</td>\n",
       "    </tr>\n",
       "  </tbody>\n",
       "</table>\n",
       "</div>"
      ],
      "text/plain": [
       "            train_score  test_score\n",
       "num_leaves                         \n",
       "10             0.906851    0.925224\n",
       "11             0.907470    0.918099\n",
       "12             0.907349    0.914023"
      ]
     },
     "metadata": {},
     "output_type": "display_data"
    }
   ],
   "source": [
    "# Try the following values for num_leaves\n",
    "num_leaves = range(10, 50)\n",
    "models = {'train_score': [], 'test_score': [], 'num_leaves': []}\n",
    "\n",
    "# Loop through each value in num_leaves\n",
    "for num in num_leaves:\n",
    "    # Initialize the classifier with current parameters\n",
    "    lgb_rus_clf = lgb.LGBMClassifier(num_leaves = num, random_state=1, verbose=-1)\n",
    "    \n",
    "    # Fit the undersampled data\n",
    "    lgb_rus_clf.fit(X_undersampled, y_undersampled)\n",
    "\n",
    "    # Make predictions\n",
    "    train_pred = lgb_rus_clf.predict(X_train_scaled)\n",
    "    test_pred = lgb_rus_clf.predict(X_test_scaled)\n",
    "\n",
    "    # Calculate balanced accuracy scores\n",
    "    train_score = balanced_accuracy_score(y_train, train_pred)\n",
    "    test_score = balanced_accuracy_score(y_test, test_pred)\n",
    " \n",
    "    # Append scores\n",
    "    models['train_score'].append(train_score)\n",
    "    models['test_score'].append(test_score)\n",
    "    models['num_leaves'].append(num)\n",
    "\n",
    "# Create a dataframe from the models dictionary with max_depth as the index\n",
    "models_df = pd.DataFrame(models).set_index('num_leaves')\n",
    "\n",
    "# Display df\n",
    "display(models_df.sort_values(by='test_score', ascending=False).head(3))"
   ]
  },
  {
   "cell_type": "code",
   "execution_count": 59,
   "id": "f230a331",
   "metadata": {},
   "outputs": [
    {
     "data": {
      "text/plain": [
       "[10, 11, 12]"
      ]
     },
     "execution_count": 59,
     "metadata": {},
     "output_type": "execute_result"
    }
   ],
   "source": [
    "# Sort the dataframe by test_score in descending order and get the top 3\n",
    "num_leaves = models_df.sort_values(by='test_score', ascending=False).head(3).index.tolist()\n",
    "\n",
    "# Display the top 3 \n",
    "num_leaves"
   ]
  },
  {
   "cell_type": "code",
   "execution_count": 60,
   "id": "70970d8b",
   "metadata": {},
   "outputs": [
    {
     "data": {
      "text/plain": [
       "<Axes: xlabel='num_leaves'>"
      ]
     },
     "execution_count": 60,
     "metadata": {},
     "output_type": "execute_result"
    },
    {
     "data": {
      "image/png": "[encoded data removed]",
      "text/plain": [
       "<Figure size 640x480 with 1 Axes>"
      ]
     },
     "metadata": {},
     "output_type": "display_data"
    }
   ],
   "source": [
    "# Plot the results\n",
    "models_df.plot()"
   ]
  },
  {
   "cell_type": "code",
   "execution_count": 61,
   "id": "af233370",
   "metadata": {},
   "outputs": [
    {
     "data": {
      "text/html": [
       "<div>\n",
       "<style scoped>\n",
       "    .dataframe tbody tr th:only-of-type {\n",
       "        vertical-align: middle;\n",
       "    }\n",
       "\n",
       "    .dataframe tbody tr th {\n",
       "        vertical-align: top;\n",
       "    }\n",
       "\n",
       "    .dataframe thead th {\n",
       "        text-align: right;\n",
       "    }\n",
       "</style>\n",
       "<table border=\"1\" class=\"dataframe\">\n",
       "  <thead>\n",
       "    <tr style=\"text-align: right;\">\n",
       "      <th></th>\n",
       "      <th>train_score</th>\n",
       "      <th>test_score</th>\n",
       "    </tr>\n",
       "    <tr>\n",
       "      <th>max_bin</th>\n",
       "      <th></th>\n",
       "      <th></th>\n",
       "    </tr>\n",
       "  </thead>\n",
       "  <tbody>\n",
       "    <tr>\n",
       "      <th>22</th>\n",
       "      <td>0.907206</td>\n",
       "      <td>0.932170</td>\n",
       "    </tr>\n",
       "    <tr>\n",
       "      <th>86</th>\n",
       "      <td>0.910282</td>\n",
       "      <td>0.930940</td>\n",
       "    </tr>\n",
       "    <tr>\n",
       "      <th>80</th>\n",
       "      <td>0.909808</td>\n",
       "      <td>0.930722</td>\n",
       "    </tr>\n",
       "  </tbody>\n",
       "</table>\n",
       "</div>"
      ],
      "text/plain": [
       "         train_score  test_score\n",
       "max_bin                         \n",
       "22          0.907206    0.932170\n",
       "86          0.910282    0.930940\n",
       "80          0.909808    0.930722"
      ]
     },
     "metadata": {},
     "output_type": "display_data"
    }
   ],
   "source": [
    "# Try the following values for max_bin\n",
    "max_bin = range(20, 512, 1)\n",
    "models = {'train_score': [], 'test_score': [], 'max_bin': []}\n",
    "\n",
    "# Loop through each value in max_bins\n",
    "for bin in max_bin:\n",
    "    # Initialize the classifier with current parameters\n",
    "    lgb_rus_clf = lgb.LGBMClassifier(max_bin = bin, random_state=1, verbose=-1)\n",
    "    \n",
    "    # Fit the undersampled data\n",
    "    lgb_rus_clf.fit(X_undersampled, y_undersampled)\n",
    "\n",
    "    # Make predictions\n",
    "    train_pred = lgb_rus_clf.predict(X_train_scaled)\n",
    "    test_pred = lgb_rus_clf.predict(X_test_scaled)\n",
    "\n",
    "    # Calculate balanced accuracy scores\n",
    "    train_score = balanced_accuracy_score(y_train, train_pred)\n",
    "    test_score = balanced_accuracy_score(y_test, test_pred)\n",
    " \n",
    "    # Append scores\n",
    "    models['train_score'].append(train_score)\n",
    "    models['test_score'].append(test_score)\n",
    "    models['max_bin'].append(bin)\n",
    "\n",
    "# Create a dataframe from the models dictionary with max_depth as the index\n",
    "models_df = pd.DataFrame(models).set_index('max_bin')\n",
    "\n",
    "# Display df\n",
    "display(models_df.sort_values(by='test_score', ascending=False).head(3))"
   ]
  },
  {
   "cell_type": "code",
   "execution_count": 62,
   "id": "08a954e9",
   "metadata": {},
   "outputs": [
    {
     "data": {
      "text/plain": [
       "[22, 86, 80]"
      ]
     },
     "execution_count": 62,
     "metadata": {},
     "output_type": "execute_result"
    }
   ],
   "source": [
    "# Sort the dataframe by test_score in descending order and get the top 3\n",
    "max_bin = models_df.sort_values(by='test_score', ascending=False).head(3).index.tolist()\n",
    "\n",
    "# Display the top 3 \n",
    "max_bin"
   ]
  },
  {
   "cell_type": "code",
   "execution_count": 63,
   "id": "57c6f85a",
   "metadata": {},
   "outputs": [
    {
     "data": {
      "text/plain": [
       "<Axes: xlabel='max_bin'>"
      ]
     },
     "execution_count": 63,
     "metadata": {},
     "output_type": "execute_result"
    },
    {
     "data": {
      "image/png": "[encoded data removed]",
      "text/plain": [
       "<Figure size 640x480 with 1 Axes>"
      ]
     },
     "metadata": {},
     "output_type": "display_data"
    }
   ],
   "source": [
    "# Plot the results\n",
    "models_df.plot()"
   ]
  },
  {
   "cell_type": "code",
   "execution_count": 64,
   "id": "d847e675",
   "metadata": {},
   "outputs": [],
   "source": [
    "# Dictionary with 3 values for each parameter\n",
    "params = {\n",
    "    'n_estimators': n_estimators,\n",
    "    'max_depth': max_depth,\n",
    "    'learning_rate': learning_rate,\n",
    "    'num_leaves': num_leaves,\n",
    "    'max_bin': max_bin\n",
    "}\n",
    "\n",
    "# Initialize a dictionary to store results\n",
    "results = {'n_estimators': [], 'max_depth': [], 'learning_rate': [], 'num_leaves': [], 'max_bin': [], 'train_score': [], 'test_score': []}\n",
    "\n",
    "# Loop through all combinations of parameters\n",
    "for n in params['n_estimators']:\n",
    "    for d in params['max_depth']:\n",
    "        for lr in params['learning_rate']:\n",
    "            for nl in params['num_leaves']:\n",
    "                for b in params['max_bin']:\n",
    "                    # Initialize the classifier with current parameters\n",
    "                    lgb_rus_clf = lgb.LGBMClassifier(n_estimators=n, learning_rate=lr, max_depth=d, num_leaves=nl, max_bin=b, random_state=1, verbose=-1)\n",
    "                \n",
    "                    # Fit the undersampled data\n",
    "                    lgb_rus_clf.fit(X_undersampled, y_undersampled)\n",
    "    \n",
    "                    # Make predictions\n",
    "                    train_pred = lgb_rus_clf.predict(X_train_scaled)\n",
    "                    test_pred = lgb_rus_clf.predict(X_test_scaled)\n",
    "    \n",
    "                    # Calculate balanced accuracy scores\n",
    "                    train_score = balanced_accuracy_score(y_train, train_pred)\n",
    "                    test_score = balanced_accuracy_score(y_test, test_pred)\n",
    "    \n",
    "                    # Append results to the dictionary\n",
    "                    results['n_estimators'].append(n)\n",
    "                    results['max_depth'].append(d)\n",
    "                    results['learning_rate'].append(lr)\n",
    "                    results['num_leaves'].append(nl)\n",
    "                    results['max_bin'].append(b)\n",
    "                    results['train_score'].append(train_score)\n",
    "                    results['test_score'].append(test_score)\n",
    "                    \n",
    "# Create a DataFrame from the results dictionary\n",
    "results_df = pd.DataFrame(results)"
   ]
  },
  {
   "cell_type": "code",
   "execution_count": 65,
   "id": "7b837dad",
   "metadata": {},
   "outputs": [
    {
     "name": "stdout",
     "output_type": "stream",
     "text": [
      "     n_estimators  max_depth  learning_rate  num_leaves  max_bin  train_score  \\\n",
      "157           102          4           0.08          11       86     0.902965   \n",
      "154           102          4           0.08          10       86     0.902786   \n",
      "235           103          4           0.08          10       86     0.902786   \n",
      "\n",
      "     test_score  \n",
      "157    0.933747  \n",
      "154    0.933747  \n",
      "235    0.933747  \n"
     ]
    }
   ],
   "source": [
    "sorted_results_df = results_df.sort_values(by='test_score', ascending=False)\n",
    "print(sorted_results_df.head(3))"
   ]
  },
  {
   "cell_type": "code",
   "execution_count": 66,
   "id": "9439f371",
   "metadata": {},
   "outputs": [
    {
     "name": "stdout",
     "output_type": "stream",
     "text": [
      "RandomUnderSampled Data and Tuned LGB Classifer\n",
      "--------------------------------------------------------\n",
      "0.9049214826176826 training score\n",
      "0.9332597494092709 testing score\n",
      "-0.0283382667915884 variance\n",
      "--------------------------------------------------------\n",
      "Classification Report - Original Data\n",
      "              precision    recall  f1-score   support\n",
      "\n",
      "           0       1.00      0.87      0.93      3547\n",
      "           1       0.50      1.00      0.67       459\n",
      "\n",
      "    accuracy                           0.89      4006\n",
      "   macro avg       0.75      0.93      0.80      4006\n",
      "weighted avg       0.94      0.89      0.90      4006\n",
      "\n",
      "--------------------------------------------------------\n"
     ]
    }
   ],
   "source": [
    "# For Classification\n",
    "# Initialize the classifier with current parameters\n",
    "lgb_rus_clf = lgb.LGBMClassifier(n_estimators=102, max_depth=19, learning_rate=.07, num_leaves=26, max_bin=22, random_state=1, verbose=-1)\n",
    "\n",
    "# Fit the undersampled data\n",
    "lgb_rus_clf.fit(X_undersampled, y_undersampled)\n",
    "\n",
    "# Make predictions\n",
    "train_pred = lgb_rus_clf.predict(X_train_scaled)\n",
    "test_pred = lgb_rus_clf.predict(X_test_scaled)\n",
    "\n",
    "# Check the model's balanced accuracy on the training and test sets\n",
    "# Print scores\n",
    "print_balanced_accuracy_report(y_train, y_test, train_pred, test_pred, \"RandomUnderSampled Data and Tuned LGB Classifer\")\n",
    "\n",
    "# Print classification reports\n",
    "print_classification_report(y_test, test_pred)"
   ]
  },
  {
   "cell_type": "code",
   "execution_count": 67,
   "id": "a989bba5",
   "metadata": {},
   "outputs": [
    {
     "data": {
      "text/plain": [
       "[(569, 'RSI'),\n",
       " (513, 'MACD'),\n",
       " (482, 'SL'),\n",
       " (213, 'SMA200'),\n",
       " (188, 'SMA10'),\n",
       " (152, 'SMA100'),\n",
       " (146, 'BollL'),\n",
       " (109, 'SMA50'),\n",
       " (99, 'BollU'),\n",
       " (79, 'SMA20'),\n",
       " (0, 'SMA30'),\n",
       " (0, 'BollM')]"
      ]
     },
     "execution_count": 67,
     "metadata": {},
     "output_type": "execute_result"
    }
   ],
   "source": [
    "# Get the feature importance array\n",
    "importances = lgb_rus_clf.feature_importances_\n",
    "# List the top 10 most important features\n",
    "importances_sorted = sorted(zip(lgb_rus_clf.feature_importances_, X.columns), reverse=True)\n",
    "importances_sorted"
   ]
  },
  {
   "cell_type": "code",
   "execution_count": null,
   "id": "219dc996",
   "metadata": {},
   "outputs": [],
   "source": []
  }
 ],
 "metadata": {
  "kernelspec": {
   "display_name": "Python 3 (ipykernel)",
   "language": "python",
   "name": "python3"
  },
  "language_info": {
   "codemirror_mode": {
    "name": "ipython",
    "version": 3
   },
   "file_extension": ".py",
   "mimetype": "text/x-python",
   "name": "python",
   "nbconvert_exporter": "python",
   "pygments_lexer": "ipython3",
   "version": "3.10.13"
  }
 },
 "nbformat": 4,
 "nbformat_minor": 5
}
